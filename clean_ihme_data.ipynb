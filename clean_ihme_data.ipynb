{
 "cells": [
  {
   "cell_type": "code",
   "metadata": {
    "tags": [],
    "cell_id": "00001-ba014d51-1d44-4bf7-a127-358fa3bbca4b",
    "deepnote_to_be_reexecuted": false,
    "source_hash": "a8def8d5",
    "execution_start": 1637101785974,
    "execution_millis": 1234,
    "deepnote_cell_type": "code"
   },
   "source": "!ls /datasets/usc-drive/\"DSO 510 - Food Deserts\"/IHME_USA_COUNTY_CVD_MORTALITY_RATES_1980_2014_NATIONAL_Y2017M05D16.XLSX",
   "outputs": [
    {
     "name": "stdout",
     "text": "'/datasets/usc-drive/DSO 510 - Food Deserts/IHME_USA_COUNTY_CVD_MORTALITY_RATES_1980_2014_NATIONAL_Y2017M05D16.XLSX'\r\n",
     "output_type": "stream"
    }
   ],
   "execution_count": 1
  },
  {
   "cell_type": "code",
   "metadata": {
    "tags": [],
    "cell_id": "00002-c78bc639-0949-4b31-826c-f3947736a3db",
    "deepnote_to_be_reexecuted": false,
    "source_hash": "d54865f2",
    "execution_start": 1637105911162,
    "execution_millis": 0,
    "deepnote_cell_type": "code"
   },
   "source": "import pandas as pd\n\ndef merge_health_data(path: str):\n    \"\"\"\n    Takes input file path, merges all sheets of IHME file, and writes result back to same drive\n    \"\"\"\n    global df\n    sheet_to_df_map = pd.read_excel(path, sheet_name=None, engine='openpyxl')\n\n    for idx, key in enumerate(list(sheet_to_df_map.keys())):\n        print(f'On sheet {idx+1}/{len(list(sheet_to_df_map.keys()))}', end='\\r')\n        temp = pd.read_excel(path, sheet_name=key, engine='openpyxl', skiprows=1)\n\n        # remove states & header rows\n        temp = temp[temp['FIPS'] >= 1000]\n        # separate state & county into 2 columns\n        temp[['county', 'state']] = temp.loc[:,'Location'].str.split(', ', 1, expand=True)\n        # clean & reshape data\n        temp = temp.drop('Location', axis=1) \\\n            .melt(id_vars=[\"FIPS\", \"state\", \"county\"], \n                    var_name=\"Date\", \n                    value_name=\"Value\") \\\n            .query(\"Date.str.contains('Change')==False\")\n\n        temp[\"mortality\"] = temp.Value.apply(lambda x: float(x.split(' ')[0]))\n        temp[\"lower_95\"] = temp.Value.apply(lambda x: float(x.split(' ')[1].replace('(', '').replace(',', '')))\n        temp[\"upper_95\"] = temp.Value.apply(lambda x: float(x.split(' ')[2].replace(')', '')))\n        temp['year'] = temp.Date.apply(lambda x: int(x.split(',')[1].replace('*', '')))\n        temp = temp[['FIPS', 'state', 'county', 'year', \"mortality\", \"lower_95\", \"upper_95\"]]\n        temp['disease'] = key\n        \n        # initialize result in 1st iteration, concat after\n        if idx == 0:\n            df = temp\n        else:\n            temp = temp[[col for col in temp.columns if 'county' not in col and 'state' not in col]]\n            df = pd.concat([df, temp], axis=0)\n            \n    #write back to path      \n    df.to_excel(\"/\".join(s.split('/')[:-1]) + \"/health_data_clean.xlsx\", index=False)\n\n    return f'Wrote result back to {\"/\".join(s.split(\"/\")[:-1]) + \"/health_data_clean.xlsx\"}'\n     \n",
   "outputs": [],
   "execution_count": 103
  },
  {
   "cell_type": "code",
   "metadata": {
    "tags": [],
    "cell_id": "00003-f6ac10cd-2d99-4f20-bca7-3621273e8ddc",
    "deepnote_to_be_reexecuted": false,
    "source_hash": "4db31aa0",
    "execution_start": 1637105911944,
    "execution_millis": 267719,
    "deepnote_cell_type": "code"
   },
   "source": "merge_health_data('/datasets/usc-drive/DSO 510 - Food Deserts/IHME_USA_COUNTY_CVD_MORTALITY_RATES_1980_2014_NATIONAL_Y2017M05D16.XLSX')",
   "outputs": [
    {
     "name": "stdout",
     "text": "",
     "output_type": "stream"
    },
    {
     "name": "stdout",
     "text": "",
     "output_type": "stream"
    },
    {
     "name": "stdout",
     "text": "",
     "output_type": "stream"
    },
    {
     "name": "stdout",
     "text": "",
     "output_type": "stream"
    },
    {
     "name": "stdout",
     "text": "",
     "output_type": "stream"
    },
    {
     "name": "stdout",
     "text": "",
     "output_type": "stream"
    },
    {
     "name": "stdout",
     "text": "On sheet 13/13\r",
     "output_type": "stream"
    },
    {
     "output_type": "execute_result",
     "execution_count": 104,
     "data": {
      "text/plain": "'Wrote result back to /datasets/usc-drive/DSO 510 - Food Deserts/health_data_clean.xlsx'"
     },
     "metadata": {}
    }
   ],
   "execution_count": 104
  },
  {
   "cell_type": "markdown",
   "source": "<a style='text-decoration:none;line-height:16px;display:flex;color:#5B5B62;padding:10px;justify-content:end;' href='https://deepnote.com?utm_source=created-in-deepnote-cell&projectId=a805a7fe-fe3d-44c2-a936-f271a2a4c12f' target=\"_blank\">\n<img alt='Created in deepnote.com' style='display:inline;max-height:16px;margin:0px;margin-right:7.5px;' src='data:image/svg+xml;base64,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' > </img>\nCreated in <span style='font-weight:600;margin-left:4px;'>Deepnote</span></a>",
   "metadata": {
    "tags": [],
    "created_in_deepnote_cell": true,
    "deepnote_cell_type": "markdown"
   }
  }
 ],
 "nbformat": 4,
 "nbformat_minor": 2,
 "metadata": {
  "orig_nbformat": 2,
  "deepnote": {
   "is_reactive": false
  },
  "deepnote_notebook_id": "4403b420-76a3-4049-b7ef-54560d08f623",
  "deepnote_execution_queue": []
 }
}