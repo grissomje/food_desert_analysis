{
 "cells": [
  {
   "cell_type": "markdown",
   "source": "### Merging food access and health data",
   "metadata": {
    "tags": [],
    "cell_id": "00000-ec31f1de-9603-4d9e-90bd-40deffd7d2a5",
    "deepnote_cell_type": "markdown"
   }
  },
  {
   "cell_type": "code",
   "metadata": {
    "cell_id": "00000-1d857196-7317-43e3-922e-fb289e8c582b",
    "deepnote_cell_type": "code"
   },
   "source": "import pandas as pd",
   "execution_count": null,
   "outputs": []
  },
  {
   "cell_type": "code",
   "metadata": {
    "cell_id": "00001-2b661c06-d32f-4519-b859-e3140e214315",
    "deepnote_output_heights": [
     206
    ],
    "output_cleared": true,
    "deepnote_cell_type": "code"
   },
   "source": "# reading food data\nfood = pd.read_excel('clean_food_access.xlsx', index_col=0)\nfood.head()",
   "execution_count": null,
   "outputs": []
  },
  {
   "cell_type": "code",
   "metadata": {
    "cell_id": "00002-58ed930b-9d90-408c-b313-910cbb67ec95",
    "deepnote_output_heights": [
     21.171875
    ],
    "deepnote_cell_type": "code"
   },
   "source": "# which years are available?\nfood['year'].unique()",
   "execution_count": null,
   "outputs": [
    {
     "data": {
      "text/plain": "array([2010, 2011, 2012, 2013, 2014, 2015, 2016, 2007, 2018], dtype=int64)"
     },
     "execution_count": 18,
     "metadata": {},
     "output_type": "execute_result"
    }
   ]
  },
  {
   "cell_type": "code",
   "metadata": {
    "cell_id": "00004-af3659f0-d7c9-45e4-8f37-1c6d60d52ebd",
    "deepnote_output_heights": [
     177.671875
    ],
    "deepnote_cell_type": "code"
   },
   "source": "# read health data\nhealth = pd.read_excel('health_data_clean.xlsx')\nhealth.head()",
   "execution_count": null,
   "outputs": [
    {
     "data": {
      "text/html": "<div>\n<style scoped>\n    .dataframe tbody tr th:only-of-type {\n        vertical-align: middle;\n    }\n\n    .dataframe tbody tr th {\n        vertical-align: top;\n    }\n\n    .dataframe thead th {\n        text-align: right;\n    }\n</style>\n<table border=\"1\" class=\"dataframe\">\n  <thead>\n    <tr style=\"text-align: right;\">\n      <th></th>\n      <th>FIPS</th>\n      <th>state</th>\n      <th>county</th>\n      <th>year</th>\n      <th>mortality</th>\n      <th>lower_95</th>\n      <th>upper_95</th>\n      <th>disease</th>\n    </tr>\n  </thead>\n  <tbody>\n    <tr>\n      <th>0</th>\n      <td>1001</td>\n      <td>Alabama</td>\n      <td>Autauga County</td>\n      <td>1980</td>\n      <td>552.68</td>\n      <td>521.37</td>\n      <td>586.71</td>\n      <td>Cardiovascular diseases</td>\n    </tr>\n    <tr>\n      <th>1</th>\n      <td>1003</td>\n      <td>Alabama</td>\n      <td>Baldwin County</td>\n      <td>1980</td>\n      <td>445.67</td>\n      <td>423.09</td>\n      <td>467.49</td>\n      <td>Cardiovascular diseases</td>\n    </tr>\n    <tr>\n      <th>2</th>\n      <td>1005</td>\n      <td>Alabama</td>\n      <td>Barbour County</td>\n      <td>1980</td>\n      <td>515.53</td>\n      <td>484.52</td>\n      <td>547.21</td>\n      <td>Cardiovascular diseases</td>\n    </tr>\n    <tr>\n      <th>3</th>\n      <td>1007</td>\n      <td>Alabama</td>\n      <td>Bibb County</td>\n      <td>1980</td>\n      <td>548.69</td>\n      <td>513.57</td>\n      <td>584.89</td>\n      <td>Cardiovascular diseases</td>\n    </tr>\n    <tr>\n      <th>4</th>\n      <td>1009</td>\n      <td>Alabama</td>\n      <td>Blount County</td>\n      <td>1980</td>\n      <td>473.26</td>\n      <td>445.19</td>\n      <td>501.18</td>\n      <td>Cardiovascular diseases</td>\n    </tr>\n  </tbody>\n</table>\n</div>",
      "text/plain": "   FIPS    state          county  year  mortality  lower_95  upper_95  \\\n0  1001  Alabama  Autauga County  1980     552.68    521.37    586.71   \n1  1003  Alabama  Baldwin County  1980     445.67    423.09    467.49   \n2  1005  Alabama  Barbour County  1980     515.53    484.52    547.21   \n3  1007  Alabama     Bibb County  1980     548.69    513.57    584.89   \n4  1009  Alabama   Blount County  1980     473.26    445.19    501.18   \n\n                   disease  \n0  Cardiovascular diseases  \n1  Cardiovascular diseases  \n2  Cardiovascular diseases  \n3  Cardiovascular diseases  \n4  Cardiovascular diseases  "
     },
     "execution_count": 90,
     "metadata": {},
     "output_type": "execute_result"
    }
   ]
  },
  {
   "cell_type": "code",
   "metadata": {
    "cell_id": "00005-7137e4d9-e8bc-44c8-a42b-610ff0e3a81e",
    "deepnote_output_heights": [
     177.671875
    ],
    "deepnote_cell_type": "code"
   },
   "source": "# renaming join column fips to be the same in both dataframes\nhealth = health.rename(columns={'FIPS': 'fips'})\nhealth.head()",
   "execution_count": null,
   "outputs": [
    {
     "data": {
      "text/html": "<div>\n<style scoped>\n    .dataframe tbody tr th:only-of-type {\n        vertical-align: middle;\n    }\n\n    .dataframe tbody tr th {\n        vertical-align: top;\n    }\n\n    .dataframe thead th {\n        text-align: right;\n    }\n</style>\n<table border=\"1\" class=\"dataframe\">\n  <thead>\n    <tr style=\"text-align: right;\">\n      <th></th>\n      <th>fips</th>\n      <th>state</th>\n      <th>county</th>\n      <th>year</th>\n      <th>mortality</th>\n      <th>lower_95</th>\n      <th>upper_95</th>\n      <th>disease</th>\n    </tr>\n  </thead>\n  <tbody>\n    <tr>\n      <th>0</th>\n      <td>1001</td>\n      <td>Alabama</td>\n      <td>Autauga County</td>\n      <td>1980</td>\n      <td>552.68</td>\n      <td>521.37</td>\n      <td>586.71</td>\n      <td>Cardiovascular diseases</td>\n    </tr>\n    <tr>\n      <th>1</th>\n      <td>1003</td>\n      <td>Alabama</td>\n      <td>Baldwin County</td>\n      <td>1980</td>\n      <td>445.67</td>\n      <td>423.09</td>\n      <td>467.49</td>\n      <td>Cardiovascular diseases</td>\n    </tr>\n    <tr>\n      <th>2</th>\n      <td>1005</td>\n      <td>Alabama</td>\n      <td>Barbour County</td>\n      <td>1980</td>\n      <td>515.53</td>\n      <td>484.52</td>\n      <td>547.21</td>\n      <td>Cardiovascular diseases</td>\n    </tr>\n    <tr>\n      <th>3</th>\n      <td>1007</td>\n      <td>Alabama</td>\n      <td>Bibb County</td>\n      <td>1980</td>\n      <td>548.69</td>\n      <td>513.57</td>\n      <td>584.89</td>\n      <td>Cardiovascular diseases</td>\n    </tr>\n    <tr>\n      <th>4</th>\n      <td>1009</td>\n      <td>Alabama</td>\n      <td>Blount County</td>\n      <td>1980</td>\n      <td>473.26</td>\n      <td>445.19</td>\n      <td>501.18</td>\n      <td>Cardiovascular diseases</td>\n    </tr>\n  </tbody>\n</table>\n</div>",
      "text/plain": "   fips    state          county  year  mortality  lower_95  upper_95  \\\n0  1001  Alabama  Autauga County  1980     552.68    521.37    586.71   \n1  1003  Alabama  Baldwin County  1980     445.67    423.09    467.49   \n2  1005  Alabama  Barbour County  1980     515.53    484.52    547.21   \n3  1007  Alabama     Bibb County  1980     548.69    513.57    584.89   \n4  1009  Alabama   Blount County  1980     473.26    445.19    501.18   \n\n                   disease  \n0  Cardiovascular diseases  \n1  Cardiovascular diseases  \n2  Cardiovascular diseases  \n3  Cardiovascular diseases  \n4  Cardiovascular diseases  "
     },
     "execution_count": 99,
     "metadata": {},
     "output_type": "execute_result"
    }
   ]
  },
  {
   "cell_type": "code",
   "metadata": {
    "cell_id": "00006-5711bc8f-4562-4b2d-9c91-e15eb4964166",
    "deepnote_output_heights": [
     21.171875
    ],
    "deepnote_cell_type": "code"
   },
   "source": "# which years are available?\nhealth['year'].unique()",
   "execution_count": null,
   "outputs": [
    {
     "data": {
      "text/plain": "array([1980, 1985, 1990, 1995, 2000, 2005, 2010, 2014], dtype=int64)"
     },
     "execution_count": 12,
     "metadata": {},
     "output_type": "execute_result"
    }
   ]
  },
  {
   "cell_type": "code",
   "metadata": {
    "cell_id": "00016-ea0f41c9-cbd6-4663-9147-6c50717c221c",
    "deepnote_output_heights": [
     177.671875
    ],
    "deepnote_cell_type": "code"
   },
   "source": "# we only have overlapping data for 2010 and 2014 -> filter for those\nnew_health = health.loc[(health['year']==2014)|(health['year']==2010)]\nnew_health.head()",
   "execution_count": null,
   "outputs": [
    {
     "data": {
      "text/html": "<div>\n<style scoped>\n    .dataframe tbody tr th:only-of-type {\n        vertical-align: middle;\n    }\n\n    .dataframe tbody tr th {\n        vertical-align: top;\n    }\n\n    .dataframe thead th {\n        text-align: right;\n    }\n</style>\n<table border=\"1\" class=\"dataframe\">\n  <thead>\n    <tr style=\"text-align: right;\">\n      <th></th>\n      <th>fips</th>\n      <th>state</th>\n      <th>county</th>\n      <th>year</th>\n      <th>mortality</th>\n      <th>lower_95</th>\n      <th>upper_95</th>\n      <th>disease</th>\n    </tr>\n  </thead>\n  <tbody>\n    <tr>\n      <th>18852</th>\n      <td>1001</td>\n      <td>Alabama</td>\n      <td>Autauga County</td>\n      <td>2010</td>\n      <td>316.82</td>\n      <td>299.06</td>\n      <td>333.37</td>\n      <td>Cardiovascular diseases</td>\n    </tr>\n    <tr>\n      <th>18853</th>\n      <td>1003</td>\n      <td>Alabama</td>\n      <td>Baldwin County</td>\n      <td>2010</td>\n      <td>279.98</td>\n      <td>268.54</td>\n      <td>291.74</td>\n      <td>Cardiovascular diseases</td>\n    </tr>\n    <tr>\n      <th>18854</th>\n      <td>1005</td>\n      <td>Alabama</td>\n      <td>Barbour County</td>\n      <td>2010</td>\n      <td>264.63</td>\n      <td>249.05</td>\n      <td>280.85</td>\n      <td>Cardiovascular diseases</td>\n    </tr>\n    <tr>\n      <th>18855</th>\n      <td>1007</td>\n      <td>Alabama</td>\n      <td>Bibb County</td>\n      <td>2010</td>\n      <td>374.27</td>\n      <td>352.26</td>\n      <td>398.64</td>\n      <td>Cardiovascular diseases</td>\n    </tr>\n    <tr>\n      <th>18856</th>\n      <td>1009</td>\n      <td>Alabama</td>\n      <td>Blount County</td>\n      <td>2010</td>\n      <td>307.45</td>\n      <td>291.00</td>\n      <td>324.49</td>\n      <td>Cardiovascular diseases</td>\n    </tr>\n  </tbody>\n</table>\n</div>",
      "text/plain": "       fips    state          county  year  mortality  lower_95  upper_95  \\\n18852  1001  Alabama  Autauga County  2010     316.82    299.06    333.37   \n18853  1003  Alabama  Baldwin County  2010     279.98    268.54    291.74   \n18854  1005  Alabama  Barbour County  2010     264.63    249.05    280.85   \n18855  1007  Alabama     Bibb County  2010     374.27    352.26    398.64   \n18856  1009  Alabama   Blount County  2010     307.45    291.00    324.49   \n\n                       disease  \n18852  Cardiovascular diseases  \n18853  Cardiovascular diseases  \n18854  Cardiovascular diseases  \n18855  Cardiovascular diseases  \n18856  Cardiovascular diseases  "
     },
     "execution_count": 100,
     "metadata": {},
     "output_type": "execute_result"
    }
   ]
  },
  {
   "cell_type": "code",
   "metadata": {
    "cell_id": "00017-49bcdb09-79ab-47ed-8d28-5275df4fae48",
    "deepnote_output_heights": [
     606.546875
    ],
    "deepnote_cell_type": "code"
   },
   "source": "# merging datasets\ndf = food.merge(new_health,how='outer',on=['fips','year'])\ndf.sample(20)",
   "execution_count": null,
   "outputs": [
    {
     "data": {
      "text/html": "<div>\n<style scoped>\n    .dataframe tbody tr th:only-of-type {\n        vertical-align: middle;\n    }\n\n    .dataframe tbody tr th {\n        vertical-align: top;\n    }\n\n    .dataframe thead th {\n        text-align: right;\n    }\n</style>\n<table border=\"1\" class=\"dataframe\">\n  <thead>\n    <tr style=\"text-align: right;\">\n      <th></th>\n      <th>fips</th>\n      <th>state_x</th>\n      <th>county_x</th>\n      <th>indicator</th>\n      <th>value</th>\n      <th>year</th>\n      <th>state_y</th>\n      <th>county_y</th>\n      <th>mortality</th>\n      <th>lower_95</th>\n      <th>upper_95</th>\n      <th>disease</th>\n    </tr>\n  </thead>\n  <tbody>\n    <tr>\n      <th>609877</th>\n      <td>51683</td>\n      <td>Virginia</td>\n      <td>Manassas city</td>\n      <td>FARM_TO_SCHOOL</td>\n      <td>0.500000</td>\n      <td>2014</td>\n      <td>NaN</td>\n      <td>NaN</td>\n      <td>7.69</td>\n      <td>5.75</td>\n      <td>9.97</td>\n      <td>Atrial fibrillation &amp; flutter</td>\n    </tr>\n    <tr>\n      <th>90726</th>\n      <td>13103</td>\n      <td>Georgia</td>\n      <td>Effingham County</td>\n      <td>FMRKT</td>\n      <td>0.000000</td>\n      <td>2014</td>\n      <td>NaN</td>\n      <td>NaN</td>\n      <td>12.15</td>\n      <td>10.39</td>\n      <td>14.24</td>\n      <td>Other cardiovascular</td>\n    </tr>\n    <tr>\n      <th>65170</th>\n      <td>9013</td>\n      <td>Connecticut</td>\n      <td>Tolland County</td>\n      <td>LACCESS_LOWI</td>\n      <td>12233.122366</td>\n      <td>2014</td>\n      <td>NaN</td>\n      <td>NaN</td>\n      <td>2.39</td>\n      <td>1.91</td>\n      <td>2.92</td>\n      <td>Rheumatic heart disease</td>\n    </tr>\n    <tr>\n      <th>799928</th>\n      <td>17067</td>\n      <td>NaN</td>\n      <td>NaN</td>\n      <td>PCT_LACCESS_HHNV</td>\n      <td>3.867130</td>\n      <td>2010</td>\n      <td>NaN</td>\n      <td>NaN</td>\n      <td>12.45</td>\n      <td>11.25</td>\n      <td>13.79</td>\n      <td>Other cardiovascular</td>\n    </tr>\n    <tr>\n      <th>352322</th>\n      <td>31081</td>\n      <td>Nebraska</td>\n      <td>Hamilton County</td>\n      <td>PCT_LACCESS_SNAP</td>\n      <td>0.597901</td>\n      <td>2014</td>\n      <td>NaN</td>\n      <td>NaN</td>\n      <td>3.57</td>\n      <td>2.62</td>\n      <td>4.86</td>\n      <td>Aortic aneurysm</td>\n    </tr>\n    <tr>\n      <th>38098</th>\n      <td>5147</td>\n      <td>Arkansas</td>\n      <td>Woodruff County</td>\n      <td>FMRKT</td>\n      <td>0.000000</td>\n      <td>2014</td>\n      <td>NaN</td>\n      <td>NaN</td>\n      <td>5.09</td>\n      <td>3.17</td>\n      <td>7.77</td>\n      <td>Atrial fibrillation &amp; flutter</td>\n    </tr>\n    <tr>\n      <th>1208696</th>\n      <td>46029</td>\n      <td>NaN</td>\n      <td>NaN</td>\n      <td>PCT_LACCESS_LOWI</td>\n      <td>7.343803</td>\n      <td>2010</td>\n      <td>NaN</td>\n      <td>NaN</td>\n      <td>6.70</td>\n      <td>4.55</td>\n      <td>9.62</td>\n      <td>Atrial fibrillation &amp; flutter</td>\n    </tr>\n    <tr>\n      <th>1344841</th>\n      <td>53011</td>\n      <td>NaN</td>\n      <td>NaN</td>\n      <td>LACCESS_POP</td>\n      <td>88355.908553</td>\n      <td>2010</td>\n      <td>NaN</td>\n      <td>NaN</td>\n      <td>34.43</td>\n      <td>32.68</td>\n      <td>36.52</td>\n      <td>Ischemic stroke</td>\n    </tr>\n    <tr>\n      <th>628695</th>\n      <td>54065</td>\n      <td>West Virginia</td>\n      <td>Morgan County</td>\n      <td>METRO</td>\n      <td>0.000000</td>\n      <td>2014</td>\n      <td>NaN</td>\n      <td>NaN</td>\n      <td>159.66</td>\n      <td>142.63</td>\n      <td>176.83</td>\n      <td>Ischemic heart disease</td>\n    </tr>\n    <tr>\n      <th>321621</th>\n      <td>29129</td>\n      <td>Missouri</td>\n      <td>Mercer County</td>\n      <td>LACCESS_HHNV</td>\n      <td>112.376837</td>\n      <td>2014</td>\n      <td>NaN</td>\n      <td>NaN</td>\n      <td>3.08</td>\n      <td>2.11</td>\n      <td>4.42</td>\n      <td>Rheumatic heart disease</td>\n    </tr>\n    <tr>\n      <th>486409</th>\n      <td>45047</td>\n      <td>South Carolina</td>\n      <td>Greenwood County</td>\n      <td>MEDHHINC</td>\n      <td>42240.000000</td>\n      <td>2014</td>\n      <td>NaN</td>\n      <td>NaN</td>\n      <td>3.76</td>\n      <td>2.95</td>\n      <td>4.74</td>\n      <td>Rheumatic heart disease</td>\n    </tr>\n    <tr>\n      <th>894940</th>\n      <td>21083</td>\n      <td>NaN</td>\n      <td>NaN</td>\n      <td>PCT_NHWHITE</td>\n      <td>87.842461</td>\n      <td>2010</td>\n      <td>NaN</td>\n      <td>NaN</td>\n      <td>6.56</td>\n      <td>5.56</td>\n      <td>7.66</td>\n      <td>Cardiomyopathy &amp; myocarditis</td>\n    </tr>\n    <tr>\n      <th>336215</th>\n      <td>30039</td>\n      <td>Montana</td>\n      <td>Granite County</td>\n      <td>LACCESS_POP</td>\n      <td>675.432464</td>\n      <td>2014</td>\n      <td>NaN</td>\n      <td>NaN</td>\n      <td>4.22</td>\n      <td>2.78</td>\n      <td>6.14</td>\n      <td>Aortic aneurysm</td>\n    </tr>\n    <tr>\n      <th>430355</th>\n      <td>39055</td>\n      <td>Ohio</td>\n      <td>Geauga County</td>\n      <td>CHILDPOVRATE</td>\n      <td>8.800000</td>\n      <td>2014</td>\n      <td>NaN</td>\n      <td>NaN</td>\n      <td>40.06</td>\n      <td>37.71</td>\n      <td>42.56</td>\n      <td>Cerebrovascular disease</td>\n    </tr>\n    <tr>\n      <th>783857</th>\n      <td>16017</td>\n      <td>NaN</td>\n      <td>NaN</td>\n      <td>PCT_NHPI</td>\n      <td>0.097855</td>\n      <td>2010</td>\n      <td>NaN</td>\n      <td>NaN</td>\n      <td>4.53</td>\n      <td>3.69</td>\n      <td>5.60</td>\n      <td>Aortic aneurysm</td>\n    </tr>\n    <tr>\n      <th>673867</th>\n      <td>2220</td>\n      <td>NaN</td>\n      <td>NaN</td>\n      <td>PCT_NHNA</td>\n      <td>16.236910</td>\n      <td>2010</td>\n      <td>NaN</td>\n      <td>NaN</td>\n      <td>9.35</td>\n      <td>7.88</td>\n      <td>11.01</td>\n      <td>Other cardiovascular</td>\n    </tr>\n    <tr>\n      <th>230968</th>\n      <td>21237</td>\n      <td>Kentucky</td>\n      <td>Wolfe County</td>\n      <td>LACCESS_POP</td>\n      <td>124.691766</td>\n      <td>2014</td>\n      <td>NaN</td>\n      <td>NaN</td>\n      <td>3.36</td>\n      <td>2.08</td>\n      <td>5.03</td>\n      <td>Peripheral vascular disease</td>\n    </tr>\n    <tr>\n      <th>504339</th>\n      <td>46135</td>\n      <td>South Dakota</td>\n      <td>Yankton County</td>\n      <td>PCT_LACCESS_LOWI</td>\n      <td>9.583009</td>\n      <td>2014</td>\n      <td>NaN</td>\n      <td>NaN</td>\n      <td>30.95</td>\n      <td>28.54</td>\n      <td>33.63</td>\n      <td>Ischemic stroke</td>\n    </tr>\n    <tr>\n      <th>891744</th>\n      <td>21055</td>\n      <td>NaN</td>\n      <td>NaN</td>\n      <td>PCT_65OLDER</td>\n      <td>18.110574</td>\n      <td>2010</td>\n      <td>NaN</td>\n      <td>NaN</td>\n      <td>4.64</td>\n      <td>3.49</td>\n      <td>5.94</td>\n      <td>Aortic aneurysm</td>\n    </tr>\n    <tr>\n      <th>1100349</th>\n      <td>37045</td>\n      <td>NaN</td>\n      <td>NaN</td>\n      <td>PCT_LACCESS_LOWI</td>\n      <td>5.560005</td>\n      <td>2010</td>\n      <td>NaN</td>\n      <td>NaN</td>\n      <td>67.29</td>\n      <td>64.12</td>\n      <td>70.47</td>\n      <td>Cerebrovascular disease</td>\n    </tr>\n  </tbody>\n</table>\n</div>",
      "text/plain": "          fips          state_x          county_x         indicator  \\\n609877   51683         Virginia     Manassas city    FARM_TO_SCHOOL   \n90726    13103          Georgia  Effingham County             FMRKT   \n65170     9013      Connecticut    Tolland County      LACCESS_LOWI   \n799928   17067              NaN               NaN  PCT_LACCESS_HHNV   \n352322   31081         Nebraska   Hamilton County  PCT_LACCESS_SNAP   \n38098     5147         Arkansas   Woodruff County             FMRKT   \n1208696  46029              NaN               NaN  PCT_LACCESS_LOWI   \n1344841  53011              NaN               NaN       LACCESS_POP   \n628695   54065    West Virginia     Morgan County             METRO   \n321621   29129         Missouri     Mercer County      LACCESS_HHNV   \n486409   45047   South Carolina  Greenwood County          MEDHHINC   \n894940   21083              NaN               NaN       PCT_NHWHITE   \n336215   30039          Montana    Granite County       LACCESS_POP   \n430355   39055             Ohio     Geauga County      CHILDPOVRATE   \n783857   16017              NaN               NaN          PCT_NHPI   \n673867    2220              NaN               NaN          PCT_NHNA   \n230968   21237         Kentucky      Wolfe County       LACCESS_POP   \n504339   46135     South Dakota    Yankton County  PCT_LACCESS_LOWI   \n891744   21055              NaN               NaN       PCT_65OLDER   \n1100349  37045              NaN               NaN  PCT_LACCESS_LOWI   \n\n                value  year state_y county_y  mortality  lower_95  upper_95  \\\n609877       0.500000  2014     NaN      NaN       7.69      5.75      9.97   \n90726        0.000000  2014     NaN      NaN      12.15     10.39     14.24   \n65170    12233.122366  2014     NaN      NaN       2.39      1.91      2.92   \n799928       3.867130  2010     NaN      NaN      12.45     11.25     13.79   \n352322       0.597901  2014     NaN      NaN       3.57      2.62      4.86   \n38098        0.000000  2014     NaN      NaN       5.09      3.17      7.77   \n1208696      7.343803  2010     NaN      NaN       6.70      4.55      9.62   \n1344841  88355.908553  2010     NaN      NaN      34.43     32.68     36.52   \n628695       0.000000  2014     NaN      NaN     159.66    142.63    176.83   \n321621     112.376837  2014     NaN      NaN       3.08      2.11      4.42   \n486409   42240.000000  2014     NaN      NaN       3.76      2.95      4.74   \n894940      87.842461  2010     NaN      NaN       6.56      5.56      7.66   \n336215     675.432464  2014     NaN      NaN       4.22      2.78      6.14   \n430355       8.800000  2014     NaN      NaN      40.06     37.71     42.56   \n783857       0.097855  2010     NaN      NaN       4.53      3.69      5.60   \n673867      16.236910  2010     NaN      NaN       9.35      7.88     11.01   \n230968     124.691766  2014     NaN      NaN       3.36      2.08      5.03   \n504339       9.583009  2014     NaN      NaN      30.95     28.54     33.63   \n891744      18.110574  2010     NaN      NaN       4.64      3.49      5.94   \n1100349      5.560005  2010     NaN      NaN      67.29     64.12     70.47   \n\n                               disease  \n609877   Atrial fibrillation & flutter  \n90726             Other cardiovascular  \n65170          Rheumatic heart disease  \n799928            Other cardiovascular  \n352322                 Aortic aneurysm  \n38098    Atrial fibrillation & flutter  \n1208696  Atrial fibrillation & flutter  \n1344841                Ischemic stroke  \n628695          Ischemic heart disease  \n321621         Rheumatic heart disease  \n486409         Rheumatic heart disease  \n894940    Cardiomyopathy & myocarditis  \n336215                 Aortic aneurysm  \n430355         Cerebrovascular disease  \n783857                 Aortic aneurysm  \n673867            Other cardiovascular  \n230968     Peripheral vascular disease  \n504339                 Ischemic stroke  \n891744                 Aortic aneurysm  \n1100349        Cerebrovascular disease  "
     },
     "execution_count": 101,
     "metadata": {},
     "output_type": "execute_result"
    }
   ]
  },
  {
   "cell_type": "code",
   "metadata": {
    "cell_id": "00018-d73ae6d9-e3ae-4207-aaab-3951c90ac5f7",
    "deepnote_output_heights": [
     155.453125
    ],
    "deepnote_cell_type": "code"
   },
   "source": "#understanding which variables we have left & their meaning\n\n#fmrkt = # of farmers markets\n#fmrktpth = # of farmers markets / 1000 pop\n#lacess_hhnv = households, no car and low access to store\n#laccess_lowi = low income and low access to store\n#laccess_pop = population low access to store\n#laccess_snap = SNAP households (Supplemental Nutrition Assistance Program)\n#medhhinc = median household income\n#metro = metro/non metro counties\n#pct_laccess_hhnv = % households, no car and low access to store\n#pct_laccess_lowi = % low income and low access to store\n#pct_laccess_pop = % population low access to store\n#pct_laccess_snap = % SNAP households, low access to store\n#pov_rate = poverty rate\n\ndf.indicator.unique()",
   "execution_count": null,
   "outputs": [
    {
     "data": {
      "text/plain": "array(['CHILDPOVRATE', 'FARM_TO_SCHOOL', 'FMRKT', 'FMRKTPTH',\n       'LACCESS_HHNV', 'LACCESS_LOWI', 'LACCESS_POP', 'LACCESS_SNAP',\n       'MEDHHINC', 'METRO', 'PCT_LACCESS_HHNV', 'PCT_LACCESS_LOWI',\n       'PCT_LACCESS_POP', 'PCT_LACCESS_SNAP', 'POVRATE',\n       'Population_Estimate', 'Census_Population', 'PCT_NHWHITE',\n       'PCT_NHBLACK', 'PCT_HISP', 'PCT_NHASIAN', 'PCT_NHNA', 'PCT_NHPI',\n       'PCT_65OLDER', 'PCT_18YOUNGER', 'PERPOV', 'PERCHLDPOV', 'POPLOSS',\n       nan], dtype=object)"
     },
     "execution_count": 66,
     "metadata": {},
     "output_type": "execute_result"
    }
   ]
  },
  {
   "cell_type": "code",
   "metadata": {
    "cell_id": "00019-6dd5dd64-563c-4287-8688-3016f5c7a388",
    "output_cleared": true,
    "deepnote_cell_type": "code"
   },
   "source": "# saving data\ndf.to_csv('food_health_merged_2010_2014.csv')",
   "execution_count": null,
   "outputs": []
  },
  {
   "cell_type": "code",
   "metadata": {
    "cell_id": "00036-d4481db6-8186-4d79-b30a-675302fb7be2",
    "deepnote_cell_type": "code"
   },
   "source": "",
   "execution_count": null,
   "outputs": []
  },
  {
   "cell_type": "markdown",
   "source": "<a style='text-decoration:none;line-height:16px;display:flex;color:#5B5B62;padding:10px;justify-content:end;' href='https://deepnote.com?utm_source=created-in-deepnote-cell&projectId=a805a7fe-fe3d-44c2-a936-f271a2a4c12f' target=\"_blank\">\n<img alt='Created in deepnote.com' style='display:inline;max-height:16px;margin:0px;margin-right:7.5px;' src='data:image/svg+xml;base64,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' > </img>\nCreated in <span style='font-weight:600;margin-left:4px;'>Deepnote</span></a>",
   "metadata": {
    "tags": [],
    "created_in_deepnote_cell": true,
    "deepnote_cell_type": "markdown"
   }
  }
 ],
 "nbformat": 4,
 "nbformat_minor": 5,
 "metadata": {
  "kernelspec": {
   "display_name": "Python 3",
   "language": "python",
   "name": "python3"
  },
  "language_info": {
   "codemirror_mode": {
    "name": "ipython",
    "version": 3
   },
   "file_extension": ".py",
   "mimetype": "text/x-python",
   "name": "python",
   "nbconvert_exporter": "python",
   "pygments_lexer": "ipython3",
   "version": "3.8.8"
  },
  "deepnote_notebook_id": "e040b036-89f6-45e8-b7f2-696cda7d84a7",
  "deepnote": {},
  "deepnote_execution_queue": []
 }
}