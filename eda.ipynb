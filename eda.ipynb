{
 "cells": [
  {
   "cell_type": "markdown",
   "source": "### Descriptive EDA",
   "metadata": {
    "tags": [],
    "cell_id": "00000-537a68df-c9ca-4e98-9bc1-815c69bb98f8",
    "deepnote_cell_type": "markdown"
   }
  },
  {
   "cell_type": "code",
   "metadata": {
    "cell_id": "00000-0fb72208-1c11-4956-9eaf-a1d1212bff7a",
    "deepnote_to_be_reexecuted": false,
    "source_hash": "493afcd6",
    "execution_start": 1638570520358,
    "execution_millis": 1220,
    "deepnote_cell_type": "code"
   },
   "source": "import pandas as pd\nimport numpy as np\nimport matplotlib.pyplot as plt\nimport seaborn as sns\nplt.style.use('ggplot')\nplt.rcParams['figure.figsize'] = (18, 16)",
   "outputs": [],
   "execution_count": null
  },
  {
   "cell_type": "code",
   "metadata": {
    "cell_id": "00001-63fc7210-cf25-4507-9ae8-3a1e2805d981",
    "deepnote_to_be_reexecuted": false,
    "source_hash": "bbc66e3f",
    "execution_start": 1638570521592,
    "execution_millis": 5970,
    "deepnote_cell_type": "code"
   },
   "source": "# read data\ndf = pd.read_csv('/datasets/usc-drive/DSO 510 - Food Deserts/food_health_merged_2010_2014.csv')",
   "outputs": [
    {
     "name": "stderr",
     "text": "/shared-libs/python3.7/py-core/lib/python3.7/site-packages/IPython/core/interactiveshell.py:3173: DtypeWarning: Columns (2,3) have mixed types.Specify dtype option on import or set low_memory=False.\n  interactivity=interactivity, compiler=compiler, result=result)\n",
     "output_type": "stream"
    }
   ],
   "execution_count": null
  },
  {
   "cell_type": "code",
   "metadata": {
    "cell_id": "00002-1f587f84-4825-4daf-8da4-20a8ec7e2740",
    "deepnote_output_heights": [
     177
    ],
    "deepnote_to_be_reexecuted": false,
    "source_hash": "3664392b",
    "execution_start": 1638570527570,
    "execution_millis": 154,
    "deepnote_cell_type": "code"
   },
   "source": "# sample data\ndf.sample(5)",
   "outputs": [
    {
     "output_type": "execute_result",
     "execution_count": 3,
     "data": {
      "application/vnd.deepnote.dataframe.v2+json": {
       "row_count": 5,
       "column_count": 13,
       "columns": [
        {
         "name": "Unnamed: 0",
         "dtype": "int64",
         "stats": {
          "unique_count": 5,
          "nan_count": 0,
          "min": "281258",
          "max": "1061509",
          "histogram": [
           {
            "bin_start": 281258,
            "bin_end": 359283.1,
            "count": 1
           },
           {
            "bin_start": 359283.1,
            "bin_end": 437308.2,
            "count": 1
           },
           {
            "bin_start": 437308.2,
            "bin_end": 515333.30000000005,
            "count": 0
           },
           {
            "bin_start": 515333.30000000005,
            "bin_end": 593358.4,
            "count": 1
           },
           {
            "bin_start": 593358.4,
            "bin_end": 671383.5,
            "count": 0
           },
           {
            "bin_start": 671383.5,
            "bin_end": 749408.6000000001,
            "count": 0
           },
           {
            "bin_start": 749408.6000000001,
            "bin_end": 827433.7000000001,
            "count": 1
           },
           {
            "bin_start": 827433.7000000001,
            "bin_end": 905458.8,
            "count": 0
           },
           {
            "bin_start": 905458.8,
            "bin_end": 983483.9,
            "count": 0
           },
           {
            "bin_start": 983483.9,
            "bin_end": 1061509,
            "count": 1
           }
          ]
         }
        },
        {
         "name": "fips",
         "dtype": "int64",
         "stats": {
          "unique_count": 5,
          "nan_count": 0,
          "min": "13077",
          "max": "48067",
          "histogram": [
           {
            "bin_start": 13077,
            "bin_end": 16576,
            "count": 1
           },
           {
            "bin_start": 16576,
            "bin_end": 20075,
            "count": 0
           },
           {
            "bin_start": 20075,
            "bin_end": 23574,
            "count": 0
           },
           {
            "bin_start": 23574,
            "bin_end": 27073,
            "count": 0
           },
           {
            "bin_start": 27073,
            "bin_end": 30572,
            "count": 1
           },
           {
            "bin_start": 30572,
            "bin_end": 34071,
            "count": 1
           },
           {
            "bin_start": 34071,
            "bin_end": 37570,
            "count": 1
           },
           {
            "bin_start": 37570,
            "bin_end": 41069,
            "count": 0
           },
           {
            "bin_start": 41069,
            "bin_end": 44568,
            "count": 0
           },
           {
            "bin_start": 44568,
            "bin_end": 48067,
            "count": 1
           }
          ]
         }
        },
        {
         "name": "state_x",
         "dtype": "object",
         "stats": {
          "unique_count": 3,
          "nan_count": 2,
          "categories": [
           {
            "name": " Texas",
            "count": 1
           },
           {
            "name": "2 others",
            "count": 2
           },
           {
            "name": "Missing",
            "count": 2
           }
          ]
         }
        },
        {
         "name": "county_x",
         "dtype": "object",
         "stats": {
          "unique_count": 3,
          "nan_count": 2,
          "categories": [
           {
            "name": "Cass County",
            "count": 1
           },
           {
            "name": "2 others",
            "count": 2
           },
           {
            "name": "Missing",
            "count": 2
           }
          ]
         }
        },
        {
         "name": "indicator",
         "dtype": "object",
         "stats": {
          "unique_count": 5,
          "nan_count": 0,
          "categories": [
           {
            "name": "LACCESS_SNAP",
            "count": 1
           },
           {
            "name": "PCT_LACCESS_LOWI",
            "count": 1
           },
           {
            "name": "3 others",
            "count": 3
           }
          ]
         }
        },
        {
         "name": "value",
         "dtype": "float64",
         "stats": {
          "unique_count": 5,
          "nan_count": 0,
          "min": "0.036098476499319",
          "max": "32287.3906449935",
          "histogram": [
           {
            "bin_start": 0.036098476499319,
            "bin_end": 3228.7715531281992,
            "count": 4
           },
           {
            "bin_start": 3228.7715531281992,
            "bin_end": 6457.507007779899,
            "count": 0
           },
           {
            "bin_start": 6457.507007779899,
            "bin_end": 9686.242462431599,
            "count": 0
           },
           {
            "bin_start": 9686.242462431599,
            "bin_end": 12914.977917083299,
            "count": 0
           },
           {
            "bin_start": 12914.977917083299,
            "bin_end": 16143.713371734999,
            "count": 0
           },
           {
            "bin_start": 16143.713371734999,
            "bin_end": 19372.4488263867,
            "count": 0
           },
           {
            "bin_start": 19372.4488263867,
            "bin_end": 22601.184281038397,
            "count": 0
           },
           {
            "bin_start": 22601.184281038397,
            "bin_end": 25829.9197356901,
            "count": 0
           },
           {
            "bin_start": 25829.9197356901,
            "bin_end": 29058.6551903418,
            "count": 0
           },
           {
            "bin_start": 29058.6551903418,
            "bin_end": 32287.3906449935,
            "count": 1
           }
          ]
         }
        },
        {
         "name": "year",
         "dtype": "int64",
         "stats": {
          "unique_count": 2,
          "nan_count": 0,
          "min": "2010",
          "max": "2014",
          "histogram": [
           {
            "bin_start": 2010,
            "bin_end": 2010.4,
            "count": 2
           },
           {
            "bin_start": 2010.4,
            "bin_end": 2010.8,
            "count": 0
           },
           {
            "bin_start": 2010.8,
            "bin_end": 2011.2,
            "count": 0
           },
           {
            "bin_start": 2011.2,
            "bin_end": 2011.6,
            "count": 0
           },
           {
            "bin_start": 2011.6,
            "bin_end": 2012,
            "count": 0
           },
           {
            "bin_start": 2012,
            "bin_end": 2012.4,
            "count": 0
           },
           {
            "bin_start": 2012.4,
            "bin_end": 2012.8,
            "count": 0
           },
           {
            "bin_start": 2012.8,
            "bin_end": 2013.2,
            "count": 0
           },
           {
            "bin_start": 2013.2,
            "bin_end": 2013.6,
            "count": 0
           },
           {
            "bin_start": 2013.6,
            "bin_end": 2014,
            "count": 3
           }
          ]
         }
        },
        {
         "name": "state_y",
         "dtype": "object",
         "stats": {
          "unique_count": 1,
          "nan_count": 4,
          "categories": [
           {
            "name": "Georgia",
            "count": 1
           },
           {
            "name": "Missing",
            "count": 4
           }
          ]
         }
        },
        {
         "name": "county_y",
         "dtype": "object",
         "stats": {
          "unique_count": 1,
          "nan_count": 4,
          "categories": [
           {
            "name": "Coweta County",
            "count": 1
           },
           {
            "name": "Missing",
            "count": 4
           }
          ]
         }
        },
        {
         "name": "mortality",
         "dtype": "float64",
         "stats": {
          "unique_count": 5,
          "nan_count": 0,
          "min": "4.53",
          "max": "259.92",
          "histogram": [
           {
            "bin_start": 4.53,
            "bin_end": 30.069000000000003,
            "count": 3
           },
           {
            "bin_start": 30.069000000000003,
            "bin_end": 55.608000000000004,
            "count": 1
           },
           {
            "bin_start": 55.608000000000004,
            "bin_end": 81.147,
            "count": 0
           },
           {
            "bin_start": 81.147,
            "bin_end": 106.686,
            "count": 0
           },
           {
            "bin_start": 106.686,
            "bin_end": 132.225,
            "count": 0
           },
           {
            "bin_start": 132.225,
            "bin_end": 157.764,
            "count": 0
           },
           {
            "bin_start": 157.764,
            "bin_end": 183.30300000000003,
            "count": 0
           },
           {
            "bin_start": 183.30300000000003,
            "bin_end": 208.842,
            "count": 0
           },
           {
            "bin_start": 208.842,
            "bin_end": 234.381,
            "count": 0
           },
           {
            "bin_start": 234.381,
            "bin_end": 259.92,
            "count": 1
           }
          ]
         }
        },
        {
         "name": "lower_95",
         "dtype": "float64",
         "stats": {
          "unique_count": 5,
          "nan_count": 0,
          "min": "3.64",
          "max": "246.63",
          "histogram": [
           {
            "bin_start": 3.64,
            "bin_end": 27.939,
            "count": 3
           },
           {
            "bin_start": 27.939,
            "bin_end": 52.238,
            "count": 1
           },
           {
            "bin_start": 52.238,
            "bin_end": 76.53699999999999,
            "count": 0
           },
           {
            "bin_start": 76.53699999999999,
            "bin_end": 100.836,
            "count": 0
           },
           {
            "bin_start": 100.836,
            "bin_end": 125.135,
            "count": 0
           },
           {
            "bin_start": 125.135,
            "bin_end": 149.43399999999997,
            "count": 0
           },
           {
            "bin_start": 149.43399999999997,
            "bin_end": 173.73299999999998,
            "count": 0
           },
           {
            "bin_start": 173.73299999999998,
            "bin_end": 198.03199999999998,
            "count": 0
           },
           {
            "bin_start": 198.03199999999998,
            "bin_end": 222.331,
            "count": 0
           },
           {
            "bin_start": 222.331,
            "bin_end": 246.63,
            "count": 1
           }
          ]
         }
        },
        {
         "name": "upper_95",
         "dtype": "float64",
         "stats": {
          "unique_count": 5,
          "nan_count": 0,
          "min": "5.57",
          "max": "272.47",
          "histogram": [
           {
            "bin_start": 5.57,
            "bin_end": 32.260000000000005,
            "count": 3
           },
           {
            "bin_start": 32.260000000000005,
            "bin_end": 58.95000000000001,
            "count": 1
           },
           {
            "bin_start": 58.95000000000001,
            "bin_end": 85.64000000000001,
            "count": 0
           },
           {
            "bin_start": 85.64000000000001,
            "bin_end": 112.33000000000001,
            "count": 0
           },
           {
            "bin_start": 112.33000000000001,
            "bin_end": 139.02,
            "count": 0
           },
           {
            "bin_start": 139.02,
            "bin_end": 165.71000000000004,
            "count": 0
           },
           {
            "bin_start": 165.71000000000004,
            "bin_end": 192.40000000000003,
            "count": 0
           },
           {
            "bin_start": 192.40000000000003,
            "bin_end": 219.09000000000003,
            "count": 0
           },
           {
            "bin_start": 219.09000000000003,
            "bin_end": 245.78000000000003,
            "count": 0
           },
           {
            "bin_start": 245.78000000000003,
            "bin_end": 272.47,
            "count": 1
           }
          ]
         }
        },
        {
         "name": "disease",
         "dtype": "object",
         "stats": {
          "unique_count": 4,
          "nan_count": 0,
          "categories": [
           {
            "name": "Cardiomyopathy & myocarditis",
            "count": 2
           },
           {
            "name": "Atrial fibrillation & flutter",
            "count": 1
           },
           {
            "name": "2 others",
            "count": 2
           }
          ]
         }
        },
        {
         "name": "_deepnote_index_column",
         "dtype": "int64"
        }
       ],
       "rows_top": [
        {
         "Unnamed: 0": 531331,
         "fips": 48067,
         "state_x": " Texas",
         "county_x": "Cass County",
         "indicator": "LACCESS_SNAP",
         "value": 161.795084154428,
         "year": 2014,
         "state_y": "nan",
         "county_y": "nan",
         "mortality": 7.09,
         "lower_95": 4.71,
         "upper_95": 10.01,
         "disease": "Atrial fibrillation & flutter",
         "_deepnote_index_column": 531331
        },
        {
         "Unnamed: 0": 1061509,
         "fips": 31185,
         "state_x": "nan",
         "county_x": "nan",
         "indicator": "PCT_LACCESS_LOWI",
         "value": 6.642626850235675,
         "year": 2010,
         "state_y": "nan",
         "county_y": "nan",
         "mortality": 4.53,
         "lower_95": 3.64,
         "upper_95": 5.57,
         "disease": "Cardiomyopathy & myocarditis",
         "_deepnote_index_column": 1061509
        },
        {
         "Unnamed: 0": 752115,
         "fips": 13077,
         "state_x": "nan",
         "county_x": "nan",
         "indicator": "LACCESS_POP",
         "value": 32287.3906449935,
         "year": 2010,
         "state_y": "Georgia",
         "county_y": "Coweta County",
         "mortality": 259.92,
         "lower_95": 246.63,
         "upper_95": 272.47,
         "disease": "Cardiovascular diseases",
         "_deepnote_index_column": 752115
        },
        {
         "Unnamed: 0": 395467,
         "fips": 37025,
         "state_x": " North Carolina",
         "county_x": "Cabarrus County",
         "indicator": "LACCESS_HHNV",
         "value": 1335.64772588593,
         "year": 2014,
         "state_y": "nan",
         "county_y": "nan",
         "mortality": 9.51,
         "lower_95": 8.51,
         "upper_95": 10.58,
         "disease": "Cardiomyopathy & myocarditis",
         "_deepnote_index_column": 395467
        },
        {
         "Unnamed: 0": 281258,
         "fips": 27079,
         "state_x": " Minnesota",
         "county_x": "Le Sueur County",
         "indicator": "FMRKTPTH",
         "value": 0.036098476499319,
         "year": 2014,
         "state_y": "nan",
         "county_y": "nan",
         "mortality": 38.02,
         "lower_95": 35.46,
         "upper_95": 41.04,
         "disease": "Cerebrovascular disease",
         "_deepnote_index_column": 281258
        }
       ],
       "rows_bottom": null
      },
      "text/plain": "         Unnamed: 0   fips          state_x         county_x  \\\n531331       531331  48067            Texas      Cass County   \n1061509     1061509  31185              NaN              NaN   \n752115       752115  13077              NaN              NaN   \n395467       395467  37025   North Carolina  Cabarrus County   \n281258       281258  27079        Minnesota  Le Sueur County   \n\n                indicator         value  year  state_y       county_y  \\\n531331       LACCESS_SNAP    161.795084  2014      NaN            NaN   \n1061509  PCT_LACCESS_LOWI      6.642627  2010      NaN            NaN   \n752115        LACCESS_POP  32287.390645  2010  Georgia  Coweta County   \n395467       LACCESS_HHNV   1335.647726  2014      NaN            NaN   \n281258           FMRKTPTH      0.036098  2014      NaN            NaN   \n\n         mortality  lower_95  upper_95                        disease  \n531331        7.09      4.71     10.01  Atrial fibrillation & flutter  \n1061509       4.53      3.64      5.57   Cardiomyopathy & myocarditis  \n752115      259.92    246.63    272.47        Cardiovascular diseases  \n395467        9.51      8.51     10.58   Cardiomyopathy & myocarditis  \n281258       38.02     35.46     41.04        Cerebrovascular disease  ",
      "text/html": "<div>\n<style scoped>\n    .dataframe tbody tr th:only-of-type {\n        vertical-align: middle;\n    }\n\n    .dataframe tbody tr th {\n        vertical-align: top;\n    }\n\n    .dataframe thead th {\n        text-align: right;\n    }\n</style>\n<table border=\"1\" class=\"dataframe\">\n  <thead>\n    <tr style=\"text-align: right;\">\n      <th></th>\n      <th>Unnamed: 0</th>\n      <th>fips</th>\n      <th>state_x</th>\n      <th>county_x</th>\n      <th>indicator</th>\n      <th>value</th>\n      <th>year</th>\n      <th>state_y</th>\n      <th>county_y</th>\n      <th>mortality</th>\n      <th>lower_95</th>\n      <th>upper_95</th>\n      <th>disease</th>\n    </tr>\n  </thead>\n  <tbody>\n    <tr>\n      <th>531331</th>\n      <td>531331</td>\n      <td>48067</td>\n      <td>Texas</td>\n      <td>Cass County</td>\n      <td>LACCESS_SNAP</td>\n      <td>161.795084</td>\n      <td>2014</td>\n      <td>NaN</td>\n      <td>NaN</td>\n      <td>7.09</td>\n      <td>4.71</td>\n      <td>10.01</td>\n      <td>Atrial fibrillation &amp; flutter</td>\n    </tr>\n    <tr>\n      <th>1061509</th>\n      <td>1061509</td>\n      <td>31185</td>\n      <td>NaN</td>\n      <td>NaN</td>\n      <td>PCT_LACCESS_LOWI</td>\n      <td>6.642627</td>\n      <td>2010</td>\n      <td>NaN</td>\n      <td>NaN</td>\n      <td>4.53</td>\n      <td>3.64</td>\n      <td>5.57</td>\n      <td>Cardiomyopathy &amp; myocarditis</td>\n    </tr>\n    <tr>\n      <th>752115</th>\n      <td>752115</td>\n      <td>13077</td>\n      <td>NaN</td>\n      <td>NaN</td>\n      <td>LACCESS_POP</td>\n      <td>32287.390645</td>\n      <td>2010</td>\n      <td>Georgia</td>\n      <td>Coweta County</td>\n      <td>259.92</td>\n      <td>246.63</td>\n      <td>272.47</td>\n      <td>Cardiovascular diseases</td>\n    </tr>\n    <tr>\n      <th>395467</th>\n      <td>395467</td>\n      <td>37025</td>\n      <td>North Carolina</td>\n      <td>Cabarrus County</td>\n      <td>LACCESS_HHNV</td>\n      <td>1335.647726</td>\n      <td>2014</td>\n      <td>NaN</td>\n      <td>NaN</td>\n      <td>9.51</td>\n      <td>8.51</td>\n      <td>10.58</td>\n      <td>Cardiomyopathy &amp; myocarditis</td>\n    </tr>\n    <tr>\n      <th>281258</th>\n      <td>281258</td>\n      <td>27079</td>\n      <td>Minnesota</td>\n      <td>Le Sueur County</td>\n      <td>FMRKTPTH</td>\n      <td>0.036098</td>\n      <td>2014</td>\n      <td>NaN</td>\n      <td>NaN</td>\n      <td>38.02</td>\n      <td>35.46</td>\n      <td>41.04</td>\n      <td>Cerebrovascular disease</td>\n    </tr>\n  </tbody>\n</table>\n</div>"
     },
     "metadata": {}
    }
   ],
   "execution_count": null
  },
  {
   "cell_type": "code",
   "metadata": {
    "tags": [],
    "cell_id": "00004-a0f510dd-d42f-40cc-a83f-3401f84eae83",
    "deepnote_to_be_reexecuted": false,
    "source_hash": "87f8f02e",
    "execution_start": 1638570527722,
    "execution_millis": 341,
    "deepnote_cell_type": "code"
   },
   "source": "# descriptive stats\ndf.describe()",
   "outputs": [
    {
     "output_type": "execute_result",
     "execution_count": 4,
     "data": {
      "application/vnd.deepnote.dataframe.v2+json": {
       "row_count": 8,
       "column_count": 7,
       "columns": [
        {
         "name": "Unnamed: 0",
         "dtype": "float64",
         "stats": {
          "unique_count": 7,
          "nan_count": 0,
          "min": "0.0",
          "max": "1387932.0",
          "histogram": [
           {
            "bin_start": 0,
            "bin_end": 138793.2,
            "count": 1
           },
           {
            "bin_start": 138793.2,
            "bin_end": 277586.4,
            "count": 0
           },
           {
            "bin_start": 277586.4,
            "bin_end": 416379.60000000003,
            "count": 2
           },
           {
            "bin_start": 416379.60000000003,
            "bin_end": 555172.8,
            "count": 0
           },
           {
            "bin_start": 555172.8,
            "bin_end": 693966,
            "count": 2
           },
           {
            "bin_start": 693966,
            "bin_end": 832759.2000000001,
            "count": 0
           },
           {
            "bin_start": 832759.2000000001,
            "bin_end": 971552.4000000001,
            "count": 0
           },
           {
            "bin_start": 971552.4000000001,
            "bin_end": 1110345.6,
            "count": 1
           },
           {
            "bin_start": 1110345.6,
            "bin_end": 1249138.8,
            "count": 0
           },
           {
            "bin_start": 1249138.8,
            "bin_end": 1387932,
            "count": 2
           }
          ]
         }
        },
        {
         "name": "fips",
         "dtype": "float64",
         "stats": {
          "unique_count": 8,
          "nan_count": 0,
          "min": "1001.0",
          "max": "1387932.0",
          "histogram": [
           {
            "bin_start": 1001,
            "bin_end": 139694.1,
            "count": 7
           },
           {
            "bin_start": 139694.1,
            "bin_end": 278387.2,
            "count": 0
           },
           {
            "bin_start": 278387.2,
            "bin_end": 417080.30000000005,
            "count": 0
           },
           {
            "bin_start": 417080.30000000005,
            "bin_end": 555773.4,
            "count": 0
           },
           {
            "bin_start": 555773.4,
            "bin_end": 694466.5,
            "count": 0
           },
           {
            "bin_start": 694466.5,
            "bin_end": 833159.6000000001,
            "count": 0
           },
           {
            "bin_start": 833159.6000000001,
            "bin_end": 971852.7000000001,
            "count": 0
           },
           {
            "bin_start": 971852.7000000001,
            "bin_end": 1110545.8,
            "count": 0
           },
           {
            "bin_start": 1110545.8,
            "bin_end": 1249238.9000000001,
            "count": 0
           },
           {
            "bin_start": 1249238.9000000001,
            "bin_end": 1387932,
            "count": 1
           }
          ]
         }
        },
        {
         "name": "value",
         "dtype": "float64",
         "stats": {
          "unique_count": 8,
          "nan_count": 0,
          "min": "0.0",
          "max": "10047571.0",
          "histogram": [
           {
            "bin_start": 0,
            "bin_end": 1004757.1,
            "count": 6
           },
           {
            "bin_start": 1004757.1,
            "bin_end": 2009514.2,
            "count": 1
           },
           {
            "bin_start": 2009514.2,
            "bin_end": 3014271.3,
            "count": 0
           },
           {
            "bin_start": 3014271.3,
            "bin_end": 4019028.4,
            "count": 0
           },
           {
            "bin_start": 4019028.4,
            "bin_end": 5023785.5,
            "count": 0
           },
           {
            "bin_start": 5023785.5,
            "bin_end": 6028542.6,
            "count": 0
           },
           {
            "bin_start": 6028542.6,
            "bin_end": 7033299.7,
            "count": 0
           },
           {
            "bin_start": 7033299.7,
            "bin_end": 8038056.8,
            "count": 0
           },
           {
            "bin_start": 8038056.8,
            "bin_end": 9042813.9,
            "count": 0
           },
           {
            "bin_start": 9042813.9,
            "bin_end": 10047571,
            "count": 1
           }
          ]
         }
        },
        {
         "name": "year",
         "dtype": "float64",
         "stats": {
          "unique_count": 5,
          "nan_count": 0,
          "min": "1.9965377729115934",
          "max": "1387932.0",
          "histogram": [
           {
            "bin_start": 1.9965377729115934,
            "bin_end": 138794.99688399563,
            "count": 7
           },
           {
            "bin_start": 138794.99688399563,
            "bin_end": 277587.9972302184,
            "count": 0
           },
           {
            "bin_start": 277587.9972302184,
            "bin_end": 416380.9975764411,
            "count": 0
           },
           {
            "bin_start": 416380.9975764411,
            "bin_end": 555173.9979226638,
            "count": 0
           },
           {
            "bin_start": 555173.9979226638,
            "bin_end": 693966.9982688865,
            "count": 0
           },
           {
            "bin_start": 693966.9982688865,
            "bin_end": 832759.9986151092,
            "count": 0
           },
           {
            "bin_start": 832759.9986151092,
            "bin_end": 971552.998961332,
            "count": 0
           },
           {
            "bin_start": 971552.998961332,
            "bin_end": 1110345.9993075547,
            "count": 0
           },
           {
            "bin_start": 1110345.9993075547,
            "bin_end": 1249138.9996537773,
            "count": 0
           },
           {
            "bin_start": 1249138.9996537773,
            "bin_end": 1387932,
            "count": 1
           }
          ]
         }
        },
        {
         "name": "mortality",
         "dtype": "float64",
         "stats": {
          "unique_count": 8,
          "nan_count": 0,
          "min": "0.79",
          "max": "1387932.0",
          "histogram": [
           {
            "bin_start": 0.79,
            "bin_end": 138793.911,
            "count": 7
           },
           {
            "bin_start": 138793.911,
            "bin_end": 277587.03199999995,
            "count": 0
           },
           {
            "bin_start": 277587.03199999995,
            "bin_end": 416380.15299999993,
            "count": 0
           },
           {
            "bin_start": 416380.15299999993,
            "bin_end": 555173.274,
            "count": 0
           },
           {
            "bin_start": 555173.274,
            "bin_end": 693966.395,
            "count": 0
           },
           {
            "bin_start": 693966.395,
            "bin_end": 832759.516,
            "count": 0
           },
           {
            "bin_start": 832759.516,
            "bin_end": 971552.6369999999,
            "count": 0
           },
           {
            "bin_start": 971552.6369999999,
            "bin_end": 1110345.758,
            "count": 0
           },
           {
            "bin_start": 1110345.758,
            "bin_end": 1249138.879,
            "count": 0
           },
           {
            "bin_start": 1249138.879,
            "bin_end": 1387932,
            "count": 1
           }
          ]
         }
        },
        {
         "name": "lower_95",
         "dtype": "float64",
         "stats": {
          "unique_count": 8,
          "nan_count": 0,
          "min": "0.4",
          "max": "1387932.0",
          "histogram": [
           {
            "bin_start": 0.4,
            "bin_end": 138793.56,
            "count": 7
           },
           {
            "bin_start": 138793.56,
            "bin_end": 277586.72000000003,
            "count": 0
           },
           {
            "bin_start": 277586.72000000003,
            "bin_end": 416379.88,
            "count": 0
           },
           {
            "bin_start": 416379.88,
            "bin_end": 555173.04,
            "count": 0
           },
           {
            "bin_start": 555173.04,
            "bin_end": 693966.2000000001,
            "count": 0
           },
           {
            "bin_start": 693966.2000000001,
            "bin_end": 832759.36,
            "count": 0
           },
           {
            "bin_start": 832759.36,
            "bin_end": 971552.52,
            "count": 0
           },
           {
            "bin_start": 971552.52,
            "bin_end": 1110345.68,
            "count": 0
           },
           {
            "bin_start": 1110345.68,
            "bin_end": 1249138.8399999999,
            "count": 0
           },
           {
            "bin_start": 1249138.8399999999,
            "bin_end": 1387932,
            "count": 1
           }
          ]
         }
        },
        {
         "name": "upper_95",
         "dtype": "float64",
         "stats": {
          "unique_count": 8,
          "nan_count": 0,
          "min": "0.98",
          "max": "1387932.0",
          "histogram": [
           {
            "bin_start": 0.98,
            "bin_end": 138794.08200000002,
            "count": 7
           },
           {
            "bin_start": 138794.08200000002,
            "bin_end": 277587.184,
            "count": 0
           },
           {
            "bin_start": 277587.184,
            "bin_end": 416380.286,
            "count": 0
           },
           {
            "bin_start": 416380.286,
            "bin_end": 555173.388,
            "count": 0
           },
           {
            "bin_start": 555173.388,
            "bin_end": 693966.49,
            "count": 0
           },
           {
            "bin_start": 693966.49,
            "bin_end": 832759.5920000001,
            "count": 0
           },
           {
            "bin_start": 832759.5920000001,
            "bin_end": 971552.6940000001,
            "count": 0
           },
           {
            "bin_start": 971552.6940000001,
            "bin_end": 1110345.796,
            "count": 0
           },
           {
            "bin_start": 1110345.796,
            "bin_end": 1249138.898,
            "count": 0
           },
           {
            "bin_start": 1249138.898,
            "bin_end": 1387932,
            "count": 1
           }
          ]
         }
        },
        {
         "name": "_deepnote_index_column",
         "dtype": "object"
        }
       ],
       "rows_top": [
        {
         "Unnamed: 0": 1387932,
         "fips": 1387932,
         "value": 1385345,
         "year": 1387932,
         "mortality": 1387932,
         "lower_95": 1387932,
         "upper_95": 1387932,
         "_deepnote_index_column": "count"
        },
        {
         "Unnamed: 0": 693965.5,
         "fips": 30387.398036791426,
         "value": 8881.077291088503,
         "year": 2011.8823573489192,
         "mortality": 46.95434413213326,
         "lower_95": 42.99112359251029,
         "upper_95": 51.20643714533566,
         "_deepnote_index_column": "mean"
        },
        {
         "Unnamed: 0": 400661.60124598915,
         "fips": 15154.325184696709,
         "value": 82276.0964948189,
         "year": 1.9965377729115934,
         "mortality": 82.93913132565852,
         "lower_95": 77.35654706506489,
         "upper_95": 88.69774301410432,
         "_deepnote_index_column": "std"
        },
        {
         "Unnamed: 0": 0,
         "fips": 1001,
         "value": 0,
         "year": 2010,
         "mortality": 0.79,
         "lower_95": 0.4,
         "upper_95": 0.98,
         "_deepnote_index_column": "min"
        },
        {
         "Unnamed: 0": 346982.75,
         "fips": 18177,
         "value": 0.8854462754434989,
         "year": 2010,
         "mortality": 4.09,
         "lower_95": 3.06,
         "upper_95": 5.33,
         "_deepnote_index_column": "25%"
        },
        {
         "Unnamed: 0": 693965.5,
         "fips": 29176,
         "value": 10.9,
         "year": 2010,
         "mortality": 9.93,
         "lower_95": 8.17,
         "upper_95": 12.29,
         "_deepnote_index_column": "50%"
        },
        {
         "Unnamed: 0": 1040948.25,
         "fips": 45081,
         "value": 202.311558843021,
         "year": 2014,
         "mortality": 39.7,
         "lower_95": 36.74,
         "upper_95": 42.82,
         "_deepnote_index_column": "75%"
        },
        {
         "Unnamed: 0": 1387931,
         "fips": 56045,
         "value": 10047571,
         "year": 2014,
         "mortality": 545.23,
         "lower_95": 509.27,
         "upper_95": 610.38,
         "_deepnote_index_column": "max"
        }
       ],
       "rows_bottom": null
      },
      "text/plain": "         Unnamed: 0          fips         value          year     mortality  \\\ncount  1.387932e+06  1.387932e+06  1.385345e+06  1.387932e+06  1.387932e+06   \nmean   6.939655e+05  3.038740e+04  8.881077e+03  2.011882e+03  4.695434e+01   \nstd    4.006616e+05  1.515433e+04  8.227610e+04  1.996538e+00  8.293913e+01   \nmin    0.000000e+00  1.001000e+03  0.000000e+00  2.010000e+03  7.900000e-01   \n25%    3.469828e+05  1.817700e+04  8.854463e-01  2.010000e+03  4.090000e+00   \n50%    6.939655e+05  2.917600e+04  1.090000e+01  2.010000e+03  9.930000e+00   \n75%    1.040948e+06  4.508100e+04  2.023116e+02  2.014000e+03  3.970000e+01   \nmax    1.387931e+06  5.604500e+04  1.004757e+07  2.014000e+03  5.452300e+02   \n\n           lower_95      upper_95  \ncount  1.387932e+06  1.387932e+06  \nmean   4.299112e+01  5.120644e+01  \nstd    7.735655e+01  8.869774e+01  \nmin    4.000000e-01  9.800000e-01  \n25%    3.060000e+00  5.330000e+00  \n50%    8.170000e+00  1.229000e+01  \n75%    3.674000e+01  4.282000e+01  \nmax    5.092700e+02  6.103800e+02  ",
      "text/html": "<div>\n<style scoped>\n    .dataframe tbody tr th:only-of-type {\n        vertical-align: middle;\n    }\n\n    .dataframe tbody tr th {\n        vertical-align: top;\n    }\n\n    .dataframe thead th {\n        text-align: right;\n    }\n</style>\n<table border=\"1\" class=\"dataframe\">\n  <thead>\n    <tr style=\"text-align: right;\">\n      <th></th>\n      <th>Unnamed: 0</th>\n      <th>fips</th>\n      <th>value</th>\n      <th>year</th>\n      <th>mortality</th>\n      <th>lower_95</th>\n      <th>upper_95</th>\n    </tr>\n  </thead>\n  <tbody>\n    <tr>\n      <th>count</th>\n      <td>1.387932e+06</td>\n      <td>1.387932e+06</td>\n      <td>1.385345e+06</td>\n      <td>1.387932e+06</td>\n      <td>1.387932e+06</td>\n      <td>1.387932e+06</td>\n      <td>1.387932e+06</td>\n    </tr>\n    <tr>\n      <th>mean</th>\n      <td>6.939655e+05</td>\n      <td>3.038740e+04</td>\n      <td>8.881077e+03</td>\n      <td>2.011882e+03</td>\n      <td>4.695434e+01</td>\n      <td>4.299112e+01</td>\n      <td>5.120644e+01</td>\n    </tr>\n    <tr>\n      <th>std</th>\n      <td>4.006616e+05</td>\n      <td>1.515433e+04</td>\n      <td>8.227610e+04</td>\n      <td>1.996538e+00</td>\n      <td>8.293913e+01</td>\n      <td>7.735655e+01</td>\n      <td>8.869774e+01</td>\n    </tr>\n    <tr>\n      <th>min</th>\n      <td>0.000000e+00</td>\n      <td>1.001000e+03</td>\n      <td>0.000000e+00</td>\n      <td>2.010000e+03</td>\n      <td>7.900000e-01</td>\n      <td>4.000000e-01</td>\n      <td>9.800000e-01</td>\n    </tr>\n    <tr>\n      <th>25%</th>\n      <td>3.469828e+05</td>\n      <td>1.817700e+04</td>\n      <td>8.854463e-01</td>\n      <td>2.010000e+03</td>\n      <td>4.090000e+00</td>\n      <td>3.060000e+00</td>\n      <td>5.330000e+00</td>\n    </tr>\n    <tr>\n      <th>50%</th>\n      <td>6.939655e+05</td>\n      <td>2.917600e+04</td>\n      <td>1.090000e+01</td>\n      <td>2.010000e+03</td>\n      <td>9.930000e+00</td>\n      <td>8.170000e+00</td>\n      <td>1.229000e+01</td>\n    </tr>\n    <tr>\n      <th>75%</th>\n      <td>1.040948e+06</td>\n      <td>4.508100e+04</td>\n      <td>2.023116e+02</td>\n      <td>2.014000e+03</td>\n      <td>3.970000e+01</td>\n      <td>3.674000e+01</td>\n      <td>4.282000e+01</td>\n    </tr>\n    <tr>\n      <th>max</th>\n      <td>1.387931e+06</td>\n      <td>5.604500e+04</td>\n      <td>1.004757e+07</td>\n      <td>2.014000e+03</td>\n      <td>5.452300e+02</td>\n      <td>5.092700e+02</td>\n      <td>6.103800e+02</td>\n    </tr>\n  </tbody>\n</table>\n</div>"
     },
     "metadata": {}
    }
   ],
   "execution_count": null
  },
  {
   "cell_type": "code",
   "metadata": {
    "cell_id": "00004-015e0f3a-25aa-4e10-8b55-17accd68b744",
    "deepnote_output_heights": [
     177
    ],
    "deepnote_to_be_reexecuted": false,
    "source_hash": "9013802a",
    "execution_start": 1638570528314,
    "execution_millis": 25,
    "deepnote_cell_type": "code"
   },
   "source": "# focus on percentage access to stores and cardiovascular diseases\nbasic = df.loc[(df['indicator']=='PCT_LACCESS_POP')&(df['disease']=='Cardiovascular diseases'),['fips','value','year','mortality']]\nbasic.head()",
   "outputs": [
    {
     "output_type": "execute_result",
     "execution_count": 5,
     "data": {
      "application/vnd.deepnote.dataframe.v2+json": {
       "row_count": 5,
       "column_count": 4,
       "columns": [
        {
         "name": "fips",
         "dtype": "int64",
         "stats": {
          "unique_count": 5,
          "nan_count": 0,
          "min": "1001",
          "max": "1009",
          "histogram": [
           {
            "bin_start": 1001,
            "bin_end": 1001.8,
            "count": 1
           },
           {
            "bin_start": 1001.8,
            "bin_end": 1002.6,
            "count": 0
           },
           {
            "bin_start": 1002.6,
            "bin_end": 1003.4,
            "count": 1
           },
           {
            "bin_start": 1003.4,
            "bin_end": 1004.2,
            "count": 0
           },
           {
            "bin_start": 1004.2,
            "bin_end": 1005,
            "count": 0
           },
           {
            "bin_start": 1005,
            "bin_end": 1005.8,
            "count": 1
           },
           {
            "bin_start": 1005.8,
            "bin_end": 1006.6,
            "count": 0
           },
           {
            "bin_start": 1006.6,
            "bin_end": 1007.4,
            "count": 1
           },
           {
            "bin_start": 1007.4,
            "bin_end": 1008.2,
            "count": 0
           },
           {
            "bin_start": 1008.2,
            "bin_end": 1009,
            "count": 1
           }
          ]
         }
        },
        {
         "name": "value",
         "dtype": "float64",
         "stats": {
          "unique_count": 5,
          "nan_count": 0,
          "min": "4.230324420618643",
          "max": "32.06225474718403",
          "histogram": [
           {
            "bin_start": 4.230324420618643,
            "bin_end": 7.013517453275182,
            "count": 2
           },
           {
            "bin_start": 7.013517453275182,
            "bin_end": 9.79671048593172,
            "count": 0
           },
           {
            "bin_start": 9.79671048593172,
            "bin_end": 12.57990351858826,
            "count": 0
           },
           {
            "bin_start": 12.57990351858826,
            "bin_end": 15.363096551244798,
            "count": 0
           },
           {
            "bin_start": 15.363096551244798,
            "bin_end": 18.146289583901336,
            "count": 1
           },
           {
            "bin_start": 18.146289583901336,
            "bin_end": 20.929482616557877,
            "count": 0
           },
           {
            "bin_start": 20.929482616557877,
            "bin_end": 23.712675649214415,
            "count": 1
           },
           {
            "bin_start": 23.712675649214415,
            "bin_end": 26.495868681870952,
            "count": 0
           },
           {
            "bin_start": 26.495868681870952,
            "bin_end": 29.27906171452749,
            "count": 0
           },
           {
            "bin_start": 29.27906171452749,
            "bin_end": 32.06225474718403,
            "count": 1
           }
          ]
         }
        },
        {
         "name": "year",
         "dtype": "int64",
         "stats": {
          "unique_count": 1,
          "nan_count": 0,
          "min": "2014",
          "max": "2014",
          "histogram": [
           {
            "bin_start": 2013.5,
            "bin_end": 2013.6,
            "count": 0
           },
           {
            "bin_start": 2013.6,
            "bin_end": 2013.7,
            "count": 0
           },
           {
            "bin_start": 2013.7,
            "bin_end": 2013.8,
            "count": 0
           },
           {
            "bin_start": 2013.8,
            "bin_end": 2013.9,
            "count": 0
           },
           {
            "bin_start": 2013.9,
            "bin_end": 2014,
            "count": 0
           },
           {
            "bin_start": 2014,
            "bin_end": 2014.1,
            "count": 5
           },
           {
            "bin_start": 2014.1,
            "bin_end": 2014.2,
            "count": 0
           },
           {
            "bin_start": 2014.2,
            "bin_end": 2014.3,
            "count": 0
           },
           {
            "bin_start": 2014.3,
            "bin_end": 2014.4,
            "count": 0
           },
           {
            "bin_start": 2014.4,
            "bin_end": 2014.5,
            "count": 0
           }
          ]
         }
        },
        {
         "name": "mortality",
         "dtype": "float64",
         "stats": {
          "unique_count": 5,
          "nan_count": 0,
          "min": "255.09",
          "max": "378.09",
          "histogram": [
           {
            "bin_start": 255.09,
            "bin_end": 267.39,
            "count": 1
           },
           {
            "bin_start": 267.39,
            "bin_end": 279.69,
            "count": 1
           },
           {
            "bin_start": 279.69,
            "bin_end": 291.99,
            "count": 0
           },
           {
            "bin_start": 291.99,
            "bin_end": 304.28999999999996,
            "count": 0
           },
           {
            "bin_start": 304.28999999999996,
            "bin_end": 316.59,
            "count": 2
           },
           {
            "bin_start": 316.59,
            "bin_end": 328.89,
            "count": 0
           },
           {
            "bin_start": 328.89,
            "bin_end": 341.19,
            "count": 0
           },
           {
            "bin_start": 341.19,
            "bin_end": 353.49,
            "count": 0
           },
           {
            "bin_start": 353.49,
            "bin_end": 365.78999999999996,
            "count": 0
           },
           {
            "bin_start": 365.78999999999996,
            "bin_end": 378.09,
            "count": 1
           }
          ]
         }
        },
        {
         "name": "_deepnote_index_column",
         "dtype": "int64"
        }
       ],
       "rows_top": [
        {
         "fips": 1001,
         "value": 32.06225474718403,
         "year": 2014,
         "mortality": 316.36,
         "_deepnote_index_column": 156
        },
        {
         "fips": 1003,
         "value": 16.76748933132702,
         "year": 2014,
         "mortality": 272.04,
         "_deepnote_index_column": 364
        },
        {
         "fips": 1005,
         "value": 22.10556006697366,
         "year": 2014,
         "mortality": 255.09,
         "_deepnote_index_column": 572
        },
        {
         "fips": 1007,
         "value": 4.230324420618643,
         "year": 2014,
         "mortality": 378.09,
         "_deepnote_index_column": 780
        },
        {
         "fips": 1009,
         "value": 6.497380137361867,
         "year": 2014,
         "mortality": 307.9,
         "_deepnote_index_column": 988
        }
       ],
       "rows_bottom": null
      },
      "text/plain": "     fips      value  year  mortality\n156  1001  32.062255  2014     316.36\n364  1003  16.767489  2014     272.04\n572  1005  22.105560  2014     255.09\n780  1007   4.230324  2014     378.09\n988  1009   6.497380  2014     307.90",
      "text/html": "<div>\n<style scoped>\n    .dataframe tbody tr th:only-of-type {\n        vertical-align: middle;\n    }\n\n    .dataframe tbody tr th {\n        vertical-align: top;\n    }\n\n    .dataframe thead th {\n        text-align: right;\n    }\n</style>\n<table border=\"1\" class=\"dataframe\">\n  <thead>\n    <tr style=\"text-align: right;\">\n      <th></th>\n      <th>fips</th>\n      <th>value</th>\n      <th>year</th>\n      <th>mortality</th>\n    </tr>\n  </thead>\n  <tbody>\n    <tr>\n      <th>156</th>\n      <td>1001</td>\n      <td>32.062255</td>\n      <td>2014</td>\n      <td>316.36</td>\n    </tr>\n    <tr>\n      <th>364</th>\n      <td>1003</td>\n      <td>16.767489</td>\n      <td>2014</td>\n      <td>272.04</td>\n    </tr>\n    <tr>\n      <th>572</th>\n      <td>1005</td>\n      <td>22.105560</td>\n      <td>2014</td>\n      <td>255.09</td>\n    </tr>\n    <tr>\n      <th>780</th>\n      <td>1007</td>\n      <td>4.230324</td>\n      <td>2014</td>\n      <td>378.09</td>\n    </tr>\n    <tr>\n      <th>988</th>\n      <td>1009</td>\n      <td>6.497380</td>\n      <td>2014</td>\n      <td>307.90</td>\n    </tr>\n  </tbody>\n</table>\n</div>"
     },
     "metadata": {}
    }
   ],
   "execution_count": null
  },
  {
   "cell_type": "code",
   "metadata": {
    "cell_id": "00006-c0251877-2318-4fd8-a147-0baf15293c6e",
    "deepnote_output_heights": [
     148
    ],
    "deepnote_to_be_reexecuted": false,
    "source_hash": "57fbac65",
    "execution_start": 1638570529154,
    "execution_millis": 43,
    "deepnote_cell_type": "code"
   },
   "source": "# correlation matrix\nbasic.corr()",
   "outputs": [
    {
     "output_type": "execute_result",
     "execution_count": 6,
     "data": {
      "application/vnd.deepnote.dataframe.v2+json": {
       "row_count": 4,
       "column_count": 4,
       "columns": [
        {
         "name": "fips",
         "dtype": "float64",
         "stats": {
          "unique_count": 4,
          "nan_count": 0,
          "min": "-0.03865959071819362",
          "max": "1.0",
          "histogram": [
           {
            "bin_start": -0.03865959071819362,
            "bin_end": 0.06520636835362574,
            "count": 3
           },
           {
            "bin_start": 0.06520636835362574,
            "bin_end": 0.1690723274254451,
            "count": 0
           },
           {
            "bin_start": 0.1690723274254451,
            "bin_end": 0.2729382864972644,
            "count": 0
           },
           {
            "bin_start": 0.2729382864972644,
            "bin_end": 0.3768042455690838,
            "count": 0
           },
           {
            "bin_start": 0.3768042455690838,
            "bin_end": 0.4806702046409032,
            "count": 0
           },
           {
            "bin_start": 0.4806702046409032,
            "bin_end": 0.5845361637127225,
            "count": 0
           },
           {
            "bin_start": 0.5845361637127225,
            "bin_end": 0.6884021227845419,
            "count": 0
           },
           {
            "bin_start": 0.6884021227845419,
            "bin_end": 0.7922680818563613,
            "count": 0
           },
           {
            "bin_start": 0.7922680818563613,
            "bin_end": 0.8961340409281807,
            "count": 0
           },
           {
            "bin_start": 0.8961340409281807,
            "bin_end": 1,
            "count": 1
           }
          ]
         }
        },
        {
         "name": "value",
         "dtype": "float64",
         "stats": {
          "unique_count": 4,
          "nan_count": 0,
          "min": "-0.22490237901754329",
          "max": "1.0",
          "histogram": [
           {
            "bin_start": -0.22490237901754329,
            "bin_end": -0.10241214111578896,
            "count": 1
           },
           {
            "bin_start": -0.10241214111578896,
            "bin_end": 0.020078096785965366,
            "count": 1
           },
           {
            "bin_start": 0.020078096785965366,
            "bin_end": 0.14256833468771968,
            "count": 1
           },
           {
            "bin_start": 0.14256833468771968,
            "bin_end": 0.265058572589474,
            "count": 0
           },
           {
            "bin_start": 0.265058572589474,
            "bin_end": 0.38754881049122836,
            "count": 0
           },
           {
            "bin_start": 0.38754881049122836,
            "bin_end": 0.5100390483929826,
            "count": 0
           },
           {
            "bin_start": 0.5100390483929826,
            "bin_end": 0.632529286294737,
            "count": 0
           },
           {
            "bin_start": 0.632529286294737,
            "bin_end": 0.7550195241964913,
            "count": 0
           },
           {
            "bin_start": 0.7550195241964913,
            "bin_end": 0.8775097620982457,
            "count": 0
           },
           {
            "bin_start": 0.8775097620982457,
            "bin_end": 1,
            "count": 1
           }
          ]
         }
        },
        {
         "name": "year",
         "dtype": "float64",
         "stats": {
          "unique_count": 4,
          "nan_count": 0,
          "min": "-0.01215855899983077",
          "max": "1.0",
          "histogram": [
           {
            "bin_start": -0.01215855899983077,
            "bin_end": 0.08905729690015231,
            "count": 3
           },
           {
            "bin_start": 0.08905729690015231,
            "bin_end": 0.1902731528001354,
            "count": 0
           },
           {
            "bin_start": 0.1902731528001354,
            "bin_end": 0.2914890087001185,
            "count": 0
           },
           {
            "bin_start": 0.2914890087001185,
            "bin_end": 0.39270486460010157,
            "count": 0
           },
           {
            "bin_start": 0.39270486460010157,
            "bin_end": 0.4939207205000846,
            "count": 0
           },
           {
            "bin_start": 0.4939207205000846,
            "bin_end": 0.5951365764000678,
            "count": 0
           },
           {
            "bin_start": 0.5951365764000678,
            "bin_end": 0.6963524323000508,
            "count": 0
           },
           {
            "bin_start": 0.6963524323000508,
            "bin_end": 0.7975682882000339,
            "count": 0
           },
           {
            "bin_start": 0.7975682882000339,
            "bin_end": 0.898784144100017,
            "count": 0
           },
           {
            "bin_start": 0.898784144100017,
            "bin_end": 1,
            "count": 1
           }
          ]
         }
        },
        {
         "name": "mortality",
         "dtype": "float64",
         "stats": {
          "unique_count": 4,
          "nan_count": 0,
          "min": "-0.22490237901754329",
          "max": "1.0",
          "histogram": [
           {
            "bin_start": -0.22490237901754329,
            "bin_end": -0.10241214111578896,
            "count": 1
           },
           {
            "bin_start": -0.10241214111578896,
            "bin_end": 0.020078096785965366,
            "count": 2
           },
           {
            "bin_start": 0.020078096785965366,
            "bin_end": 0.14256833468771968,
            "count": 0
           },
           {
            "bin_start": 0.14256833468771968,
            "bin_end": 0.265058572589474,
            "count": 0
           },
           {
            "bin_start": 0.265058572589474,
            "bin_end": 0.38754881049122836,
            "count": 0
           },
           {
            "bin_start": 0.38754881049122836,
            "bin_end": 0.5100390483929826,
            "count": 0
           },
           {
            "bin_start": 0.5100390483929826,
            "bin_end": 0.632529286294737,
            "count": 0
           },
           {
            "bin_start": 0.632529286294737,
            "bin_end": 0.7550195241964913,
            "count": 0
           },
           {
            "bin_start": 0.7550195241964913,
            "bin_end": 0.8775097620982457,
            "count": 0
           },
           {
            "bin_start": 0.8775097620982457,
            "bin_end": 1,
            "count": 1
           }
          ]
         }
        },
        {
         "name": "_deepnote_index_column",
         "dtype": "object"
        }
       ],
       "rows_top": [
        {
         "fips": 1,
         "value": 0.045393874891118895,
         "year": -4.148656386461442e-13,
         "mortality": -0.03865959071819362,
         "_deepnote_index_column": "fips"
        },
        {
         "fips": 0.045393874891118895,
         "value": 1,
         "year": -0.01215855899983077,
         "mortality": -0.22490237901754329,
         "_deepnote_index_column": "value"
        },
        {
         "fips": -4.148656386461442e-13,
         "value": -0.01215855899983077,
         "year": 1,
         "mortality": -0.005323251939282342,
         "_deepnote_index_column": "year"
        },
        {
         "fips": -0.03865959071819362,
         "value": -0.22490237901754329,
         "year": -0.005323251939282342,
         "mortality": 1,
         "_deepnote_index_column": "mortality"
        }
       ],
       "rows_bottom": null
      },
      "text/plain": "                   fips     value          year  mortality\nfips       1.000000e+00  0.045394 -4.148656e-13  -0.038660\nvalue      4.539387e-02  1.000000 -1.215856e-02  -0.224902\nyear      -4.148656e-13 -0.012159  1.000000e+00  -0.005323\nmortality -3.865959e-02 -0.224902 -5.323252e-03   1.000000",
      "text/html": "<div>\n<style scoped>\n    .dataframe tbody tr th:only-of-type {\n        vertical-align: middle;\n    }\n\n    .dataframe tbody tr th {\n        vertical-align: top;\n    }\n\n    .dataframe thead th {\n        text-align: right;\n    }\n</style>\n<table border=\"1\" class=\"dataframe\">\n  <thead>\n    <tr style=\"text-align: right;\">\n      <th></th>\n      <th>fips</th>\n      <th>value</th>\n      <th>year</th>\n      <th>mortality</th>\n    </tr>\n  </thead>\n  <tbody>\n    <tr>\n      <th>fips</th>\n      <td>1.000000e+00</td>\n      <td>0.045394</td>\n      <td>-4.148656e-13</td>\n      <td>-0.038660</td>\n    </tr>\n    <tr>\n      <th>value</th>\n      <td>4.539387e-02</td>\n      <td>1.000000</td>\n      <td>-1.215856e-02</td>\n      <td>-0.224902</td>\n    </tr>\n    <tr>\n      <th>year</th>\n      <td>-4.148656e-13</td>\n      <td>-0.012159</td>\n      <td>1.000000e+00</td>\n      <td>-0.005323</td>\n    </tr>\n    <tr>\n      <th>mortality</th>\n      <td>-3.865959e-02</td>\n      <td>-0.224902</td>\n      <td>-5.323252e-03</td>\n      <td>1.000000</td>\n    </tr>\n  </tbody>\n</table>\n</div>"
     },
     "metadata": {}
    }
   ],
   "execution_count": null
  },
  {
   "cell_type": "code",
   "metadata": {
    "cell_id": "00007-557f6db3-8309-497f-a58d-c216449d02ca",
    "deepnote_output_heights": [
     148
    ],
    "deepnote_to_be_reexecuted": false,
    "source_hash": "7e7127d6",
    "execution_start": 1638570530449,
    "execution_millis": 34,
    "deepnote_cell_type": "code"
   },
   "source": "# correlation matrix for 2010\nbasic.loc[basic['year']==2010].corr()",
   "outputs": [
    {
     "output_type": "execute_result",
     "execution_count": 7,
     "data": {
      "application/vnd.deepnote.dataframe.v2+json": {
       "row_count": 4,
       "column_count": 4,
       "columns": [
        {
         "name": "fips",
         "dtype": "float64",
         "stats": {
          "unique_count": 3,
          "nan_count": 1,
          "min": "-0.03898487471834601",
          "max": "1.0",
          "histogram": [
           {
            "bin_start": -0.03898487471834601,
            "bin_end": 0.0649136127534886,
            "count": 2
           },
           {
            "bin_start": 0.0649136127534886,
            "bin_end": 0.16881210022532323,
            "count": 0
           },
           {
            "bin_start": 0.16881210022532323,
            "bin_end": 0.27271058769715784,
            "count": 0
           },
           {
            "bin_start": 0.27271058769715784,
            "bin_end": 0.37660907516899245,
            "count": 0
           },
           {
            "bin_start": 0.37660907516899245,
            "bin_end": 0.48050756264082706,
            "count": 0
           },
           {
            "bin_start": 0.48050756264082706,
            "bin_end": 0.5844060501126617,
            "count": 0
           },
           {
            "bin_start": 0.5844060501126617,
            "bin_end": 0.6883045375844963,
            "count": 0
           },
           {
            "bin_start": 0.6883045375844963,
            "bin_end": 0.7922030250563309,
            "count": 0
           },
           {
            "bin_start": 0.7922030250563309,
            "bin_end": 0.8961015125281655,
            "count": 0
           },
           {
            "bin_start": 0.8961015125281655,
            "bin_end": 1,
            "count": 1
           }
          ]
         }
        },
        {
         "name": "value",
         "dtype": "float64",
         "stats": {
          "unique_count": 3,
          "nan_count": 1,
          "min": "-0.254059719358691",
          "max": "1.0",
          "histogram": [
           {
            "bin_start": -0.254059719358691,
            "bin_end": -0.12865374742282187,
            "count": 1
           },
           {
            "bin_start": -0.12865374742282187,
            "bin_end": -0.003247775486952764,
            "count": 0
           },
           {
            "bin_start": -0.003247775486952764,
            "bin_end": 0.12215819644891635,
            "count": 1
           },
           {
            "bin_start": 0.12215819644891635,
            "bin_end": 0.24756416838478545,
            "count": 0
           },
           {
            "bin_start": 0.24756416838478545,
            "bin_end": 0.37297014032065456,
            "count": 0
           },
           {
            "bin_start": 0.37297014032065456,
            "bin_end": 0.4983761122565237,
            "count": 0
           },
           {
            "bin_start": 0.4983761122565237,
            "bin_end": 0.6237820841923928,
            "count": 0
           },
           {
            "bin_start": 0.6237820841923928,
            "bin_end": 0.7491880561282619,
            "count": 0
           },
           {
            "bin_start": 0.7491880561282619,
            "bin_end": 0.874594028064131,
            "count": 0
           },
           {
            "bin_start": 0.874594028064131,
            "bin_end": 1,
            "count": 1
           }
          ]
         }
        },
        {
         "name": "year",
         "dtype": "float64",
         "stats": {
          "unique_count": 0,
          "nan_count": 4,
          "min": null,
          "max": null,
          "histogram": [
           {
            "bin_start": 0,
            "bin_end": 0.1,
            "count": 0
           },
           {
            "bin_start": 0.1,
            "bin_end": 0.2,
            "count": 0
           },
           {
            "bin_start": 0.2,
            "bin_end": 0.30000000000000004,
            "count": 0
           },
           {
            "bin_start": 0.30000000000000004,
            "bin_end": 0.4,
            "count": 0
           },
           {
            "bin_start": 0.4,
            "bin_end": 0.5,
            "count": 0
           },
           {
            "bin_start": 0.5,
            "bin_end": 0.6000000000000001,
            "count": 0
           },
           {
            "bin_start": 0.6000000000000001,
            "bin_end": 0.7000000000000001,
            "count": 0
           },
           {
            "bin_start": 0.7000000000000001,
            "bin_end": 0.8,
            "count": 0
           },
           {
            "bin_start": 0.8,
            "bin_end": 0.9,
            "count": 0
           },
           {
            "bin_start": 0.9,
            "bin_end": 1,
            "count": 0
           }
          ]
         }
        },
        {
         "name": "mortality",
         "dtype": "float64",
         "stats": {
          "unique_count": 3,
          "nan_count": 1,
          "min": "-0.254059719358691",
          "max": "1.0",
          "histogram": [
           {
            "bin_start": -0.254059719358691,
            "bin_end": -0.12865374742282187,
            "count": 1
           },
           {
            "bin_start": -0.12865374742282187,
            "bin_end": -0.003247775486952764,
            "count": 1
           },
           {
            "bin_start": -0.003247775486952764,
            "bin_end": 0.12215819644891635,
            "count": 0
           },
           {
            "bin_start": 0.12215819644891635,
            "bin_end": 0.24756416838478545,
            "count": 0
           },
           {
            "bin_start": 0.24756416838478545,
            "bin_end": 0.37297014032065456,
            "count": 0
           },
           {
            "bin_start": 0.37297014032065456,
            "bin_end": 0.4983761122565237,
            "count": 0
           },
           {
            "bin_start": 0.4983761122565237,
            "bin_end": 0.6237820841923928,
            "count": 0
           },
           {
            "bin_start": 0.6237820841923928,
            "bin_end": 0.7491880561282619,
            "count": 0
           },
           {
            "bin_start": 0.7491880561282619,
            "bin_end": 0.874594028064131,
            "count": 0
           },
           {
            "bin_start": 0.874594028064131,
            "bin_end": 1,
            "count": 1
           }
          ]
         }
        },
        {
         "name": "_deepnote_index_column",
         "dtype": "object"
        }
       ],
       "rows_top": [
        {
         "fips": 1,
         "value": 0.04331509255261153,
         "year": "nan",
         "mortality": -0.03898487471834601,
         "_deepnote_index_column": "fips"
        },
        {
         "fips": 0.04331509255261153,
         "value": 1,
         "year": "nan",
         "mortality": -0.254059719358691,
         "_deepnote_index_column": "value"
        },
        {
         "fips": "nan",
         "value": "nan",
         "year": "nan",
         "mortality": "nan",
         "_deepnote_index_column": "year"
        },
        {
         "fips": -0.03898487471834601,
         "value": -0.254059719358691,
         "year": "nan",
         "mortality": 1,
         "_deepnote_index_column": "mortality"
        }
       ],
       "rows_bottom": null
      },
      "text/plain": "               fips     value  year  mortality\nfips       1.000000  0.043315   NaN  -0.038985\nvalue      0.043315  1.000000   NaN  -0.254060\nyear            NaN       NaN   NaN        NaN\nmortality -0.038985 -0.254060   NaN   1.000000",
      "text/html": "<div>\n<style scoped>\n    .dataframe tbody tr th:only-of-type {\n        vertical-align: middle;\n    }\n\n    .dataframe tbody tr th {\n        vertical-align: top;\n    }\n\n    .dataframe thead th {\n        text-align: right;\n    }\n</style>\n<table border=\"1\" class=\"dataframe\">\n  <thead>\n    <tr style=\"text-align: right;\">\n      <th></th>\n      <th>fips</th>\n      <th>value</th>\n      <th>year</th>\n      <th>mortality</th>\n    </tr>\n  </thead>\n  <tbody>\n    <tr>\n      <th>fips</th>\n      <td>1.000000</td>\n      <td>0.043315</td>\n      <td>NaN</td>\n      <td>-0.038985</td>\n    </tr>\n    <tr>\n      <th>value</th>\n      <td>0.043315</td>\n      <td>1.000000</td>\n      <td>NaN</td>\n      <td>-0.254060</td>\n    </tr>\n    <tr>\n      <th>year</th>\n      <td>NaN</td>\n      <td>NaN</td>\n      <td>NaN</td>\n      <td>NaN</td>\n    </tr>\n    <tr>\n      <th>mortality</th>\n      <td>-0.038985</td>\n      <td>-0.254060</td>\n      <td>NaN</td>\n      <td>1.000000</td>\n    </tr>\n  </tbody>\n</table>\n</div>"
     },
     "metadata": {}
    }
   ],
   "execution_count": null
  },
  {
   "cell_type": "code",
   "metadata": {
    "tags": [],
    "cell_id": "00009-bb0730fe-aa22-4fb3-af29-f188964f7ce9",
    "deepnote_to_be_reexecuted": false,
    "source_hash": "70dfb153",
    "execution_start": 1638570542217,
    "execution_millis": 67,
    "deepnote_cell_type": "code"
   },
   "source": "# looking at various diseases\n# Cerebrovascular disease\ndf_cbd=df.loc[df['disease']=='Cerebrovascular disease', ['fips', 'value', 'mortality']]\ndf_cbd.corr()",
   "outputs": [
    {
     "output_type": "execute_result",
     "execution_count": 10,
     "data": {
      "application/vnd.deepnote.dataframe.v2+json": {
       "row_count": 3,
       "column_count": 3,
       "columns": [
        {
         "name": "fips",
         "dtype": "float64",
         "stats": {
          "unique_count": 3,
          "nan_count": 0,
          "min": "-0.04721521312239696",
          "max": "1.0",
          "histogram": [
           {
            "bin_start": -0.04721521312239696,
            "bin_end": 0.057506308189842745,
            "count": 2
           },
           {
            "bin_start": 0.057506308189842745,
            "bin_end": 0.16222782950208245,
            "count": 0
           },
           {
            "bin_start": 0.16222782950208245,
            "bin_end": 0.26694935081432214,
            "count": 0
           },
           {
            "bin_start": 0.26694935081432214,
            "bin_end": 0.37167087212656186,
            "count": 0
           },
           {
            "bin_start": 0.37167087212656186,
            "bin_end": 0.4763923934388016,
            "count": 0
           },
           {
            "bin_start": 0.4763923934388016,
            "bin_end": 0.5811139147510412,
            "count": 0
           },
           {
            "bin_start": 0.5811139147510412,
            "bin_end": 0.685835436063281,
            "count": 0
           },
           {
            "bin_start": 0.685835436063281,
            "bin_end": 0.7905569573755207,
            "count": 0
           },
           {
            "bin_start": 0.7905569573755207,
            "bin_end": 0.8952784786877603,
            "count": 0
           },
           {
            "bin_start": 0.8952784786877603,
            "bin_end": 1,
            "count": 1
           }
          ]
         }
        },
        {
         "name": "value",
         "dtype": "float64",
         "stats": {
          "unique_count": 3,
          "nan_count": 0,
          "min": "-0.038881029984227454",
          "max": "1.0",
          "histogram": [
           {
            "bin_start": -0.038881029984227454,
            "bin_end": 0.06500707301419528,
            "count": 2
           },
           {
            "bin_start": 0.06500707301419528,
            "bin_end": 0.16889517601261803,
            "count": 0
           },
           {
            "bin_start": 0.16889517601261803,
            "bin_end": 0.27278327901104077,
            "count": 0
           },
           {
            "bin_start": 0.27278327901104077,
            "bin_end": 0.37667138200946354,
            "count": 0
           },
           {
            "bin_start": 0.37667138200946354,
            "bin_end": 0.4805594850078863,
            "count": 0
           },
           {
            "bin_start": 0.4805594850078863,
            "bin_end": 0.5844475880063089,
            "count": 0
           },
           {
            "bin_start": 0.5844475880063089,
            "bin_end": 0.6883356910047317,
            "count": 0
           },
           {
            "bin_start": 0.6883356910047317,
            "bin_end": 0.7922237940031545,
            "count": 0
           },
           {
            "bin_start": 0.7922237940031545,
            "bin_end": 0.8961118970015772,
            "count": 0
           },
           {
            "bin_start": 0.8961118970015772,
            "bin_end": 1,
            "count": 1
           }
          ]
         }
        },
        {
         "name": "mortality",
         "dtype": "float64",
         "stats": {
          "unique_count": 3,
          "nan_count": 0,
          "min": "-0.04721521312239696",
          "max": "1.0",
          "histogram": [
           {
            "bin_start": -0.04721521312239696,
            "bin_end": 0.057506308189842745,
            "count": 2
           },
           {
            "bin_start": 0.057506308189842745,
            "bin_end": 0.16222782950208245,
            "count": 0
           },
           {
            "bin_start": 0.16222782950208245,
            "bin_end": 0.26694935081432214,
            "count": 0
           },
           {
            "bin_start": 0.26694935081432214,
            "bin_end": 0.37167087212656186,
            "count": 0
           },
           {
            "bin_start": 0.37167087212656186,
            "bin_end": 0.4763923934388016,
            "count": 0
           },
           {
            "bin_start": 0.4763923934388016,
            "bin_end": 0.5811139147510412,
            "count": 0
           },
           {
            "bin_start": 0.5811139147510412,
            "bin_end": 0.685835436063281,
            "count": 0
           },
           {
            "bin_start": 0.685835436063281,
            "bin_end": 0.7905569573755207,
            "count": 0
           },
           {
            "bin_start": 0.7905569573755207,
            "bin_end": 0.8952784786877603,
            "count": 0
           },
           {
            "bin_start": 0.8952784786877603,
            "bin_end": 1,
            "count": 1
           }
          ]
         }
        },
        {
         "name": "_deepnote_index_column",
         "dtype": "object"
        }
       ],
       "rows_top": [
        {
         "fips": 1,
         "value": -0.014543457933634154,
         "mortality": -0.04721521312239696,
         "_deepnote_index_column": "fips"
        },
        {
         "fips": -0.014543457933634154,
         "value": 1,
         "mortality": -0.038881029984227454,
         "_deepnote_index_column": "value"
        },
        {
         "fips": -0.04721521312239696,
         "value": -0.038881029984227454,
         "mortality": 1,
         "_deepnote_index_column": "mortality"
        }
       ],
       "rows_bottom": null
      },
      "text/plain": "               fips     value  mortality\nfips       1.000000 -0.014543  -0.047215\nvalue     -0.014543  1.000000  -0.038881\nmortality -0.047215 -0.038881   1.000000",
      "text/html": "<div>\n<style scoped>\n    .dataframe tbody tr th:only-of-type {\n        vertical-align: middle;\n    }\n\n    .dataframe tbody tr th {\n        vertical-align: top;\n    }\n\n    .dataframe thead th {\n        text-align: right;\n    }\n</style>\n<table border=\"1\" class=\"dataframe\">\n  <thead>\n    <tr style=\"text-align: right;\">\n      <th></th>\n      <th>fips</th>\n      <th>value</th>\n      <th>mortality</th>\n    </tr>\n  </thead>\n  <tbody>\n    <tr>\n      <th>fips</th>\n      <td>1.000000</td>\n      <td>-0.014543</td>\n      <td>-0.047215</td>\n    </tr>\n    <tr>\n      <th>value</th>\n      <td>-0.014543</td>\n      <td>1.000000</td>\n      <td>-0.038881</td>\n    </tr>\n    <tr>\n      <th>mortality</th>\n      <td>-0.047215</td>\n      <td>-0.038881</td>\n      <td>1.000000</td>\n    </tr>\n  </tbody>\n</table>\n</div>"
     },
     "metadata": {}
    }
   ],
   "execution_count": null
  },
  {
   "cell_type": "code",
   "metadata": {
    "tags": [],
    "cell_id": "00010-ecca6d2b-0d6b-43be-88b1-dc7634a22f5b",
    "deepnote_to_be_reexecuted": false,
    "source_hash": "1ef8b6c1",
    "execution_start": 1638570550005,
    "execution_millis": 62,
    "deepnote_cell_type": "code"
   },
   "source": "# Ischemic heart disease\ndf_ihd=df.loc[df['disease']=='Ischemic heart disease', ['fips', 'value', 'mortality']]\ndf_ihd.corr()",
   "outputs": [
    {
     "output_type": "execute_result",
     "execution_count": 11,
     "data": {
      "application/vnd.deepnote.dataframe.v2+json": {
       "row_count": 3,
       "column_count": 3,
       "columns": [
        {
         "name": "fips",
         "dtype": "float64",
         "stats": {
          "unique_count": 3,
          "nan_count": 0,
          "min": "-0.014543457933634154",
          "max": "1.0",
          "histogram": [
           {
            "bin_start": -0.014543457933634154,
            "bin_end": 0.08691088785972925,
            "count": 2
           },
           {
            "bin_start": 0.08691088785972925,
            "bin_end": 0.18836523365309266,
            "count": 0
           },
           {
            "bin_start": 0.18836523365309266,
            "bin_end": 0.28981957944645603,
            "count": 0
           },
           {
            "bin_start": 0.28981957944645603,
            "bin_end": 0.39127392523981946,
            "count": 0
           },
           {
            "bin_start": 0.39127392523981946,
            "bin_end": 0.4927282710331829,
            "count": 0
           },
           {
            "bin_start": 0.4927282710331829,
            "bin_end": 0.5941826168265462,
            "count": 0
           },
           {
            "bin_start": 0.5941826168265462,
            "bin_end": 0.6956369626199096,
            "count": 0
           },
           {
            "bin_start": 0.6956369626199096,
            "bin_end": 0.797091308413273,
            "count": 0
           },
           {
            "bin_start": 0.797091308413273,
            "bin_end": 0.8985456542066365,
            "count": 0
           },
           {
            "bin_start": 0.8985456542066365,
            "bin_end": 1,
            "count": 1
           }
          ]
         }
        },
        {
         "name": "value",
         "dtype": "float64",
         "stats": {
          "unique_count": 3,
          "nan_count": 0,
          "min": "-0.03812190378700669",
          "max": "1.0",
          "histogram": [
           {
            "bin_start": -0.03812190378700669,
            "bin_end": 0.06569028659169399,
            "count": 2
           },
           {
            "bin_start": 0.06569028659169399,
            "bin_end": 0.16950247697039464,
            "count": 0
           },
           {
            "bin_start": 0.16950247697039464,
            "bin_end": 0.2733146673490953,
            "count": 0
           },
           {
            "bin_start": 0.2733146673490953,
            "bin_end": 0.37712685772779597,
            "count": 0
           },
           {
            "bin_start": 0.37712685772779597,
            "bin_end": 0.4809390481064966,
            "count": 0
           },
           {
            "bin_start": 0.4809390481064966,
            "bin_end": 0.5847512384851974,
            "count": 0
           },
           {
            "bin_start": 0.5847512384851974,
            "bin_end": 0.688563428863898,
            "count": 0
           },
           {
            "bin_start": 0.688563428863898,
            "bin_end": 0.7923756192425987,
            "count": 0
           },
           {
            "bin_start": 0.7923756192425987,
            "bin_end": 0.8961878096212994,
            "count": 0
           },
           {
            "bin_start": 0.8961878096212994,
            "bin_end": 1,
            "count": 1
           }
          ]
         }
        },
        {
         "name": "mortality",
         "dtype": "float64",
         "stats": {
          "unique_count": 3,
          "nan_count": 0,
          "min": "-0.03812190378700669",
          "max": "1.0",
          "histogram": [
           {
            "bin_start": -0.03812190378700669,
            "bin_end": 0.06569028659169399,
            "count": 2
           },
           {
            "bin_start": 0.06569028659169399,
            "bin_end": 0.16950247697039464,
            "count": 0
           },
           {
            "bin_start": 0.16950247697039464,
            "bin_end": 0.2733146673490953,
            "count": 0
           },
           {
            "bin_start": 0.2733146673490953,
            "bin_end": 0.37712685772779597,
            "count": 0
           },
           {
            "bin_start": 0.37712685772779597,
            "bin_end": 0.4809390481064966,
            "count": 0
           },
           {
            "bin_start": 0.4809390481064966,
            "bin_end": 0.5847512384851974,
            "count": 0
           },
           {
            "bin_start": 0.5847512384851974,
            "bin_end": 0.688563428863898,
            "count": 0
           },
           {
            "bin_start": 0.688563428863898,
            "bin_end": 0.7923756192425987,
            "count": 0
           },
           {
            "bin_start": 0.7923756192425987,
            "bin_end": 0.8961878096212994,
            "count": 0
           },
           {
            "bin_start": 0.8961878096212994,
            "bin_end": 1,
            "count": 1
           }
          ]
         }
        },
        {
         "name": "_deepnote_index_column",
         "dtype": "object"
        }
       ],
       "rows_top": [
        {
         "fips": 1,
         "value": -0.014543457933634154,
         "mortality": -0.00926449869626623,
         "_deepnote_index_column": "fips"
        },
        {
         "fips": -0.014543457933634154,
         "value": 1,
         "mortality": -0.03812190378700669,
         "_deepnote_index_column": "value"
        },
        {
         "fips": -0.00926449869626623,
         "value": -0.03812190378700669,
         "mortality": 1,
         "_deepnote_index_column": "mortality"
        }
       ],
       "rows_bottom": null
      },
      "text/plain": "               fips     value  mortality\nfips       1.000000 -0.014543  -0.009264\nvalue     -0.014543  1.000000  -0.038122\nmortality -0.009264 -0.038122   1.000000",
      "text/html": "<div>\n<style scoped>\n    .dataframe tbody tr th:only-of-type {\n        vertical-align: middle;\n    }\n\n    .dataframe tbody tr th {\n        vertical-align: top;\n    }\n\n    .dataframe thead th {\n        text-align: right;\n    }\n</style>\n<table border=\"1\" class=\"dataframe\">\n  <thead>\n    <tr style=\"text-align: right;\">\n      <th></th>\n      <th>fips</th>\n      <th>value</th>\n      <th>mortality</th>\n    </tr>\n  </thead>\n  <tbody>\n    <tr>\n      <th>fips</th>\n      <td>1.000000</td>\n      <td>-0.014543</td>\n      <td>-0.009264</td>\n    </tr>\n    <tr>\n      <th>value</th>\n      <td>-0.014543</td>\n      <td>1.000000</td>\n      <td>-0.038122</td>\n    </tr>\n    <tr>\n      <th>mortality</th>\n      <td>-0.009264</td>\n      <td>-0.038122</td>\n      <td>1.000000</td>\n    </tr>\n  </tbody>\n</table>\n</div>"
     },
     "metadata": {}
    }
   ],
   "execution_count": null
  },
  {
   "cell_type": "code",
   "metadata": {
    "tags": [],
    "cell_id": "00011-baa1d14f-dcea-4b73-bf58-3a8501cb0d89",
    "deepnote_to_be_reexecuted": false,
    "source_hash": "627702e0",
    "execution_start": 1638570552550,
    "execution_millis": 309,
    "deepnote_cell_type": "code"
   },
   "source": "# Ischemic stroke\ndf_is=df.loc[df['disease']=='Ischemic stroke', ['fips', 'value', 'mortality']]\ndf_is.corr()",
   "outputs": [
    {
     "output_type": "execute_result",
     "execution_count": 12,
     "data": {
      "application/vnd.deepnote.dataframe.v2+json": {
       "row_count": 3,
       "column_count": 3,
       "columns": [
        {
         "name": "fips",
         "dtype": "float64",
         "stats": {
          "unique_count": 3,
          "nan_count": 0,
          "min": "-0.014543457933634154",
          "max": "1.0",
          "histogram": [
           {
            "bin_start": -0.014543457933634154,
            "bin_end": 0.08691088785972925,
            "count": 2
           },
           {
            "bin_start": 0.08691088785972925,
            "bin_end": 0.18836523365309266,
            "count": 0
           },
           {
            "bin_start": 0.18836523365309266,
            "bin_end": 0.28981957944645603,
            "count": 0
           },
           {
            "bin_start": 0.28981957944645603,
            "bin_end": 0.39127392523981946,
            "count": 0
           },
           {
            "bin_start": 0.39127392523981946,
            "bin_end": 0.4927282710331829,
            "count": 0
           },
           {
            "bin_start": 0.4927282710331829,
            "bin_end": 0.5941826168265462,
            "count": 0
           },
           {
            "bin_start": 0.5941826168265462,
            "bin_end": 0.6956369626199096,
            "count": 0
           },
           {
            "bin_start": 0.6956369626199096,
            "bin_end": 0.797091308413273,
            "count": 0
           },
           {
            "bin_start": 0.797091308413273,
            "bin_end": 0.8985456542066365,
            "count": 0
           },
           {
            "bin_start": 0.8985456542066365,
            "bin_end": 1,
            "count": 1
           }
          ]
         }
        },
        {
         "name": "value",
         "dtype": "float64",
         "stats": {
          "unique_count": 3,
          "nan_count": 0,
          "min": "-0.039045526064323495",
          "max": "1.0",
          "histogram": [
           {
            "bin_start": -0.039045526064323495,
            "bin_end": 0.06485902654210884,
            "count": 2
           },
           {
            "bin_start": 0.06485902654210884,
            "bin_end": 0.1687635791485412,
            "count": 0
           },
           {
            "bin_start": 0.1687635791485412,
            "bin_end": 0.27266813175497356,
            "count": 0
           },
           {
            "bin_start": 0.27266813175497356,
            "bin_end": 0.3765726843614059,
            "count": 0
           },
           {
            "bin_start": 0.3765726843614059,
            "bin_end": 0.48047723696783823,
            "count": 0
           },
           {
            "bin_start": 0.48047723696783823,
            "bin_end": 0.5843817895742706,
            "count": 0
           },
           {
            "bin_start": 0.5843817895742706,
            "bin_end": 0.6882863421807028,
            "count": 0
           },
           {
            "bin_start": 0.6882863421807028,
            "bin_end": 0.7921908947871352,
            "count": 0
           },
           {
            "bin_start": 0.7921908947871352,
            "bin_end": 0.8960954473935676,
            "count": 0
           },
           {
            "bin_start": 0.8960954473935676,
            "bin_end": 1,
            "count": 1
           }
          ]
         }
        },
        {
         "name": "mortality",
         "dtype": "float64",
         "stats": {
          "unique_count": 3,
          "nan_count": 0,
          "min": "-0.039045526064323495",
          "max": "1.0",
          "histogram": [
           {
            "bin_start": -0.039045526064323495,
            "bin_end": 0.06485902654210884,
            "count": 2
           },
           {
            "bin_start": 0.06485902654210884,
            "bin_end": 0.1687635791485412,
            "count": 0
           },
           {
            "bin_start": 0.1687635791485412,
            "bin_end": 0.27266813175497356,
            "count": 0
           },
           {
            "bin_start": 0.27266813175497356,
            "bin_end": 0.3765726843614059,
            "count": 0
           },
           {
            "bin_start": 0.3765726843614059,
            "bin_end": 0.48047723696783823,
            "count": 0
           },
           {
            "bin_start": 0.48047723696783823,
            "bin_end": 0.5843817895742706,
            "count": 0
           },
           {
            "bin_start": 0.5843817895742706,
            "bin_end": 0.6882863421807028,
            "count": 0
           },
           {
            "bin_start": 0.6882863421807028,
            "bin_end": 0.7921908947871352,
            "count": 0
           },
           {
            "bin_start": 0.7921908947871352,
            "bin_end": 0.8960954473935676,
            "count": 0
           },
           {
            "bin_start": 0.8960954473935676,
            "bin_end": 1,
            "count": 1
           }
          ]
         }
        },
        {
         "name": "_deepnote_index_column",
         "dtype": "object"
        }
       ],
       "rows_top": [
        {
         "fips": 1,
         "value": -0.014543457933634154,
         "mortality": -0.008849773120553696,
         "_deepnote_index_column": "fips"
        },
        {
         "fips": -0.014543457933634154,
         "value": 1,
         "mortality": -0.039045526064323495,
         "_deepnote_index_column": "value"
        },
        {
         "fips": -0.008849773120553696,
         "value": -0.039045526064323495,
         "mortality": 1,
         "_deepnote_index_column": "mortality"
        }
       ],
       "rows_bottom": null
      },
      "text/plain": "               fips     value  mortality\nfips       1.000000 -0.014543  -0.008850\nvalue     -0.014543  1.000000  -0.039046\nmortality -0.008850 -0.039046   1.000000",
      "text/html": "<div>\n<style scoped>\n    .dataframe tbody tr th:only-of-type {\n        vertical-align: middle;\n    }\n\n    .dataframe tbody tr th {\n        vertical-align: top;\n    }\n\n    .dataframe thead th {\n        text-align: right;\n    }\n</style>\n<table border=\"1\" class=\"dataframe\">\n  <thead>\n    <tr style=\"text-align: right;\">\n      <th></th>\n      <th>fips</th>\n      <th>value</th>\n      <th>mortality</th>\n    </tr>\n  </thead>\n  <tbody>\n    <tr>\n      <th>fips</th>\n      <td>1.000000</td>\n      <td>-0.014543</td>\n      <td>-0.008850</td>\n    </tr>\n    <tr>\n      <th>value</th>\n      <td>-0.014543</td>\n      <td>1.000000</td>\n      <td>-0.039046</td>\n    </tr>\n    <tr>\n      <th>mortality</th>\n      <td>-0.008850</td>\n      <td>-0.039046</td>\n      <td>1.000000</td>\n    </tr>\n  </tbody>\n</table>\n</div>"
     },
     "metadata": {}
    }
   ],
   "execution_count": null
  },
  {
   "cell_type": "code",
   "metadata": {
    "tags": [],
    "cell_id": "00012-ef9c5195-5c82-4d0b-9a74-97b9a0b1553d",
    "deepnote_to_be_reexecuted": false,
    "source_hash": "afce33c3",
    "execution_start": 1638570554419,
    "execution_millis": 59,
    "deepnote_cell_type": "code"
   },
   "source": "# Hemorrhagic stroke\ndf_hs=df.loc[df['disease']=='Hemorrhagic stroke', ['fips', 'value', 'mortality']]\ndf_hs.corr()",
   "outputs": [
    {
     "output_type": "execute_result",
     "execution_count": 13,
     "data": {
      "application/vnd.deepnote.dataframe.v2+json": {
       "row_count": 3,
       "column_count": 3,
       "columns": [
        {
         "name": "fips",
         "dtype": "float64",
         "stats": {
          "unique_count": 3,
          "nan_count": 0,
          "min": "-0.11504692882130829",
          "max": "1.0",
          "histogram": [
           {
            "bin_start": -0.11504692882130829,
            "bin_end": -0.0035422359391774627,
            "count": 2
           },
           {
            "bin_start": -0.0035422359391774627,
            "bin_end": 0.10796245694295337,
            "count": 0
           },
           {
            "bin_start": 0.10796245694295337,
            "bin_end": 0.2194671498250842,
            "count": 0
           },
           {
            "bin_start": 0.2194671498250842,
            "bin_end": 0.330971842707215,
            "count": 0
           },
           {
            "bin_start": 0.330971842707215,
            "bin_end": 0.44247653558934585,
            "count": 0
           },
           {
            "bin_start": 0.44247653558934585,
            "bin_end": 0.5539812284714767,
            "count": 0
           },
           {
            "bin_start": 0.5539812284714767,
            "bin_end": 0.6654859213536075,
            "count": 0
           },
           {
            "bin_start": 0.6654859213536075,
            "bin_end": 0.7769906142357383,
            "count": 0
           },
           {
            "bin_start": 0.7769906142357383,
            "bin_end": 0.8884953071178692,
            "count": 0
           },
           {
            "bin_start": 0.8884953071178692,
            "bin_end": 1,
            "count": 1
           }
          ]
         }
        },
        {
         "name": "value",
         "dtype": "float64",
         "stats": {
          "unique_count": 3,
          "nan_count": 0,
          "min": "-0.03051171739614932",
          "max": "1.0",
          "histogram": [
           {
            "bin_start": -0.03051171739614932,
            "bin_end": 0.07253945434346562,
            "count": 2
           },
           {
            "bin_start": 0.07253945434346562,
            "bin_end": 0.17559062608308054,
            "count": 0
           },
           {
            "bin_start": 0.17559062608308054,
            "bin_end": 0.2786417978226955,
            "count": 0
           },
           {
            "bin_start": 0.2786417978226955,
            "bin_end": 0.3816929695623104,
            "count": 0
           },
           {
            "bin_start": 0.3816929695623104,
            "bin_end": 0.48474414130192534,
            "count": 0
           },
           {
            "bin_start": 0.48474414130192534,
            "bin_end": 0.5877953130415403,
            "count": 0
           },
           {
            "bin_start": 0.5877953130415403,
            "bin_end": 0.6908464847811552,
            "count": 0
           },
           {
            "bin_start": 0.6908464847811552,
            "bin_end": 0.7938976565207702,
            "count": 0
           },
           {
            "bin_start": 0.7938976565207702,
            "bin_end": 0.8969488282603851,
            "count": 0
           },
           {
            "bin_start": 0.8969488282603851,
            "bin_end": 1,
            "count": 1
           }
          ]
         }
        },
        {
         "name": "mortality",
         "dtype": "float64",
         "stats": {
          "unique_count": 3,
          "nan_count": 0,
          "min": "-0.11504692882130829",
          "max": "1.0",
          "histogram": [
           {
            "bin_start": -0.11504692882130829,
            "bin_end": -0.0035422359391774627,
            "count": 2
           },
           {
            "bin_start": -0.0035422359391774627,
            "bin_end": 0.10796245694295337,
            "count": 0
           },
           {
            "bin_start": 0.10796245694295337,
            "bin_end": 0.2194671498250842,
            "count": 0
           },
           {
            "bin_start": 0.2194671498250842,
            "bin_end": 0.330971842707215,
            "count": 0
           },
           {
            "bin_start": 0.330971842707215,
            "bin_end": 0.44247653558934585,
            "count": 0
           },
           {
            "bin_start": 0.44247653558934585,
            "bin_end": 0.5539812284714767,
            "count": 0
           },
           {
            "bin_start": 0.5539812284714767,
            "bin_end": 0.6654859213536075,
            "count": 0
           },
           {
            "bin_start": 0.6654859213536075,
            "bin_end": 0.7769906142357383,
            "count": 0
           },
           {
            "bin_start": 0.7769906142357383,
            "bin_end": 0.8884953071178692,
            "count": 0
           },
           {
            "bin_start": 0.8884953071178692,
            "bin_end": 1,
            "count": 1
           }
          ]
         }
        },
        {
         "name": "_deepnote_index_column",
         "dtype": "object"
        }
       ],
       "rows_top": [
        {
         "fips": 1,
         "value": -0.014543457933634154,
         "mortality": -0.11504692882130829,
         "_deepnote_index_column": "fips"
        },
        {
         "fips": -0.014543457933634154,
         "value": 1,
         "mortality": -0.03051171739614932,
         "_deepnote_index_column": "value"
        },
        {
         "fips": -0.11504692882130829,
         "value": -0.03051171739614932,
         "mortality": 1,
         "_deepnote_index_column": "mortality"
        }
       ],
       "rows_bottom": null
      },
      "text/plain": "               fips     value  mortality\nfips       1.000000 -0.014543  -0.115047\nvalue     -0.014543  1.000000  -0.030512\nmortality -0.115047 -0.030512   1.000000",
      "text/html": "<div>\n<style scoped>\n    .dataframe tbody tr th:only-of-type {\n        vertical-align: middle;\n    }\n\n    .dataframe tbody tr th {\n        vertical-align: top;\n    }\n\n    .dataframe thead th {\n        text-align: right;\n    }\n</style>\n<table border=\"1\" class=\"dataframe\">\n  <thead>\n    <tr style=\"text-align: right;\">\n      <th></th>\n      <th>fips</th>\n      <th>value</th>\n      <th>mortality</th>\n    </tr>\n  </thead>\n  <tbody>\n    <tr>\n      <th>fips</th>\n      <td>1.000000</td>\n      <td>-0.014543</td>\n      <td>-0.115047</td>\n    </tr>\n    <tr>\n      <th>value</th>\n      <td>-0.014543</td>\n      <td>1.000000</td>\n      <td>-0.030512</td>\n    </tr>\n    <tr>\n      <th>mortality</th>\n      <td>-0.115047</td>\n      <td>-0.030512</td>\n      <td>1.000000</td>\n    </tr>\n  </tbody>\n</table>\n</div>"
     },
     "metadata": {}
    }
   ],
   "execution_count": null
  },
  {
   "cell_type": "code",
   "metadata": {
    "tags": [],
    "cell_id": "00013-370cde4f-1e4a-4c0f-b6bb-847bac6a1307",
    "deepnote_to_be_reexecuted": false,
    "source_hash": "ce01d836",
    "execution_start": 1638570555794,
    "execution_millis": 73,
    "deepnote_cell_type": "code"
   },
   "source": "# Rheumatic heart disease\ndf_rhd=df.loc[df['disease']=='Rheumatic heart disease', ['fips', 'value', 'mortality']]\ndf_rhd.corr()",
   "outputs": [
    {
     "output_type": "execute_result",
     "execution_count": 14,
     "data": {
      "application/vnd.deepnote.dataframe.v2+json": {
       "row_count": 3,
       "column_count": 3,
       "columns": [
        {
         "name": "fips",
         "dtype": "float64",
         "stats": {
          "unique_count": 3,
          "nan_count": 0,
          "min": "-0.2581897705508351",
          "max": "1.0",
          "histogram": [
           {
            "bin_start": -0.2581897705508351,
            "bin_end": -0.13237079349575157,
            "count": 1
           },
           {
            "bin_start": -0.13237079349575157,
            "bin_end": -0.006551816440668046,
            "count": 1
           },
           {
            "bin_start": -0.006551816440668046,
            "bin_end": 0.1192671606144155,
            "count": 0
           },
           {
            "bin_start": 0.1192671606144155,
            "bin_end": 0.245086137669499,
            "count": 0
           },
           {
            "bin_start": 0.245086137669499,
            "bin_end": 0.3709051147245825,
            "count": 0
           },
           {
            "bin_start": 0.3709051147245825,
            "bin_end": 0.4967240917796661,
            "count": 0
           },
           {
            "bin_start": 0.4967240917796661,
            "bin_end": 0.6225430688347495,
            "count": 0
           },
           {
            "bin_start": 0.6225430688347495,
            "bin_end": 0.748362045889833,
            "count": 0
           },
           {
            "bin_start": 0.748362045889833,
            "bin_end": 0.8741810229449165,
            "count": 0
           },
           {
            "bin_start": 0.8741810229449165,
            "bin_end": 1,
            "count": 1
           }
          ]
         }
        },
        {
         "name": "value",
         "dtype": "float64",
         "stats": {
          "unique_count": 3,
          "nan_count": 0,
          "min": "-0.06380925136706066",
          "max": "1.0",
          "histogram": [
           {
            "bin_start": -0.06380925136706066,
            "bin_end": 0.04257167376964542,
            "count": 2
           },
           {
            "bin_start": 0.04257167376964542,
            "bin_end": 0.14895259890635149,
            "count": 0
           },
           {
            "bin_start": 0.14895259890635149,
            "bin_end": 0.2553335240430576,
            "count": 0
           },
           {
            "bin_start": 0.2553335240430576,
            "bin_end": 0.36171444917976364,
            "count": 0
           },
           {
            "bin_start": 0.36171444917976364,
            "bin_end": 0.4680953743164697,
            "count": 0
           },
           {
            "bin_start": 0.4680953743164697,
            "bin_end": 0.5744762994531759,
            "count": 0
           },
           {
            "bin_start": 0.5744762994531759,
            "bin_end": 0.680857224589882,
            "count": 0
           },
           {
            "bin_start": 0.680857224589882,
            "bin_end": 0.787238149726588,
            "count": 0
           },
           {
            "bin_start": 0.787238149726588,
            "bin_end": 0.8936190748632941,
            "count": 0
           },
           {
            "bin_start": 0.8936190748632941,
            "bin_end": 1,
            "count": 1
           }
          ]
         }
        },
        {
         "name": "mortality",
         "dtype": "float64",
         "stats": {
          "unique_count": 3,
          "nan_count": 0,
          "min": "-0.2581897705508351",
          "max": "1.0",
          "histogram": [
           {
            "bin_start": -0.2581897705508351,
            "bin_end": -0.13237079349575157,
            "count": 1
           },
           {
            "bin_start": -0.13237079349575157,
            "bin_end": -0.006551816440668046,
            "count": 1
           },
           {
            "bin_start": -0.006551816440668046,
            "bin_end": 0.1192671606144155,
            "count": 0
           },
           {
            "bin_start": 0.1192671606144155,
            "bin_end": 0.245086137669499,
            "count": 0
           },
           {
            "bin_start": 0.245086137669499,
            "bin_end": 0.3709051147245825,
            "count": 0
           },
           {
            "bin_start": 0.3709051147245825,
            "bin_end": 0.4967240917796661,
            "count": 0
           },
           {
            "bin_start": 0.4967240917796661,
            "bin_end": 0.6225430688347495,
            "count": 0
           },
           {
            "bin_start": 0.6225430688347495,
            "bin_end": 0.748362045889833,
            "count": 0
           },
           {
            "bin_start": 0.748362045889833,
            "bin_end": 0.8741810229449165,
            "count": 0
           },
           {
            "bin_start": 0.8741810229449165,
            "bin_end": 1,
            "count": 1
           }
          ]
         }
        },
        {
         "name": "_deepnote_index_column",
         "dtype": "object"
        }
       ],
       "rows_top": [
        {
         "fips": 1,
         "value": -0.014543457933634154,
         "mortality": -0.2581897705508351,
         "_deepnote_index_column": "fips"
        },
        {
         "fips": -0.014543457933634154,
         "value": 1,
         "mortality": -0.06380925136706066,
         "_deepnote_index_column": "value"
        },
        {
         "fips": -0.2581897705508351,
         "value": -0.06380925136706066,
         "mortality": 1,
         "_deepnote_index_column": "mortality"
        }
       ],
       "rows_bottom": null
      },
      "text/plain": "               fips     value  mortality\nfips       1.000000 -0.014543  -0.258190\nvalue     -0.014543  1.000000  -0.063809\nmortality -0.258190 -0.063809   1.000000",
      "text/html": "<div>\n<style scoped>\n    .dataframe tbody tr th:only-of-type {\n        vertical-align: middle;\n    }\n\n    .dataframe tbody tr th {\n        vertical-align: top;\n    }\n\n    .dataframe thead th {\n        text-align: right;\n    }\n</style>\n<table border=\"1\" class=\"dataframe\">\n  <thead>\n    <tr style=\"text-align: right;\">\n      <th></th>\n      <th>fips</th>\n      <th>value</th>\n      <th>mortality</th>\n    </tr>\n  </thead>\n  <tbody>\n    <tr>\n      <th>fips</th>\n      <td>1.000000</td>\n      <td>-0.014543</td>\n      <td>-0.258190</td>\n    </tr>\n    <tr>\n      <th>value</th>\n      <td>-0.014543</td>\n      <td>1.000000</td>\n      <td>-0.063809</td>\n    </tr>\n    <tr>\n      <th>mortality</th>\n      <td>-0.258190</td>\n      <td>-0.063809</td>\n      <td>1.000000</td>\n    </tr>\n  </tbody>\n</table>\n</div>"
     },
     "metadata": {}
    }
   ],
   "execution_count": null
  },
  {
   "cell_type": "code",
   "metadata": {
    "tags": [],
    "cell_id": "00014-6e1ec575-38cf-4202-ab00-13308894b6f4",
    "deepnote_to_be_reexecuted": false,
    "source_hash": "99df844f",
    "execution_start": 1638570557855,
    "execution_millis": 68,
    "deepnote_cell_type": "code"
   },
   "source": "# Cardiomyopathy & myocarditis\ndf_cm=df.loc[df['disease']=='Cardiomyopathy & myocarditis', ['fips', 'value', 'mortality']]\ndf_cm.corr()",
   "outputs": [
    {
     "output_type": "execute_result",
     "execution_count": 15,
     "data": {
      "application/vnd.deepnote.dataframe.v2+json": {
       "row_count": 3,
       "column_count": 3,
       "columns": [
        {
         "name": "fips",
         "dtype": "float64",
         "stats": {
          "unique_count": 3,
          "nan_count": 0,
          "min": "-0.11836101852513216",
          "max": "1.0",
          "histogram": [
           {
            "bin_start": -0.11836101852513216,
            "bin_end": -0.006524916672618938,
            "count": 2
           },
           {
            "bin_start": -0.006524916672618938,
            "bin_end": 0.10531118517989428,
            "count": 0
           },
           {
            "bin_start": 0.10531118517989428,
            "bin_end": 0.2171472870324075,
            "count": 0
           },
           {
            "bin_start": 0.2171472870324075,
            "bin_end": 0.32898338888492074,
            "count": 0
           },
           {
            "bin_start": 0.32898338888492074,
            "bin_end": 0.440819490737434,
            "count": 0
           },
           {
            "bin_start": 0.440819490737434,
            "bin_end": 0.5526555925899471,
            "count": 0
           },
           {
            "bin_start": 0.5526555925899471,
            "bin_end": 0.6644916944424604,
            "count": 0
           },
           {
            "bin_start": 0.6644916944424604,
            "bin_end": 0.7763277962949736,
            "count": 0
           },
           {
            "bin_start": 0.7763277962949736,
            "bin_end": 0.8881638981474868,
            "count": 0
           },
           {
            "bin_start": 0.8881638981474868,
            "bin_end": 1,
            "count": 1
           }
          ]
         }
        },
        {
         "name": "value",
         "dtype": "float64",
         "stats": {
          "unique_count": 3,
          "nan_count": 0,
          "min": "-0.014543457933634154",
          "max": "1.0",
          "histogram": [
           {
            "bin_start": -0.014543457933634154,
            "bin_end": 0.08691088785972925,
            "count": 2
           },
           {
            "bin_start": 0.08691088785972925,
            "bin_end": 0.18836523365309266,
            "count": 0
           },
           {
            "bin_start": 0.18836523365309266,
            "bin_end": 0.28981957944645603,
            "count": 0
           },
           {
            "bin_start": 0.28981957944645603,
            "bin_end": 0.39127392523981946,
            "count": 0
           },
           {
            "bin_start": 0.39127392523981946,
            "bin_end": 0.4927282710331829,
            "count": 0
           },
           {
            "bin_start": 0.4927282710331829,
            "bin_end": 0.5941826168265462,
            "count": 0
           },
           {
            "bin_start": 0.5941826168265462,
            "bin_end": 0.6956369626199096,
            "count": 0
           },
           {
            "bin_start": 0.6956369626199096,
            "bin_end": 0.797091308413273,
            "count": 0
           },
           {
            "bin_start": 0.797091308413273,
            "bin_end": 0.8985456542066365,
            "count": 0
           },
           {
            "bin_start": 0.8985456542066365,
            "bin_end": 1,
            "count": 1
           }
          ]
         }
        },
        {
         "name": "mortality",
         "dtype": "float64",
         "stats": {
          "unique_count": 3,
          "nan_count": 0,
          "min": "-0.11836101852513216",
          "max": "1.0",
          "histogram": [
           {
            "bin_start": -0.11836101852513216,
            "bin_end": -0.006524916672618938,
            "count": 1
           },
           {
            "bin_start": -0.006524916672618938,
            "bin_end": 0.10531118517989428,
            "count": 1
           },
           {
            "bin_start": 0.10531118517989428,
            "bin_end": 0.2171472870324075,
            "count": 0
           },
           {
            "bin_start": 0.2171472870324075,
            "bin_end": 0.32898338888492074,
            "count": 0
           },
           {
            "bin_start": 0.32898338888492074,
            "bin_end": 0.440819490737434,
            "count": 0
           },
           {
            "bin_start": 0.440819490737434,
            "bin_end": 0.5526555925899471,
            "count": 0
           },
           {
            "bin_start": 0.5526555925899471,
            "bin_end": 0.6644916944424604,
            "count": 0
           },
           {
            "bin_start": 0.6644916944424604,
            "bin_end": 0.7763277962949736,
            "count": 0
           },
           {
            "bin_start": 0.7763277962949736,
            "bin_end": 0.8881638981474868,
            "count": 0
           },
           {
            "bin_start": 0.8881638981474868,
            "bin_end": 1,
            "count": 1
           }
          ]
         }
        },
        {
         "name": "_deepnote_index_column",
         "dtype": "object"
        }
       ],
       "rows_top": [
        {
         "fips": 1,
         "value": -0.014543457933634154,
         "mortality": -0.11836101852513216,
         "_deepnote_index_column": "fips"
        },
        {
         "fips": -0.014543457933634154,
         "value": 1,
         "mortality": 0.014245484271065837,
         "_deepnote_index_column": "value"
        },
        {
         "fips": -0.11836101852513216,
         "value": 0.014245484271065837,
         "mortality": 1,
         "_deepnote_index_column": "mortality"
        }
       ],
       "rows_bottom": null
      },
      "text/plain": "               fips     value  mortality\nfips       1.000000 -0.014543  -0.118361\nvalue     -0.014543  1.000000   0.014245\nmortality -0.118361  0.014245   1.000000",
      "text/html": "<div>\n<style scoped>\n    .dataframe tbody tr th:only-of-type {\n        vertical-align: middle;\n    }\n\n    .dataframe tbody tr th {\n        vertical-align: top;\n    }\n\n    .dataframe thead th {\n        text-align: right;\n    }\n</style>\n<table border=\"1\" class=\"dataframe\">\n  <thead>\n    <tr style=\"text-align: right;\">\n      <th></th>\n      <th>fips</th>\n      <th>value</th>\n      <th>mortality</th>\n    </tr>\n  </thead>\n  <tbody>\n    <tr>\n      <th>fips</th>\n      <td>1.000000</td>\n      <td>-0.014543</td>\n      <td>-0.118361</td>\n    </tr>\n    <tr>\n      <th>value</th>\n      <td>-0.014543</td>\n      <td>1.000000</td>\n      <td>0.014245</td>\n    </tr>\n    <tr>\n      <th>mortality</th>\n      <td>-0.118361</td>\n      <td>0.014245</td>\n      <td>1.000000</td>\n    </tr>\n  </tbody>\n</table>\n</div>"
     },
     "metadata": {}
    }
   ],
   "execution_count": null
  },
  {
   "cell_type": "code",
   "metadata": {
    "cell_id": "00015-860cc49b-8cd6-4d87-b518-7b001d0cd0e5",
    "deepnote_output_heights": [
     382.1875
    ],
    "deepnote_to_be_reexecuted": false,
    "source_hash": "260f431",
    "execution_start": 1638570558878,
    "execution_millis": 77,
    "deepnote_cell_type": "code"
   },
   "source": "# mortality cardiovascular diseases 2014\n# % pop low access to stores 2014\n\ntwentyfourteen = df.loc[(df['indicator']=='PCT_LACCESS_POP')&(df['disease']=='Cardiovascular diseases')&(df['year']==2014),['fips','value','year','mortality']]\ntwentyfourteen",
   "outputs": [
    {
     "output_type": "execute_result",
     "execution_count": 16,
     "data": {
      "application/vnd.deepnote.dataframe.v2+json": {
       "row_count": 3140,
       "column_count": 4,
       "columns": [
        {
         "name": "fips",
         "dtype": "int64",
         "stats": {
          "unique_count": 3140,
          "nan_count": 0,
          "min": "1001",
          "max": "56045",
          "histogram": [
           {
            "bin_start": 1001,
            "bin_end": 6505.4,
            "count": 243
           },
           {
            "bin_start": 6505.4,
            "bin_end": 12009.8,
            "count": 81
           },
           {
            "bin_start": 12009.8,
            "bin_end": 17514.199999999997,
            "count": 372
           },
           {
            "bin_start": 17514.199999999997,
            "bin_end": 23018.6,
            "count": 489
           },
           {
            "bin_start": 23018.6,
            "bin_end": 28523,
            "count": 297
           },
           {
            "bin_start": 28523,
            "bin_end": 34027.399999999994,
            "count": 305
           },
           {
            "bin_start": 34027.399999999994,
            "bin_end": 39531.799999999996,
            "count": 343
           },
           {
            "bin_start": 39531.799999999996,
            "bin_end": 45036.2,
            "count": 203
           },
           {
            "bin_start": 45036.2,
            "bin_end": 50540.6,
            "count": 485
           },
           {
            "bin_start": 50540.6,
            "bin_end": 56045,
            "count": 322
           }
          ]
         }
        },
        {
         "name": "value",
         "dtype": "float64",
         "stats": {
          "unique_count": 3113,
          "nan_count": 19,
          "min": "0.0",
          "max": "100.0000009714998",
          "histogram": [
           {
            "bin_start": 0,
            "bin_end": 10.00000009714998,
            "count": 706
           },
           {
            "bin_start": 10.00000009714998,
            "bin_end": 20.00000019429996,
            "count": 923
           },
           {
            "bin_start": 20.00000019429996,
            "bin_end": 30.000000291449943,
            "count": 796
           },
           {
            "bin_start": 30.000000291449943,
            "bin_end": 40.00000038859992,
            "count": 361
           },
           {
            "bin_start": 40.00000038859992,
            "bin_end": 50.0000004857499,
            "count": 131
           },
           {
            "bin_start": 50.0000004857499,
            "bin_end": 60.00000058289989,
            "count": 52
           },
           {
            "bin_start": 60.00000058289989,
            "bin_end": 70.00000068004987,
            "count": 19
           },
           {
            "bin_start": 70.00000068004987,
            "bin_end": 80.00000077719984,
            "count": 14
           },
           {
            "bin_start": 80.00000077719984,
            "bin_end": 90.00000087434982,
            "count": 16
           },
           {
            "bin_start": 90.00000087434982,
            "bin_end": 100.0000009714998,
            "count": 103
           }
          ]
         }
        },
        {
         "name": "year",
         "dtype": "int64",
         "stats": {
          "unique_count": 1,
          "nan_count": 0,
          "min": "2014",
          "max": "2014",
          "histogram": [
           {
            "bin_start": 2013.5,
            "bin_end": 2013.6,
            "count": 0
           },
           {
            "bin_start": 2013.6,
            "bin_end": 2013.7,
            "count": 0
           },
           {
            "bin_start": 2013.7,
            "bin_end": 2013.8,
            "count": 0
           },
           {
            "bin_start": 2013.8,
            "bin_end": 2013.9,
            "count": 0
           },
           {
            "bin_start": 2013.9,
            "bin_end": 2014,
            "count": 0
           },
           {
            "bin_start": 2014,
            "bin_end": 2014.1,
            "count": 3140
           },
           {
            "bin_start": 2014.1,
            "bin_end": 2014.2,
            "count": 0
           },
           {
            "bin_start": 2014.2,
            "bin_end": 2014.3,
            "count": 0
           },
           {
            "bin_start": 2014.3,
            "bin_end": 2014.4,
            "count": 0
           },
           {
            "bin_start": 2014.4,
            "bin_end": 2014.5,
            "count": 0
           }
          ]
         }
        },
        {
         "name": "mortality",
         "dtype": "float64",
         "stats": {
          "unique_count": 2865,
          "nan_count": 0,
          "min": "76.98",
          "max": "545.23",
          "histogram": [
           {
            "bin_start": 76.98,
            "bin_end": 123.805,
            "count": 5
           },
           {
            "bin_start": 123.805,
            "bin_end": 170.63,
            "count": 48
           },
           {
            "bin_start": 170.63,
            "bin_end": 217.45500000000004,
            "count": 409
           },
           {
            "bin_start": 217.45500000000004,
            "bin_end": 264.28000000000003,
            "count": 957
           },
           {
            "bin_start": 264.28000000000003,
            "bin_end": 311.105,
            "count": 873
           },
           {
            "bin_start": 311.105,
            "bin_end": 357.93000000000006,
            "count": 550
           },
           {
            "bin_start": 357.93000000000006,
            "bin_end": 404.75500000000005,
            "count": 220
           },
           {
            "bin_start": 404.75500000000005,
            "bin_end": 451.58000000000004,
            "count": 59
           },
           {
            "bin_start": 451.58000000000004,
            "bin_end": 498.40500000000003,
            "count": 14
           },
           {
            "bin_start": 498.40500000000003,
            "bin_end": 545.23,
            "count": 5
           }
          ]
         }
        },
        {
         "name": "_deepnote_index_column",
         "dtype": "int64"
        }
       ],
       "rows_top": [
        {
         "fips": 1001,
         "value": 32.06225474718403,
         "year": 2014,
         "mortality": 316.36,
         "_deepnote_index_column": 156
        },
        {
         "fips": 1003,
         "value": 16.76748933132702,
         "year": 2014,
         "mortality": 272.04,
         "_deepnote_index_column": 364
        },
        {
         "fips": 1005,
         "value": 22.10556006697366,
         "year": 2014,
         "mortality": 255.09,
         "_deepnote_index_column": 572
        },
        {
         "fips": 1007,
         "value": 4.230324420618643,
         "year": 2014,
         "mortality": 378.09,
         "_deepnote_index_column": 780
        },
        {
         "fips": 1009,
         "value": 6.497380137361867,
         "year": 2014,
         "mortality": 307.9,
         "_deepnote_index_column": 988
        },
        {
         "fips": 1011,
         "value": 37.95034236179421,
         "year": 2014,
         "mortality": 322.56,
         "_deepnote_index_column": 1196
        },
        {
         "fips": 1013,
         "value": 6.226804584468373,
         "year": 2014,
         "mortality": 382.55,
         "_deepnote_index_column": 1404
        },
        {
         "fips": 1015,
         "value": 23.43385180764852,
         "year": 2014,
         "mortality": 368.25,
         "_deepnote_index_column": 1612
        },
        {
         "fips": 1017,
         "value": 20.84321413606246,
         "year": 2014,
         "mortality": 326.33,
         "_deepnote_index_column": 1820
        },
        {
         "fips": 1019,
         "value": 0.3983319823140482,
         "year": 2014,
         "mortality": 301.07,
         "_deepnote_index_column": 2028
        },
        {
         "fips": 1021,
         "value": 3.368006577012281,
         "year": 2014,
         "mortality": 351.7,
         "_deepnote_index_column": 2236
        },
        {
         "fips": 1023,
         "value": 19.50281549095887,
         "year": 2014,
         "mortality": 356.81,
         "_deepnote_index_column": 2444
        },
        {
         "fips": 1025,
         "value": 22.11483889428084,
         "year": 2014,
         "mortality": 313.4,
         "_deepnote_index_column": 2652
        },
        {
         "fips": 1027,
         "value": 4.613414584500919,
         "year": 2014,
         "mortality": 390.37,
         "_deepnote_index_column": 2860
        },
        {
         "fips": 1029,
         "value": 5.273411320245745,
         "year": 2014,
         "mortality": 360.18,
         "_deepnote_index_column": 3068
        },
        {
         "fips": 1031,
         "value": 20.99400572599124,
         "year": 2014,
         "mortality": 310.93,
         "_deepnote_index_column": 3276
        },
        {
         "fips": 1033,
         "value": 20.38595264287628,
         "year": 2014,
         "mortality": 308.32,
         "_deepnote_index_column": 3484
        },
        {
         "fips": 1035,
         "value": 26.90020744088796,
         "year": 2014,
         "mortality": 349.78,
         "_deepnote_index_column": 3692
        },
        {
         "fips": 1037,
         "value": 24.51625213309117,
         "year": 2014,
         "mortality": 301.93,
         "_deepnote_index_column": 3900
        },
        {
         "fips": 1039,
         "value": 9.980464049266544,
         "year": 2014,
         "mortality": 318.86,
         "_deepnote_index_column": 4108
        },
        {
         "fips": 1041,
         "value": 37.96178977914188,
         "year": 2014,
         "mortality": 313.72,
         "_deepnote_index_column": 4316
        },
        {
         "fips": 1043,
         "value": 7.338096910138272,
         "year": 2014,
         "mortality": 350.97,
         "_deepnote_index_column": 4524
        },
        {
         "fips": 1045,
         "value": 27.93371299548368,
         "year": 2014,
         "mortality": 291.55,
         "_deepnote_index_column": 4732
        },
        {
         "fips": 1047,
         "value": 17.4350909803699,
         "year": 2014,
         "mortality": 412.98,
         "_deepnote_index_column": 4940
        },
        {
         "fips": 1049,
         "value": 3.76865468839694,
         "year": 2014,
         "mortality": 354.46,
         "_deepnote_index_column": 5148
        },
        {
         "fips": 1051,
         "value": 18.99596054089606,
         "year": 2014,
         "mortality": 277.36,
         "_deepnote_index_column": 5356
        },
        {
         "fips": 1053,
         "value": 13.2017417032684,
         "year": 2014,
         "mortality": 350.49,
         "_deepnote_index_column": 5564
        },
        {
         "fips": 1055,
         "value": 22.30185465949268,
         "year": 2014,
         "mortality": 356.71,
         "_deepnote_index_column": 5772
        },
        {
         "fips": 1057,
         "value": 2.362895151480854,
         "year": 2014,
         "mortality": 326.56,
         "_deepnote_index_column": 5980
        },
        {
         "fips": 1059,
         "value": 11.55514047578899,
         "year": 2014,
         "mortality": 375.76,
         "_deepnote_index_column": 6188
        },
        {
         "fips": 1061,
         "value": 2.259027229296271,
         "year": 2014,
         "mortality": 330.38,
         "_deepnote_index_column": 6396
        },
        {
         "fips": 1063,
         "value": 32.75833066761382,
         "year": 2014,
         "mortality": 304.94,
         "_deepnote_index_column": 6604
        },
        {
         "fips": 1065,
         "value": 11.83084612869454,
         "year": 2014,
         "mortality": 361.32,
         "_deepnote_index_column": 6812
        },
        {
         "fips": 1067,
         "value": 4.655371795454584,
         "year": 2014,
         "mortality": 300.75,
         "_deepnote_index_column": 7020
        },
        {
         "fips": 1069,
         "value": 18.06134010609176,
         "year": 2014,
         "mortality": 300.26,
         "_deepnote_index_column": 7228
        },
        {
         "fips": 1071,
         "value": 7.926365825835047,
         "year": 2014,
         "mortality": 355.9,
         "_deepnote_index_column": 7436
        },
        {
         "fips": 1073,
         "value": 31.23287577450438,
         "year": 2014,
         "mortality": 313.01,
         "_deepnote_index_column": 7644
        },
        {
         "fips": 1075,
         "value": 1.578911097507168,
         "year": 2014,
         "mortality": 326.28,
         "_deepnote_index_column": 7852
        },
        {
         "fips": 1077,
         "value": 13.4572659667288,
         "year": 2014,
         "mortality": 263,
         "_deepnote_index_column": 8060
        },
        {
         "fips": 1079,
         "value": 4.799919493441918,
         "year": 2014,
         "mortality": 353.66,
         "_deepnote_index_column": 8268
        },
        {
         "fips": 1081,
         "value": 26.2650087870005,
         "year": 2014,
         "mortality": 291.35,
         "_deepnote_index_column": 8476
        },
        {
         "fips": 1083,
         "value": 11.281947371576,
         "year": 2014,
         "mortality": 307.06,
         "_deepnote_index_column": 8684
        },
        {
         "fips": 1085,
         "value": 22.47866529617603,
         "year": 2014,
         "mortality": 399.51,
         "_deepnote_index_column": 8892
        },
        {
         "fips": 1087,
         "value": 37.52927141878496,
         "year": 2014,
         "mortality": 383.22,
         "_deepnote_index_column": 9100
        },
        {
         "fips": 1089,
         "value": 26.44597413222182,
         "year": 2014,
         "mortality": 228.24,
         "_deepnote_index_column": 9308
        },
        {
         "fips": 1091,
         "value": 24.37345136006629,
         "year": 2014,
         "mortality": 371.26,
         "_deepnote_index_column": 9516
        },
        {
         "fips": 1093,
         "value": 6.269273850522615,
         "year": 2014,
         "mortality": 370.65,
         "_deepnote_index_column": 9724
        },
        {
         "fips": 1095,
         "value": 11.27167399195401,
         "year": 2014,
         "mortality": 337.06,
         "_deepnote_index_column": 9932
        },
        {
         "fips": 1097,
         "value": 25.12606624438972,
         "year": 2014,
         "mortality": 328.48,
         "_deepnote_index_column": 10140
        },
        {
         "fips": 1099,
         "value": 24.76001674987701,
         "year": 2014,
         "mortality": 329.76,
         "_deepnote_index_column": 10348
        },
        {
         "fips": 1101,
         "value": 28.85411115994311,
         "year": 2014,
         "mortality": 276.23,
         "_deepnote_index_column": 10556
        },
        {
         "fips": 1103,
         "value": 12.98374723901816,
         "year": 2014,
         "mortality": 320.29,
         "_deepnote_index_column": 10764
        },
        {
         "fips": 1105,
         "value": 8.32357167759611,
         "year": 2014,
         "mortality": 399.7,
         "_deepnote_index_column": 10972
        },
        {
         "fips": 1107,
         "value": 2.679725716655743,
         "year": 2014,
         "mortality": 338.96,
         "_deepnote_index_column": 11180
        },
        {
         "fips": 1109,
         "value": 13.78612461649795,
         "year": 2014,
         "mortality": 322.38,
         "_deepnote_index_column": 11388
        },
        {
         "fips": 1111,
         "value": 14.72801232476839,
         "year": 2014,
         "mortality": 354.06,
         "_deepnote_index_column": 11596
        },
        {
         "fips": 1113,
         "value": 11.75865619219716,
         "year": 2014,
         "mortality": 294.76,
         "_deepnote_index_column": 11804
        },
        {
         "fips": 1115,
         "value": 5.457203495599691,
         "year": 2014,
         "mortality": 338.03,
         "_deepnote_index_column": 12012
        },
        {
         "fips": 1117,
         "value": 24.15476247132045,
         "year": 2014,
         "mortality": 232.57,
         "_deepnote_index_column": 12220
        },
        {
         "fips": 1119,
         "value": 16.74435354529856,
         "year": 2014,
         "mortality": 325.61,
         "_deepnote_index_column": 12428
        },
        {
         "fips": 1121,
         "value": 13.41384507221592,
         "year": 2014,
         "mortality": 337.15,
         "_deepnote_index_column": 12636
        },
        {
         "fips": 1123,
         "value": 8.373536278820644,
         "year": 2014,
         "mortality": 318.12,
         "_deepnote_index_column": 12844
        },
        {
         "fips": 1125,
         "value": 17.90829989555385,
         "year": 2014,
         "mortality": 305.46,
         "_deepnote_index_column": 13052
        },
        {
         "fips": 1127,
         "value": 11.72531765804724,
         "year": 2014,
         "mortality": 360.35,
         "_deepnote_index_column": 13260
        },
        {
         "fips": 1129,
         "value": 8.41190459768574,
         "year": 2014,
         "mortality": 341.06,
         "_deepnote_index_column": 13468
        },
        {
         "fips": 1131,
         "value": 42.82029621042528,
         "year": 2014,
         "mortality": 342.2,
         "_deepnote_index_column": 13676
        },
        {
         "fips": 1133,
         "value": 5.959127002697843,
         "year": 2014,
         "mortality": 310.49,
         "_deepnote_index_column": 13884
        },
        {
         "fips": 2013,
         "value": 70.13690003589271,
         "year": 2014,
         "mortality": 150.59,
         "_deepnote_index_column": 14092
        },
        {
         "fips": 2016,
         "value": 22.35621386545387,
         "year": 2014,
         "mortality": 150.59,
         "_deepnote_index_column": 14300
        },
        {
         "fips": 2020,
         "value": 27.42720787183801,
         "year": 2014,
         "mortality": 214.32,
         "_deepnote_index_column": 14508
        },
        {
         "fips": 2050,
         "value": 67.62395515028449,
         "year": 2014,
         "mortality": 241.84,
         "_deepnote_index_column": 14716
        },
        {
         "fips": 2060,
         "value": 99.99999981287634,
         "year": 2014,
         "mortality": 217.35,
         "_deepnote_index_column": 14924
        },
        {
         "fips": 2068,
         "value": 100.0000007417174,
         "year": 2014,
         "mortality": 239.3,
         "_deepnote_index_column": 15132
        },
        {
         "fips": 2070,
         "value": 50.78418951985187,
         "year": 2014,
         "mortality": 260.88,
         "_deepnote_index_column": 15340
        },
        {
         "fips": 2090,
         "value": 34.44562357755598,
         "year": 2014,
         "mortality": 218.52,
         "_deepnote_index_column": 15548
        },
        {
         "fips": 2100,
         "value": 20.68955887409325,
         "year": 2014,
         "mortality": 211.03,
         "_deepnote_index_column": 15756
        },
        {
         "fips": 2105,
         "value": 99.39092036299768,
         "year": 2014,
         "mortality": 188.37,
         "_deepnote_index_column": 15964
        },
        {
         "fips": 2110,
         "value": 32.17481344389129,
         "year": 2014,
         "mortality": 197.88,
         "_deepnote_index_column": 16172
        },
        {
         "fips": 2122,
         "value": 19.65484667887004,
         "year": 2014,
         "mortality": 217.64,
         "_deepnote_index_column": 16380
        },
        {
         "fips": 2130,
         "value": 7.884536000915338,
         "year": 2014,
         "mortality": 244.27,
         "_deepnote_index_column": 16588
        },
        {
         "fips": 2150,
         "value": 14.33680995059932,
         "year": 2014,
         "mortality": 197.25,
         "_deepnote_index_column": 16796
        },
        {
         "fips": 2164,
         "value": 99.8581005241404,
         "year": 2014,
         "mortality": 260.88,
         "_deepnote_index_column": 17004
        },
        {
         "fips": 2170,
         "value": 25.85679570114545,
         "year": 2014,
         "mortality": 209.61,
         "_deepnote_index_column": 17212
        },
        {
         "fips": 2180,
         "value": 55.58372985753635,
         "year": 2014,
         "mortality": 284.32,
         "_deepnote_index_column": 17420
        },
        {
         "fips": 2185,
         "value": 58.55972802047721,
         "year": 2014,
         "mortality": 204.43,
         "_deepnote_index_column": 17628
        },
        {
         "fips": 2188,
         "value": 57.45132178579716,
         "year": 2014,
         "mortality": 241.87,
         "_deepnote_index_column": 17836
        },
        {
         "fips": 2195,
         "value": 4.724260753192032,
         "year": 2014,
         "mortality": 244.27,
         "_deepnote_index_column": 18044
        },
        {
         "fips": 2198,
         "value": 31.63865169778737,
         "year": 2014,
         "mortality": 244.27,
         "_deepnote_index_column": 18252
        },
        {
         "fips": 2220,
         "value": 18.37912128841932,
         "year": 2014,
         "mortality": 207.7,
         "_deepnote_index_column": 18460
        },
        {
         "fips": 2230,
         "value": 0.3099125786893502,
         "year": 2014,
         "mortality": 188.37,
         "_deepnote_index_column": 18668
        },
        {
         "fips": 2240,
         "value": 47.2767744417075,
         "year": 2014,
         "mortality": 254.86,
         "_deepnote_index_column": 18876
        },
        {
         "fips": 2261,
         "value": 51.99990541355811,
         "year": 2014,
         "mortality": 229.32,
         "_deepnote_index_column": 19084
        },
        {
         "fips": 2275,
         "value": 21.55442949312849,
         "year": 2014,
         "mortality": 244.27,
         "_deepnote_index_column": 19292
        },
        {
         "fips": 2282,
         "value": 100.0000001501269,
         "year": 2014,
         "mortality": 188.37,
         "_deepnote_index_column": 19500
        },
        {
         "fips": 2290,
         "value": 99.9999999174617,
         "year": 2014,
         "mortality": 239.3,
         "_deepnote_index_column": 19708
        },
        {
         "fips": 4001,
         "value": 70.53722718295057,
         "year": 2014,
         "mortality": 210,
         "_deepnote_index_column": 19916
        },
        {
         "fips": 4003,
         "value": 42.04051832566961,
         "year": 2014,
         "mortality": 253.53,
         "_deepnote_index_column": 20124
        },
        {
         "fips": 4005,
         "value": 30.82520862516749,
         "year": 2014,
         "mortality": 193.02,
         "_deepnote_index_column": 20332
        },
        {
         "fips": 4007,
         "value": 32.55978155068455,
         "year": 2014,
         "mortality": 249.67,
         "_deepnote_index_column": 20540
        },
        {
         "fips": 4009,
         "value": 37.33063613298576,
         "year": 2014,
         "mortality": 248.41,
         "_deepnote_index_column": 20748
        },
        {
         "fips": 4011,
         "value": 69.87743095449247,
         "year": 2014,
         "mortality": 233.53,
         "_deepnote_index_column": 20956
        },
        {
         "fips": 4012,
         "value": 43.17859151861994,
         "year": 2014,
         "mortality": 184.95,
         "_deepnote_index_column": 21164
        },
        {
         "fips": 4013,
         "value": 13.39271425130283,
         "year": 2014,
         "mortality": 203.06,
         "_deepnote_index_column": 21372
        },
        {
         "fips": 4015,
         "value": 44.12974789901302,
         "year": 2014,
         "mortality": 295.41,
         "_deepnote_index_column": 21580
        },
        {
         "fips": 4017,
         "value": 38.54044809851297,
         "year": 2014,
         "mortality": 233.77,
         "_deepnote_index_column": 21788
        },
        {
         "fips": 4019,
         "value": 22.28807269982953,
         "year": 2014,
         "mortality": 213.43,
         "_deepnote_index_column": 21996
        },
        {
         "fips": 4021,
         "value": 21.49236327732568,
         "year": 2014,
         "mortality": 180.7,
         "_deepnote_index_column": 22204
        },
        {
         "fips": 4023,
         "value": 26.53610913337157,
         "year": 2014,
         "mortality": 169.74,
         "_deepnote_index_column": 22412
        },
        {
         "fips": 4025,
         "value": 32.50531241584662,
         "year": 2014,
         "mortality": 212.93,
         "_deepnote_index_column": 22620
        },
        {
         "fips": 4027,
         "value": 20.319961079273,
         "year": 2014,
         "mortality": 184.95,
         "_deepnote_index_column": 22828
        },
        {
         "fips": 5001,
         "value": 37.77124276914002,
         "year": 2014,
         "mortality": 410.5,
         "_deepnote_index_column": 23036
        },
        {
         "fips": 5003,
         "value": 21.20491579021068,
         "year": 2014,
         "mortality": 384.5,
         "_deepnote_index_column": 23244
        },
        {
         "fips": 5005,
         "value": 11.12429911510199,
         "year": 2014,
         "mortality": 272.95,
         "_deepnote_index_column": 23452
        },
        {
         "fips": 5007,
         "value": 15.60801297369207,
         "year": 2014,
         "mortality": 261.12,
         "_deepnote_index_column": 23660
        },
        {
         "fips": 5009,
         "value": 22.794311207626,
         "year": 2014,
         "mortality": 333.92,
         "_deepnote_index_column": 23868
        },
        {
         "fips": 5011,
         "value": 10.77518550427946,
         "year": 2014,
         "mortality": 458,
         "_deepnote_index_column": 24076
        },
        {
         "fips": 5013,
         "value": 65.08062520021124,
         "year": 2014,
         "mortality": 310.24,
         "_deepnote_index_column": 24284
        },
        {
         "fips": 5015,
         "value": 7.080343868056621,
         "year": 2014,
         "mortality": 266.25,
         "_deepnote_index_column": 24492
        },
        {
         "fips": 5017,
         "value": 60.30271666298703,
         "year": 2014,
         "mortality": 420.61,
         "_deepnote_index_column": 24700
        },
        {
         "fips": 5019,
         "value": 40.97951569682796,
         "year": 2014,
         "mortality": 355.56,
         "_deepnote_index_column": 24908
        },
        {
         "fips": 5021,
         "value": 10.23271954164037,
         "year": 2014,
         "mortality": 404.92,
         "_deepnote_index_column": 25116
        },
        {
         "fips": 5023,
         "value": 9.017299043724108,
         "year": 2014,
         "mortality": 311.96,
         "_deepnote_index_column": 25324
        },
        {
         "fips": 5025,
         "value": 21.16338872426309,
         "year": 2014,
         "mortality": 353.88,
         "_deepnote_index_column": 25532
        },
        {
         "fips": 5027,
         "value": 17.25672434221958,
         "year": 2014,
         "mortality": 380.43,
         "_deepnote_index_column": 25740
        },
        {
         "fips": 5029,
         "value": 16.70396786114417,
         "year": 2014,
         "mortality": 309.82,
         "_deepnote_index_column": 25948
        }
       ],
       "rows_bottom": [
        {
         "fips": 54051,
         "value": 23.84702468083819,
         "year": 2014,
         "mortality": 310.54,
         "_deepnote_index_column": 627276
        },
        {
         "fips": 54053,
         "value": 18.40092995475904,
         "year": 2014,
         "mortality": 317,
         "_deepnote_index_column": 627484
        },
        {
         "fips": 54055,
         "value": 20.09263112399942,
         "year": 2014,
         "mortality": 316.56,
         "_deepnote_index_column": 627692
        },
        {
         "fips": 54057,
         "value": 11.85043955242043,
         "year": 2014,
         "mortality": 305.37,
         "_deepnote_index_column": 627900
        },
        {
         "fips": 54059,
         "value": 5.176927295127165,
         "year": 2014,
         "mortality": 405.06,
         "_deepnote_index_column": 628108
        },
        {
         "fips": 54061,
         "value": 21.42515318725654,
         "year": 2014,
         "mortality": 259.58,
         "_deepnote_index_column": 628316
        },
        {
         "fips": 54063,
         "value": 12.20901294163116,
         "year": 2014,
         "mortality": 241.84,
         "_deepnote_index_column": 628524
        },
        {
         "fips": 54065,
         "value": 19.34937364487515,
         "year": 2014,
         "mortality": 252.02,
         "_deepnote_index_column": 628732
        },
        {
         "fips": 54067,
         "value": 6.542354028892274,
         "year": 2014,
         "mortality": 313.76,
         "_deepnote_index_column": 628940
        },
        {
         "fips": 54069,
         "value": 25.35150421928875,
         "year": 2014,
         "mortality": 283.41,
         "_deepnote_index_column": 629148
        },
        {
         "fips": 54071,
         "value": 38.79723969606849,
         "year": 2014,
         "mortality": 275.45,
         "_deepnote_index_column": 629356
        },
        {
         "fips": 54073,
         "value": 7.130367538789479,
         "year": 2014,
         "mortality": 318.8,
         "_deepnote_index_column": 629564
        },
        {
         "fips": 54075,
         "value": 45.05750991202971,
         "year": 2014,
         "mortality": 280.74,
         "_deepnote_index_column": 629772
        },
        {
         "fips": 54077,
         "value": 22.35812857332354,
         "year": 2014,
         "mortality": 308.49,
         "_deepnote_index_column": 629980
        },
        {
         "fips": 54079,
         "value": 21.35910242311503,
         "year": 2014,
         "mortality": 264.21,
         "_deepnote_index_column": 630188
        },
        {
         "fips": 54081,
         "value": 32.76360621738229,
         "year": 2014,
         "mortality": 299.54,
         "_deepnote_index_column": 630396
        },
        {
         "fips": 54083,
         "value": 8.874140597270703,
         "year": 2014,
         "mortality": 321.24,
         "_deepnote_index_column": 630604
        },
        {
         "fips": 54085,
         "value": 11.50720401462207,
         "year": 2014,
         "mortality": 354.38,
         "_deepnote_index_column": 630812
        },
        {
         "fips": 54087,
         "value": 15.95934939030604,
         "year": 2014,
         "mortality": 305.91,
         "_deepnote_index_column": 631020
        },
        {
         "fips": 54089,
         "value": 11.3505182092335,
         "year": 2014,
         "mortality": 263.04,
         "_deepnote_index_column": 631228
        },
        {
         "fips": 54091,
         "value": 2.515657080709008,
         "year": 2014,
         "mortality": 316.83,
         "_deepnote_index_column": 631436
        },
        {
         "fips": 54093,
         "value": 3.46536156974722,
         "year": 2014,
         "mortality": 299.18,
         "_deepnote_index_column": 631644
        },
        {
         "fips": 54095,
         "value": 10.50198664915424,
         "year": 2014,
         "mortality": 341.34,
         "_deepnote_index_column": 631852
        },
        {
         "fips": 54097,
         "value": 6.470933534577473,
         "year": 2014,
         "mortality": 287.54,
         "_deepnote_index_column": 632060
        },
        {
         "fips": 54099,
         "value": 12.81116712090108,
         "year": 2014,
         "mortality": 280.14,
         "_deepnote_index_column": 632268
        },
        {
         "fips": 54101,
         "value": 1.307794249455003,
         "year": 2014,
         "mortality": 324.16,
         "_deepnote_index_column": 632476
        },
        {
         "fips": 54103,
         "value": 43.27193817677941,
         "year": 2014,
         "mortality": 342.83,
         "_deepnote_index_column": 632684
        },
        {
         "fips": 54105,
         "value": 0.3301734570006559,
         "year": 2014,
         "mortality": 309.28,
         "_deepnote_index_column": 632892
        },
        {
         "fips": 54107,
         "value": 21.29905299349602,
         "year": 2014,
         "mortality": 360.38,
         "_deepnote_index_column": 633100
        },
        {
         "fips": 54109,
         "value": 8.324575571184274,
         "year": 2014,
         "mortality": 347.62,
         "_deepnote_index_column": 633308
        },
        {
         "fips": 55001,
         "value": 9.32486479590668,
         "year": 2014,
         "mortality": 263.5,
         "_deepnote_index_column": 633516
        },
        {
         "fips": 55003,
         "value": 28.32802605728514,
         "year": 2014,
         "mortality": 286.52,
         "_deepnote_index_column": 633724
        },
        {
         "fips": 55005,
         "value": 7.887224279046763,
         "year": 2014,
         "mortality": 238.77,
         "_deepnote_index_column": 633932
        },
        {
         "fips": 55007,
         "value": 30.72517002706434,
         "year": 2014,
         "mortality": 220.7,
         "_deepnote_index_column": 634140
        },
        {
         "fips": 55009,
         "value": 22.96753915093364,
         "year": 2014,
         "mortality": 233.17,
         "_deepnote_index_column": 634348
        },
        {
         "fips": 55011,
         "value": 23.37743677069309,
         "year": 2014,
         "mortality": 254.83,
         "_deepnote_index_column": 634556
        },
        {
         "fips": 55013,
         "value": 8.151851995796143,
         "year": 2014,
         "mortality": 207.66,
         "_deepnote_index_column": 634764
        },
        {
         "fips": 55015,
         "value": 25.07283807027649,
         "year": 2014,
         "mortality": 218.91,
         "_deepnote_index_column": 634972
        },
        {
         "fips": 55017,
         "value": 14.81731766801263,
         "year": 2014,
         "mortality": 228.27,
         "_deepnote_index_column": 635180
        },
        {
         "fips": 55019,
         "value": 4.301765420793082,
         "year": 2014,
         "mortality": 230.44,
         "_deepnote_index_column": 635388
        },
        {
         "fips": 55021,
         "value": 6.208409090931906,
         "year": 2014,
         "mortality": 235.6,
         "_deepnote_index_column": 635596
        },
        {
         "fips": 55023,
         "value": 12.75512864961139,
         "year": 2014,
         "mortality": 251.66,
         "_deepnote_index_column": 635804
        },
        {
         "fips": 55025,
         "value": 20.20720417606508,
         "year": 2014,
         "mortality": 199.08,
         "_deepnote_index_column": 636012
        },
        {
         "fips": 55027,
         "value": 12.89699605768125,
         "year": 2014,
         "mortality": 262.9,
         "_deepnote_index_column": 636220
        },
        {
         "fips": 55029,
         "value": 9.402462543205797,
         "year": 2014,
         "mortality": 222.49,
         "_deepnote_index_column": 636428
        },
        {
         "fips": 55031,
         "value": 31.66944744291514,
         "year": 2014,
         "mortality": 229.03,
         "_deepnote_index_column": 636636
        },
        {
         "fips": 55033,
         "value": 14.78007625600376,
         "year": 2014,
         "mortality": 213.59,
         "_deepnote_index_column": 636844
        },
        {
         "fips": 55035,
         "value": 22.86205837170728,
         "year": 2014,
         "mortality": 213.68,
         "_deepnote_index_column": 637052
        },
        {
         "fips": 55037,
         "value": 11.92127117372397,
         "year": 2014,
         "mortality": 297.78,
         "_deepnote_index_column": 637260
        },
        {
         "fips": 55039,
         "value": 21.04067796437653,
         "year": 2014,
         "mortality": 235.53,
         "_deepnote_index_column": 637468
        },
        {
         "fips": 55041,
         "value": 37.57367280682276,
         "year": 2014,
         "mortality": 260.77,
         "_deepnote_index_column": 637676
        },
        {
         "fips": 55043,
         "value": 11.29174918593606,
         "year": 2014,
         "mortality": 257.02,
         "_deepnote_index_column": 637884
        },
        {
         "fips": 55045,
         "value": 14.38960037993361,
         "year": 2014,
         "mortality": 199.5,
         "_deepnote_index_column": 638092
        },
        {
         "fips": 55047,
         "value": 19.88896191398236,
         "year": 2014,
         "mortality": 272.26,
         "_deepnote_index_column": 638300
        },
        {
         "fips": 55049,
         "value": 20.30132873624038,
         "year": 2014,
         "mortality": 255.74,
         "_deepnote_index_column": 638508
        },
        {
         "fips": 55051,
         "value": 19.2152488570208,
         "year": 2014,
         "mortality": 252.22,
         "_deepnote_index_column": 638716
        },
        {
         "fips": 55053,
         "value": 33.00708283968659,
         "year": 2014,
         "mortality": 291.29,
         "_deepnote_index_column": 638924
        },
        {
         "fips": 55055,
         "value": 7.62079458042393,
         "year": 2014,
         "mortality": 220.63,
         "_deepnote_index_column": 639132
        },
        {
         "fips": 55057,
         "value": 21.21691079763032,
         "year": 2014,
         "mortality": 246.34,
         "_deepnote_index_column": 639340
        },
        {
         "fips": 55059,
         "value": 24.24326207362785,
         "year": 2014,
         "mortality": 284.63,
         "_deepnote_index_column": 639548
        },
        {
         "fips": 55061,
         "value": 0.5791143887125207,
         "year": 2014,
         "mortality": 214.55,
         "_deepnote_index_column": 639756
        },
        {
         "fips": 55063,
         "value": 21.77493567792643,
         "year": 2014,
         "mortality": 205.22,
         "_deepnote_index_column": 639964
        },
        {
         "fips": 55065,
         "value": 15.37969917806017,
         "year": 2014,
         "mortality": 215.45,
         "_deepnote_index_column": 640172
        },
        {
         "fips": 55067,
         "value": 30.15019382459238,
         "year": 2014,
         "mortality": 249.1,
         "_deepnote_index_column": 640380
        },
        {
         "fips": 55069,
         "value": 12.99230709450374,
         "year": 2014,
         "mortality": 230.83,
         "_deepnote_index_column": 640588
        },
        {
         "fips": 55071,
         "value": 16.89898922273188,
         "year": 2014,
         "mortality": 230.39,
         "_deepnote_index_column": 640796
        },
        {
         "fips": 55073,
         "value": 22.50498351884778,
         "year": 2014,
         "mortality": 189.55,
         "_deepnote_index_column": 641004
        },
        {
         "fips": 55075,
         "value": 26.26209367555846,
         "year": 2014,
         "mortality": 279.65,
         "_deepnote_index_column": 641212
        },
        {
         "fips": 55077,
         "value": 1.739687049795637,
         "year": 2014,
         "mortality": 226.41,
         "_deepnote_index_column": 641420
        },
        {
         "fips": 55078,
         "value": 21.93560235575412,
         "year": 2014,
         "mortality": 281.31,
         "_deepnote_index_column": 641628
        },
        {
         "fips": 55079,
         "value": 8.890148396445188,
         "year": 2014,
         "mortality": 272.25,
         "_deepnote_index_column": 641836
        },
        {
         "fips": 55081,
         "value": 17.40913120270794,
         "year": 2014,
         "mortality": 262.81,
         "_deepnote_index_column": 642044
        },
        {
         "fips": 55083,
         "value": 11.3298301372901,
         "year": 2014,
         "mortality": 251.31,
         "_deepnote_index_column": 642252
        },
        {
         "fips": 55085,
         "value": 9.558315961893356,
         "year": 2014,
         "mortality": 244.37,
         "_deepnote_index_column": 642460
        },
        {
         "fips": 55087,
         "value": 11.63697877342109,
         "year": 2014,
         "mortality": 212.39,
         "_deepnote_index_column": 642668
        },
        {
         "fips": 55089,
         "value": 29.52041163249031,
         "year": 2014,
         "mortality": 219.65,
         "_deepnote_index_column": 642876
        },
        {
         "fips": 55091,
         "value": "nan",
         "year": 2014,
         "mortality": 251.96,
         "_deepnote_index_column": 643084
        },
        {
         "fips": 55093,
         "value": 19.13071483702241,
         "year": 2014,
         "mortality": 226.03,
         "_deepnote_index_column": 643292
        },
        {
         "fips": 55095,
         "value": 2.052873473841857,
         "year": 2014,
         "mortality": 236.27,
         "_deepnote_index_column": 643500
        },
        {
         "fips": 55097,
         "value": 18.80167044010626,
         "year": 2014,
         "mortality": 206.26,
         "_deepnote_index_column": 643708
        },
        {
         "fips": 55099,
         "value": 11.53027476240815,
         "year": 2014,
         "mortality": 249.17,
         "_deepnote_index_column": 643916
        },
        {
         "fips": 55101,
         "value": 30.51495697670832,
         "year": 2014,
         "mortality": 232.89,
         "_deepnote_index_column": 644124
        },
        {
         "fips": 55103,
         "value": 20.40637106418434,
         "year": 2014,
         "mortality": 228.35,
         "_deepnote_index_column": 644332
        },
        {
         "fips": 55105,
         "value": 28.90944422235438,
         "year": 2014,
         "mortality": 227.54,
         "_deepnote_index_column": 644540
        },
        {
         "fips": 55107,
         "value": 33.49441626490349,
         "year": 2014,
         "mortality": 250.39,
         "_deepnote_index_column": 644748
        },
        {
         "fips": 55109,
         "value": 12.77849548398257,
         "year": 2014,
         "mortality": 216.85,
         "_deepnote_index_column": 644956
        },
        {
         "fips": 55111,
         "value": 5.734945708190735,
         "year": 2014,
         "mortality": 246.41,
         "_deepnote_index_column": 645164
        },
        {
         "fips": 55113,
         "value": 19.78202455132917,
         "year": 2014,
         "mortality": 257.98,
         "_deepnote_index_column": 645372
        },
        {
         "fips": 55115,
         "value": 9.785877253946436,
         "year": 2014,
         "mortality": 241.07,
         "_deepnote_index_column": 645580
        },
        {
         "fips": 55117,
         "value": 9.305910367892857,
         "year": 2014,
         "mortality": 240.87,
         "_deepnote_index_column": 645788
        },
        {
         "fips": 55119,
         "value": 20.42077790160472,
         "year": 2014,
         "mortality": 202.56,
         "_deepnote_index_column": 645996
        },
        {
         "fips": 55121,
         "value": 1.158285885649622,
         "year": 2014,
         "mortality": 246.05,
         "_deepnote_index_column": 646204
        },
        {
         "fips": 55123,
         "value": 15.11869953194223,
         "year": 2014,
         "mortality": 256.69,
         "_deepnote_index_column": 646412
        },
        {
         "fips": 55125,
         "value": 6.452830971876016,
         "year": 2014,
         "mortality": 244.26,
         "_deepnote_index_column": 646620
        },
        {
         "fips": 55127,
         "value": 27.85103464759312,
         "year": 2014,
         "mortality": 235.01,
         "_deepnote_index_column": 646828
        },
        {
         "fips": 55129,
         "value": 17.73686522969543,
         "year": 2014,
         "mortality": 276.53,
         "_deepnote_index_column": 647036
        },
        {
         "fips": 55131,
         "value": 18.983541456725,
         "year": 2014,
         "mortality": 213.24,
         "_deepnote_index_column": 647244
        },
        {
         "fips": 55133,
         "value": 35.76408894758279,
         "year": 2014,
         "mortality": 194.16,
         "_deepnote_index_column": 647452
        },
        {
         "fips": 55135,
         "value": 11.85891431445879,
         "year": 2014,
         "mortality": 288.41,
         "_deepnote_index_column": 647660
        },
        {
         "fips": 55137,
         "value": 1.635833391033156,
         "year": 2014,
         "mortality": 276.27,
         "_deepnote_index_column": 647868
        },
        {
         "fips": 55139,
         "value": 20.64468940724493,
         "year": 2014,
         "mortality": 201.41,
         "_deepnote_index_column": 648076
        },
        {
         "fips": 55141,
         "value": 23.99275280346988,
         "year": 2014,
         "mortality": 216.45,
         "_deepnote_index_column": 648284
        },
        {
         "fips": 56001,
         "value": 37.05266422590044,
         "year": 2014,
         "mortality": 201.49,
         "_deepnote_index_column": 648492
        },
        {
         "fips": 56003,
         "value": 18.65292256328719,
         "year": 2014,
         "mortality": 268.23,
         "_deepnote_index_column": 648700
        },
        {
         "fips": 56005,
         "value": 23.32854594788221,
         "year": 2014,
         "mortality": 270.75,
         "_deepnote_index_column": 648908
        },
        {
         "fips": 56007,
         "value": 54.06980490862254,
         "year": 2014,
         "mortality": 286.51,
         "_deepnote_index_column": 649116
        },
        {
         "fips": 56009,
         "value": 12.58076348171893,
         "year": 2014,
         "mortality": 229.38,
         "_deepnote_index_column": 649324
        },
        {
         "fips": 56011,
         "value": 25.35051355786828,
         "year": 2014,
         "mortality": 199.16,
         "_deepnote_index_column": 649532
        },
        {
         "fips": 56013,
         "value": 13.13361520731889,
         "year": 2014,
         "mortality": 255.35,
         "_deepnote_index_column": 649740
        },
        {
         "fips": 56015,
         "value": 26.09774816582527,
         "year": 2014,
         "mortality": 225.62,
         "_deepnote_index_column": 649948
        },
        {
         "fips": 56017,
         "value": 8.190977472552431,
         "year": 2014,
         "mortality": 256.92,
         "_deepnote_index_column": 650156
        },
        {
         "fips": 56019,
         "value": 19.99743157697468,
         "year": 2014,
         "mortality": 242.71,
         "_deepnote_index_column": 650364
        },
        {
         "fips": 56021,
         "value": 34.7995964261958,
         "year": 2014,
         "mortality": 242.28,
         "_deepnote_index_column": 650572
        },
        {
         "fips": 56023,
         "value": 13.68954178972031,
         "year": 2014,
         "mortality": 225.78,
         "_deepnote_index_column": 650780
        },
        {
         "fips": 56025,
         "value": 42.76620299777707,
         "year": 2014,
         "mortality": 243.16,
         "_deepnote_index_column": 650988
        },
        {
         "fips": 56027,
         "value": 21.92971787434763,
         "year": 2014,
         "mortality": 239.71,
         "_deepnote_index_column": 651196
        },
        {
         "fips": 56029,
         "value": 20.628296954278,
         "year": 2014,
         "mortality": 193.41,
         "_deepnote_index_column": 651404
        },
        {
         "fips": 56031,
         "value": 20.75503810373763,
         "year": 2014,
         "mortality": 231.46,
         "_deepnote_index_column": 651612
        },
        {
         "fips": 56033,
         "value": 44.56883342108085,
         "year": 2014,
         "mortality": 271.55,
         "_deepnote_index_column": 651820
        },
        {
         "fips": 56035,
         "value": 18.96426097440714,
         "year": 2014,
         "mortality": 218.83,
         "_deepnote_index_column": 652028
        },
        {
         "fips": 56037,
         "value": 43.2240738923894,
         "year": 2014,
         "mortality": 262.99,
         "_deepnote_index_column": 652236
        },
        {
         "fips": 56039,
         "value": 29.17437038407256,
         "year": 2014,
         "mortality": 144.71,
         "_deepnote_index_column": 652444
        },
        {
         "fips": 56041,
         "value": 22.18968488137944,
         "year": 2014,
         "mortality": 266.75,
         "_deepnote_index_column": 652652
        },
        {
         "fips": 56043,
         "value": 10.9154066204495,
         "year": 2014,
         "mortality": 227.19,
         "_deepnote_index_column": 652860
        },
        {
         "fips": 56045,
         "value": 17.1651919738084,
         "year": 2014,
         "mortality": 215.88,
         "_deepnote_index_column": 653068
        }
       ]
      },
      "text/plain": "         fips      value  year  mortality\n156      1001  32.062255  2014     316.36\n364      1003  16.767489  2014     272.04\n572      1005  22.105560  2014     255.09\n780      1007   4.230324  2014     378.09\n988      1009   6.497380  2014     307.90\n...       ...        ...   ...        ...\n652236  56037  43.224074  2014     262.99\n652444  56039  29.174370  2014     144.71\n652652  56041  22.189685  2014     266.75\n652860  56043  10.915407  2014     227.19\n653068  56045  17.165192  2014     215.88\n\n[3140 rows x 4 columns]",
      "text/html": "<div>\n<style scoped>\n    .dataframe tbody tr th:only-of-type {\n        vertical-align: middle;\n    }\n\n    .dataframe tbody tr th {\n        vertical-align: top;\n    }\n\n    .dataframe thead th {\n        text-align: right;\n    }\n</style>\n<table border=\"1\" class=\"dataframe\">\n  <thead>\n    <tr style=\"text-align: right;\">\n      <th></th>\n      <th>fips</th>\n      <th>value</th>\n      <th>year</th>\n      <th>mortality</th>\n    </tr>\n  </thead>\n  <tbody>\n    <tr>\n      <th>156</th>\n      <td>1001</td>\n      <td>32.062255</td>\n      <td>2014</td>\n      <td>316.36</td>\n    </tr>\n    <tr>\n      <th>364</th>\n      <td>1003</td>\n      <td>16.767489</td>\n      <td>2014</td>\n      <td>272.04</td>\n    </tr>\n    <tr>\n      <th>572</th>\n      <td>1005</td>\n      <td>22.105560</td>\n      <td>2014</td>\n      <td>255.09</td>\n    </tr>\n    <tr>\n      <th>780</th>\n      <td>1007</td>\n      <td>4.230324</td>\n      <td>2014</td>\n      <td>378.09</td>\n    </tr>\n    <tr>\n      <th>988</th>\n      <td>1009</td>\n      <td>6.497380</td>\n      <td>2014</td>\n      <td>307.90</td>\n    </tr>\n    <tr>\n      <th>...</th>\n      <td>...</td>\n      <td>...</td>\n      <td>...</td>\n      <td>...</td>\n    </tr>\n    <tr>\n      <th>652236</th>\n      <td>56037</td>\n      <td>43.224074</td>\n      <td>2014</td>\n      <td>262.99</td>\n    </tr>\n    <tr>\n      <th>652444</th>\n      <td>56039</td>\n      <td>29.174370</td>\n      <td>2014</td>\n      <td>144.71</td>\n    </tr>\n    <tr>\n      <th>652652</th>\n      <td>56041</td>\n      <td>22.189685</td>\n      <td>2014</td>\n      <td>266.75</td>\n    </tr>\n    <tr>\n      <th>652860</th>\n      <td>56043</td>\n      <td>10.915407</td>\n      <td>2014</td>\n      <td>227.19</td>\n    </tr>\n    <tr>\n      <th>653068</th>\n      <td>56045</td>\n      <td>17.165192</td>\n      <td>2014</td>\n      <td>215.88</td>\n    </tr>\n  </tbody>\n</table>\n<p>3140 rows × 4 columns</p>\n</div>"
     },
     "metadata": {}
    }
   ],
   "execution_count": null
  },
  {
   "cell_type": "code",
   "metadata": {
    "cell_id": "00018-070c9d34-d549-4c76-9cb8-6294e49ba062",
    "deepnote_to_be_reexecuted": false,
    "source_hash": "3508ec1",
    "execution_start": 1638570562972,
    "execution_millis": 127,
    "deepnote_cell_type": "code"
   },
   "source": "# focus on 2010 bc of more detailed decennial census data\nfinal_df = df.loc[(df['indicator']=='PCT_LACCESS_POP')&(df['disease']=='Cardiovascular diseases')&(df['year']==2010),['fips','value','year','mortality', 'state_y']]\n",
   "outputs": [],
   "execution_count": null
  },
  {
   "cell_type": "code",
   "metadata": {
    "tags": [],
    "cell_id": "00018-aa9dcae0-5033-4717-ad32-1022b692e1e8",
    "deepnote_to_be_reexecuted": false,
    "source_hash": "79a5fcd4",
    "execution_start": 1638570589748,
    "execution_millis": 72,
    "deepnote_cell_type": "code"
   },
   "source": "final_df[final_df.value>=100]",
   "outputs": [
    {
     "output_type": "execute_result",
     "execution_count": 19,
     "data": {
      "application/vnd.deepnote.dataframe.v2+json": {
       "row_count": 31,
       "column_count": 5,
       "columns": [
        {
         "name": "fips",
         "dtype": "int64",
         "stats": {
          "unique_count": 31,
          "nan_count": 0,
          "min": "2068",
          "max": "51091",
          "histogram": [
           {
            "bin_start": 2068,
            "bin_end": 6970.3,
            "count": 1
           },
           {
            "bin_start": 6970.3,
            "bin_end": 11872.6,
            "count": 1
           },
           {
            "bin_start": 11872.6,
            "bin_end": 16774.9,
            "count": 1
           },
           {
            "bin_start": 16774.9,
            "bin_end": 21677.2,
            "count": 3
           },
           {
            "bin_start": 21677.2,
            "bin_end": 26579.5,
            "count": 0
           },
           {
            "bin_start": 26579.5,
            "bin_end": 31481.800000000003,
            "count": 10
           },
           {
            "bin_start": 31481.800000000003,
            "bin_end": 36384.1,
            "count": 3
           },
           {
            "bin_start": 36384.1,
            "bin_end": 41286.4,
            "count": 1
           },
           {
            "bin_start": 41286.4,
            "bin_end": 46188.700000000004,
            "count": 3
           },
           {
            "bin_start": 46188.700000000004,
            "bin_end": 51091,
            "count": 8
           }
          ]
         }
        },
        {
         "name": "value",
         "dtype": "float64",
         "stats": {
          "unique_count": 31,
          "nan_count": 0,
          "min": "100.0000000109513",
          "max": "100.0000009714998",
          "histogram": [
           {
            "bin_start": 100.0000000109513,
            "bin_end": 100.00000010700614,
            "count": 7
           },
           {
            "bin_start": 100.00000010700614,
            "bin_end": 100.00000020306099,
            "count": 7
           },
           {
            "bin_start": 100.00000020306099,
            "bin_end": 100.00000029911585,
            "count": 3
           },
           {
            "bin_start": 100.00000029911585,
            "bin_end": 100.0000003951707,
            "count": 5
           },
           {
            "bin_start": 100.0000003951707,
            "bin_end": 100.00000049122555,
            "count": 2
           },
           {
            "bin_start": 100.00000049122555,
            "bin_end": 100.0000005872804,
            "count": 2
           },
           {
            "bin_start": 100.0000005872804,
            "bin_end": 100.00000068333524,
            "count": 1
           },
           {
            "bin_start": 100.00000068333524,
            "bin_end": 100.0000007793901,
            "count": 1
           },
           {
            "bin_start": 100.0000007793901,
            "bin_end": 100.00000087544495,
            "count": 0
           },
           {
            "bin_start": 100.00000087544495,
            "bin_end": 100.0000009714998,
            "count": 3
           }
          ]
         }
        },
        {
         "name": "year",
         "dtype": "int64",
         "stats": {
          "unique_count": 1,
          "nan_count": 0,
          "min": "2010",
          "max": "2010",
          "histogram": [
           {
            "bin_start": 2009.5,
            "bin_end": 2009.6,
            "count": 0
           },
           {
            "bin_start": 2009.6,
            "bin_end": 2009.7,
            "count": 0
           },
           {
            "bin_start": 2009.7,
            "bin_end": 2009.8,
            "count": 0
           },
           {
            "bin_start": 2009.8,
            "bin_end": 2009.9,
            "count": 0
           },
           {
            "bin_start": 2009.9,
            "bin_end": 2010,
            "count": 0
           },
           {
            "bin_start": 2010,
            "bin_end": 2010.1,
            "count": 31
           },
           {
            "bin_start": 2010.1,
            "bin_end": 2010.2,
            "count": 0
           },
           {
            "bin_start": 2010.2,
            "bin_end": 2010.3,
            "count": 0
           },
           {
            "bin_start": 2010.3,
            "bin_end": 2010.4,
            "count": 0
           },
           {
            "bin_start": 2010.4,
            "bin_end": 2010.5,
            "count": 0
           }
          ]
         }
        },
        {
         "name": "mortality",
         "dtype": "float64",
         "stats": {
          "unique_count": 31,
          "nan_count": 0,
          "min": "128.59",
          "max": "327.07",
          "histogram": [
           {
            "bin_start": 128.59,
            "bin_end": 148.438,
            "count": 2
           },
           {
            "bin_start": 148.438,
            "bin_end": 168.286,
            "count": 2
           },
           {
            "bin_start": 168.286,
            "bin_end": 188.13400000000001,
            "count": 1
           },
           {
            "bin_start": 188.13400000000001,
            "bin_end": 207.982,
            "count": 6
           },
           {
            "bin_start": 207.982,
            "bin_end": 227.82999999999998,
            "count": 5
           },
           {
            "bin_start": 227.82999999999998,
            "bin_end": 247.678,
            "count": 3
           },
           {
            "bin_start": 247.678,
            "bin_end": 267.52599999999995,
            "count": 7
           },
           {
            "bin_start": 267.52599999999995,
            "bin_end": 287.374,
            "count": 3
           },
           {
            "bin_start": 287.374,
            "bin_end": 307.222,
            "count": 1
           },
           {
            "bin_start": 307.222,
            "bin_end": 327.07,
            "count": 1
           }
          ]
         }
        },
        {
         "name": "state_y",
         "dtype": "object",
         "stats": {
          "unique_count": 13,
          "nan_count": 0,
          "categories": [
           {
            "name": "Nebraska",
            "count": 7
           },
           {
            "name": "Texas",
            "count": 6
           },
           {
            "name": "11 others",
            "count": 18
           }
          ]
         }
        },
        {
         "name": "_deepnote_index_column",
         "dtype": "int64"
        }
       ],
       "rows_top": [
        {
         "fips": 2068,
         "value": 100.0000007417174,
         "year": 2010,
         "mortality": 230.66,
         "state_y": "Alaska",
         "_deepnote_index_column": 669994
        },
        {
         "fips": 8061,
         "value": 100.000000332505,
         "year": 2010,
         "mortality": 223.01,
         "state_y": "Colorado",
         "_deepnote_index_column": 717262
        },
        {
         "fips": 16033,
         "value": 100.000000592837,
         "year": 2010,
         "mortality": 258.27,
         "state_y": "Idaho",
         "_deepnote_index_column": 785590
        },
        {
         "fips": 20075,
         "value": 100.0000000482572,
         "year": 2010,
         "mortality": 264.61,
         "state_y": "Kansas",
         "_deepnote_index_column": 869362
        },
        {
         "fips": 20081,
         "value": 100.0000000465895,
         "year": 2010,
         "mortality": 252.52,
         "state_y": "Kansas",
         "_deepnote_index_column": 870064
        },
        {
         "fips": 20101,
         "value": 100.000000173952,
         "year": 2010,
         "mortality": 274.93,
         "state_y": "Kansas",
         "_deepnote_index_column": 872404
        },
        {
         "fips": 30037,
         "value": 100.0000003505538,
         "year": 2010,
         "mortality": 188.94,
         "state_y": "Montana",
         "_deepnote_index_column": 1031056
        },
        {
         "fips": 30069,
         "value": 100.0000004592692,
         "year": 2010,
         "mortality": 202.72,
         "state_y": "Montana",
         "_deepnote_index_column": 1034800
        },
        {
         "fips": 30079,
         "value": 100.0000001857769,
         "year": 2010,
         "mortality": 214.5,
         "state_y": "Montana",
         "_deepnote_index_column": 1035970
        },
        {
         "fips": 31005,
         "value": 100.0000009585959,
         "year": 2010,
         "mortality": 216.57,
         "state_y": "Nebraska",
         "_deepnote_index_column": 1040416
        },
        {
         "fips": 31007,
         "value": 100.0000009437862,
         "year": 2010,
         "mortality": 163.35,
         "state_y": "Nebraska",
         "_deepnote_index_column": 1040650
        },
        {
         "fips": 31015,
         "value": 100.0000001395603,
         "year": 2010,
         "mortality": 265.58,
         "state_y": "Nebraska",
         "_deepnote_index_column": 1041586
        },
        {
         "fips": 31063,
         "value": 100.0000001739506,
         "year": 2010,
         "mortality": 189.81,
         "state_y": "Nebraska",
         "_deepnote_index_column": 1047202
        },
        {
         "fips": 31085,
         "value": 100.0000003725687,
         "year": 2010,
         "mortality": 128.59,
         "state_y": "Nebraska",
         "_deepnote_index_column": 1049776
        },
        {
         "fips": 31117,
         "value": 100.0000009714998,
         "year": 2010,
         "mortality": 142.6,
         "state_y": "Nebraska",
         "_deepnote_index_column": 1053520
        },
        {
         "fips": 31171,
         "value": 100.0000002020677,
         "year": 2010,
         "mortality": 203.5,
         "state_y": "Nebraska",
         "_deepnote_index_column": 1059838
        },
        {
         "fips": 32017,
         "value": 100.0000001569731,
         "year": 2010,
         "mortality": 295.47,
         "state_y": "Nevada",
         "_deepnote_index_column": 1063582
        },
        {
         "fips": 35003,
         "value": 100.000000572033,
         "year": 2010,
         "mortality": 172.16,
         "state_y": "New Mexico",
         "_deepnote_index_column": 1073176
        },
        {
         "fips": 35011,
         "value": 100.0000002229629,
         "year": 2010,
         "mortality": 238,
         "state_y": "New Mexico",
         "_deepnote_index_column": 1074346
        },
        {
         "fips": 38049,
         "value": 100.0000000255578,
         "year": 2010,
         "mortality": 218.76,
         "state_y": "North Dakota",
         "_deepnote_index_column": 1124188
        },
        {
         "fips": 46073,
         "value": 100.0000000388402,
         "year": 2010,
         "mortality": 193.15,
         "state_y": "South Dakota",
         "_deepnote_index_column": 1213810
        },
        {
         "fips": 46107,
         "value": 100.0000001372726,
         "year": 2010,
         "mortality": 220.46,
         "state_y": "South Dakota",
         "_deepnote_index_column": 1217788
        },
        {
         "fips": 46119,
         "value": 100.0000000206693,
         "year": 2010,
         "mortality": 156.79,
         "state_y": "South Dakota",
         "_deepnote_index_column": 1218958
        },
        {
         "fips": 48033,
         "value": 100.0000000109513,
         "year": 2010,
         "mortality": 189.15,
         "state_y": "Texas",
         "_deepnote_index_column": 1246804
        },
        {
         "fips": 48045,
         "value": 100.0000001069756,
         "year": 2010,
         "mortality": 271.33,
         "state_y": "Texas",
         "_deepnote_index_column": 1248208
        },
        {
         "fips": 48155,
         "value": 100.0000003885666,
         "year": 2010,
         "mortality": 327.07,
         "state_y": "Texas",
         "_deepnote_index_column": 1261078
        },
        {
         "fips": 48359,
         "value": 100.0000003022812,
         "year": 2010,
         "mortality": 252.14,
         "state_y": "Texas",
         "_deepnote_index_column": 1284946
        },
        {
         "fips": 48431,
         "value": 100.0000004177393,
         "year": 2010,
         "mortality": 263.59,
         "state_y": "Texas",
         "_deepnote_index_column": 1293370
        },
        {
         "fips": 48447,
         "value": 100.0000002382943,
         "year": 2010,
         "mortality": 274.64,
         "state_y": "Texas",
         "_deepnote_index_column": 1295242
        },
        {
         "fips": 49031,
         "value": 100.0000002162892,
         "year": 2010,
         "mortality": 264.01,
         "state_y": "Utah",
         "_deepnote_index_column": 1306006
        },
        {
         "fips": 51091,
         "value": 100.0000004975403,
         "year": 2010,
         "mortality": 232.5,
         "state_y": "Virginia",
         "_deepnote_index_column": 1322854
        }
       ],
       "rows_bottom": null
      },
      "text/plain": "          fips       value  year  mortality       state_y\n669994    2068  100.000001  2010     230.66        Alaska\n717262    8061  100.000000  2010     223.01      Colorado\n785590   16033  100.000001  2010     258.27         Idaho\n869362   20075  100.000000  2010     264.61        Kansas\n870064   20081  100.000000  2010     252.52        Kansas\n872404   20101  100.000000  2010     274.93        Kansas\n1031056  30037  100.000000  2010     188.94       Montana\n1034800  30069  100.000000  2010     202.72       Montana\n1035970  30079  100.000000  2010     214.50       Montana\n1040416  31005  100.000001  2010     216.57      Nebraska\n1040650  31007  100.000001  2010     163.35      Nebraska\n1041586  31015  100.000000  2010     265.58      Nebraska\n1047202  31063  100.000000  2010     189.81      Nebraska\n1049776  31085  100.000000  2010     128.59      Nebraska\n1053520  31117  100.000001  2010     142.60      Nebraska\n1059838  31171  100.000000  2010     203.50      Nebraska\n1063582  32017  100.000000  2010     295.47        Nevada\n1073176  35003  100.000001  2010     172.16    New Mexico\n1074346  35011  100.000000  2010     238.00    New Mexico\n1124188  38049  100.000000  2010     218.76  North Dakota\n1213810  46073  100.000000  2010     193.15  South Dakota\n1217788  46107  100.000000  2010     220.46  South Dakota\n1218958  46119  100.000000  2010     156.79  South Dakota\n1246804  48033  100.000000  2010     189.15         Texas\n1248208  48045  100.000000  2010     271.33         Texas\n1261078  48155  100.000000  2010     327.07         Texas\n1284946  48359  100.000000  2010     252.14         Texas\n1293370  48431  100.000000  2010     263.59         Texas\n1295242  48447  100.000000  2010     274.64         Texas\n1306006  49031  100.000000  2010     264.01          Utah\n1322854  51091  100.000000  2010     232.50      Virginia",
      "text/html": "<div>\n<style scoped>\n    .dataframe tbody tr th:only-of-type {\n        vertical-align: middle;\n    }\n\n    .dataframe tbody tr th {\n        vertical-align: top;\n    }\n\n    .dataframe thead th {\n        text-align: right;\n    }\n</style>\n<table border=\"1\" class=\"dataframe\">\n  <thead>\n    <tr style=\"text-align: right;\">\n      <th></th>\n      <th>fips</th>\n      <th>value</th>\n      <th>year</th>\n      <th>mortality</th>\n      <th>state_y</th>\n    </tr>\n  </thead>\n  <tbody>\n    <tr>\n      <th>669994</th>\n      <td>2068</td>\n      <td>100.000001</td>\n      <td>2010</td>\n      <td>230.66</td>\n      <td>Alaska</td>\n    </tr>\n    <tr>\n      <th>717262</th>\n      <td>8061</td>\n      <td>100.000000</td>\n      <td>2010</td>\n      <td>223.01</td>\n      <td>Colorado</td>\n    </tr>\n    <tr>\n      <th>785590</th>\n      <td>16033</td>\n      <td>100.000001</td>\n      <td>2010</td>\n      <td>258.27</td>\n      <td>Idaho</td>\n    </tr>\n    <tr>\n      <th>869362</th>\n      <td>20075</td>\n      <td>100.000000</td>\n      <td>2010</td>\n      <td>264.61</td>\n      <td>Kansas</td>\n    </tr>\n    <tr>\n      <th>870064</th>\n      <td>20081</td>\n      <td>100.000000</td>\n      <td>2010</td>\n      <td>252.52</td>\n      <td>Kansas</td>\n    </tr>\n    <tr>\n      <th>872404</th>\n      <td>20101</td>\n      <td>100.000000</td>\n      <td>2010</td>\n      <td>274.93</td>\n      <td>Kansas</td>\n    </tr>\n    <tr>\n      <th>1031056</th>\n      <td>30037</td>\n      <td>100.000000</td>\n      <td>2010</td>\n      <td>188.94</td>\n      <td>Montana</td>\n    </tr>\n    <tr>\n      <th>1034800</th>\n      <td>30069</td>\n      <td>100.000000</td>\n      <td>2010</td>\n      <td>202.72</td>\n      <td>Montana</td>\n    </tr>\n    <tr>\n      <th>1035970</th>\n      <td>30079</td>\n      <td>100.000000</td>\n      <td>2010</td>\n      <td>214.50</td>\n      <td>Montana</td>\n    </tr>\n    <tr>\n      <th>1040416</th>\n      <td>31005</td>\n      <td>100.000001</td>\n      <td>2010</td>\n      <td>216.57</td>\n      <td>Nebraska</td>\n    </tr>\n    <tr>\n      <th>1040650</th>\n      <td>31007</td>\n      <td>100.000001</td>\n      <td>2010</td>\n      <td>163.35</td>\n      <td>Nebraska</td>\n    </tr>\n    <tr>\n      <th>1041586</th>\n      <td>31015</td>\n      <td>100.000000</td>\n      <td>2010</td>\n      <td>265.58</td>\n      <td>Nebraska</td>\n    </tr>\n    <tr>\n      <th>1047202</th>\n      <td>31063</td>\n      <td>100.000000</td>\n      <td>2010</td>\n      <td>189.81</td>\n      <td>Nebraska</td>\n    </tr>\n    <tr>\n      <th>1049776</th>\n      <td>31085</td>\n      <td>100.000000</td>\n      <td>2010</td>\n      <td>128.59</td>\n      <td>Nebraska</td>\n    </tr>\n    <tr>\n      <th>1053520</th>\n      <td>31117</td>\n      <td>100.000001</td>\n      <td>2010</td>\n      <td>142.60</td>\n      <td>Nebraska</td>\n    </tr>\n    <tr>\n      <th>1059838</th>\n      <td>31171</td>\n      <td>100.000000</td>\n      <td>2010</td>\n      <td>203.50</td>\n      <td>Nebraska</td>\n    </tr>\n    <tr>\n      <th>1063582</th>\n      <td>32017</td>\n      <td>100.000000</td>\n      <td>2010</td>\n      <td>295.47</td>\n      <td>Nevada</td>\n    </tr>\n    <tr>\n      <th>1073176</th>\n      <td>35003</td>\n      <td>100.000001</td>\n      <td>2010</td>\n      <td>172.16</td>\n      <td>New Mexico</td>\n    </tr>\n    <tr>\n      <th>1074346</th>\n      <td>35011</td>\n      <td>100.000000</td>\n      <td>2010</td>\n      <td>238.00</td>\n      <td>New Mexico</td>\n    </tr>\n    <tr>\n      <th>1124188</th>\n      <td>38049</td>\n      <td>100.000000</td>\n      <td>2010</td>\n      <td>218.76</td>\n      <td>North Dakota</td>\n    </tr>\n    <tr>\n      <th>1213810</th>\n      <td>46073</td>\n      <td>100.000000</td>\n      <td>2010</td>\n      <td>193.15</td>\n      <td>South Dakota</td>\n    </tr>\n    <tr>\n      <th>1217788</th>\n      <td>46107</td>\n      <td>100.000000</td>\n      <td>2010</td>\n      <td>220.46</td>\n      <td>South Dakota</td>\n    </tr>\n    <tr>\n      <th>1218958</th>\n      <td>46119</td>\n      <td>100.000000</td>\n      <td>2010</td>\n      <td>156.79</td>\n      <td>South Dakota</td>\n    </tr>\n    <tr>\n      <th>1246804</th>\n      <td>48033</td>\n      <td>100.000000</td>\n      <td>2010</td>\n      <td>189.15</td>\n      <td>Texas</td>\n    </tr>\n    <tr>\n      <th>1248208</th>\n      <td>48045</td>\n      <td>100.000000</td>\n      <td>2010</td>\n      <td>271.33</td>\n      <td>Texas</td>\n    </tr>\n    <tr>\n      <th>1261078</th>\n      <td>48155</td>\n      <td>100.000000</td>\n      <td>2010</td>\n      <td>327.07</td>\n      <td>Texas</td>\n    </tr>\n    <tr>\n      <th>1284946</th>\n      <td>48359</td>\n      <td>100.000000</td>\n      <td>2010</td>\n      <td>252.14</td>\n      <td>Texas</td>\n    </tr>\n    <tr>\n      <th>1293370</th>\n      <td>48431</td>\n      <td>100.000000</td>\n      <td>2010</td>\n      <td>263.59</td>\n      <td>Texas</td>\n    </tr>\n    <tr>\n      <th>1295242</th>\n      <td>48447</td>\n      <td>100.000000</td>\n      <td>2010</td>\n      <td>274.64</td>\n      <td>Texas</td>\n    </tr>\n    <tr>\n      <th>1306006</th>\n      <td>49031</td>\n      <td>100.000000</td>\n      <td>2010</td>\n      <td>264.01</td>\n      <td>Utah</td>\n    </tr>\n    <tr>\n      <th>1322854</th>\n      <td>51091</td>\n      <td>100.000000</td>\n      <td>2010</td>\n      <td>232.50</td>\n      <td>Virginia</td>\n    </tr>\n  </tbody>\n</table>\n</div>"
     },
     "metadata": {}
    }
   ],
   "execution_count": null
  },
  {
   "cell_type": "markdown",
   "source": "### Visual EDA",
   "metadata": {
    "tags": [],
    "cell_id": "00018-70163e73-baae-468d-aad6-e67ad28357ed",
    "deepnote_cell_type": "markdown"
   }
  },
  {
   "cell_type": "code",
   "metadata": {
    "cell_id": "00022-c6fd1a7b-0021-48a9-9c02-765738c47f33",
    "deepnote_to_be_reexecuted": false,
    "source_hash": "2e5ef30b",
    "execution_start": 1638414831597,
    "execution_millis": 351,
    "deepnote_output_heights": [
     370.96875
    ],
    "deepnote_cell_type": "code"
   },
   "source": "sns.displot(data=final_df, x=\"value\", kind=\"kde\")\nplt.xlabel(\"Low Acess To Store (%)\")\nplt.title(\"Low Acess To Store (%) Probability Density Function (2010)\")\nplt.show()",
   "outputs": [
    {
     "data": {
      "text/plain": "<Figure size 360x360 with 1 Axes>",
      "image/png": "[encoded data removed]"
     },
     "metadata": {
      "image/png": {
       "width": 438,
       "height": 369
      }
     },
     "output_type": "display_data"
    }
   ],
   "execution_count": null
  },
  {
   "cell_type": "code",
   "metadata": {
    "tags": [],
    "cell_id": "00020-094fc9cf-5cb7-4e10-8066-f27226aa13d4",
    "deepnote_to_be_reexecuted": false,
    "source_hash": "4b92168f",
    "execution_start": 1638414949071,
    "execution_millis": 22,
    "deepnote_output_heights": [
     174.6875
    ],
    "deepnote_cell_type": "code"
   },
   "source": "# descriptive stats\nfinal_df.value.describe().reset_index()",
   "outputs": [
    {
     "output_type": "execute_result",
     "execution_count": 35,
     "data": {
      "application/vnd.deepnote.dataframe.v2+json": {
       "row_count": 8,
       "column_count": 2,
       "columns": [
        {
         "name": "index",
         "dtype": "object",
         "stats": {
          "unique_count": 8,
          "nan_count": 0,
          "categories": [
           {
            "name": "count",
            "count": 1
           },
           {
            "name": "mean",
            "count": 1
           },
           {
            "name": "6 others",
            "count": 6
           }
          ]
         }
        },
        {
         "name": "value",
         "dtype": "float64",
         "stats": {
          "unique_count": 8,
          "nan_count": 0,
          "min": "0.0",
          "max": "3140.0",
          "histogram": [
           {
            "bin_start": 0,
            "bin_end": 314,
            "count": 7
           },
           {
            "bin_start": 314,
            "bin_end": 628,
            "count": 0
           },
           {
            "bin_start": 628,
            "bin_end": 942,
            "count": 0
           },
           {
            "bin_start": 942,
            "bin_end": 1256,
            "count": 0
           },
           {
            "bin_start": 1256,
            "bin_end": 1570,
            "count": 0
           },
           {
            "bin_start": 1570,
            "bin_end": 1884,
            "count": 0
           },
           {
            "bin_start": 1884,
            "bin_end": 2198,
            "count": 0
           },
           {
            "bin_start": 2198,
            "bin_end": 2512,
            "count": 0
           },
           {
            "bin_start": 2512,
            "bin_end": 2826,
            "count": 0
           },
           {
            "bin_start": 2826,
            "bin_end": 3140,
            "count": 1
           }
          ]
         }
        },
        {
         "name": "_deepnote_index_column",
         "dtype": "int64"
        }
       ],
       "rows_top": [
        {
         "index": "count",
         "value": 3140,
         "_deepnote_index_column": 0
        },
        {
         "index": "mean",
         "value": 23.542734814677825,
         "_deepnote_index_column": 1
        },
        {
         "index": "std",
         "value": 20.239064926678925,
         "_deepnote_index_column": 2
        },
        {
         "index": "min",
         "value": 0,
         "_deepnote_index_column": 3
        },
        {
         "index": "25%",
         "value": 10.851678858435228,
         "_deepnote_index_column": 4
        },
        {
         "index": "50%",
         "value": 19.68274448029754,
         "_deepnote_index_column": 5
        },
        {
         "index": "75%",
         "value": 29.578214390247595,
         "_deepnote_index_column": 6
        },
        {
         "index": "max",
         "value": 100.0000009714998,
         "_deepnote_index_column": 7
        }
       ],
       "rows_bottom": null
      },
      "text/plain": "   index        value\n0  count  3140.000000\n1   mean    23.542735\n2    std    20.239065\n3    min     0.000000\n4    25%    10.851679\n5    50%    19.682744\n6    75%    29.578214\n7    max   100.000001",
      "text/html": "<div>\n<style scoped>\n    .dataframe tbody tr th:only-of-type {\n        vertical-align: middle;\n    }\n\n    .dataframe tbody tr th {\n        vertical-align: top;\n    }\n\n    .dataframe thead th {\n        text-align: right;\n    }\n</style>\n<table border=\"1\" class=\"dataframe\">\n  <thead>\n    <tr style=\"text-align: right;\">\n      <th></th>\n      <th>index</th>\n      <th>value</th>\n    </tr>\n  </thead>\n  <tbody>\n    <tr>\n      <th>0</th>\n      <td>count</td>\n      <td>3140.000000</td>\n    </tr>\n    <tr>\n      <th>1</th>\n      <td>mean</td>\n      <td>23.542735</td>\n    </tr>\n    <tr>\n      <th>2</th>\n      <td>std</td>\n      <td>20.239065</td>\n    </tr>\n    <tr>\n      <th>3</th>\n      <td>min</td>\n      <td>0.000000</td>\n    </tr>\n    <tr>\n      <th>4</th>\n      <td>25%</td>\n      <td>10.851679</td>\n    </tr>\n    <tr>\n      <th>5</th>\n      <td>50%</td>\n      <td>19.682744</td>\n    </tr>\n    <tr>\n      <th>6</th>\n      <td>75%</td>\n      <td>29.578214</td>\n    </tr>\n    <tr>\n      <th>7</th>\n      <td>max</td>\n      <td>100.000001</td>\n    </tr>\n  </tbody>\n</table>\n</div>"
     },
     "metadata": {}
    }
   ],
   "execution_count": null
  },
  {
   "cell_type": "code",
   "metadata": {
    "tags": [],
    "cell_id": "00021-7482320b-e947-4d65-87eb-3a8b05278078",
    "deepnote_to_be_reexecuted": false,
    "source_hash": "e9ed98dc",
    "execution_start": 1638415370081,
    "execution_millis": 28,
    "deepnote_output_heights": [
     410.453125
    ],
    "deepnote_cell_type": "code"
   },
   "source": "# investigate 100% counties\nstate_counts = final_df[final_df.value>=100].state_y.value_counts().reset_index()\nstate_counts.columns = [\"State\", \"Count\"]\nstate_counts",
   "outputs": [
    {
     "output_type": "execute_result",
     "execution_count": 49,
     "data": {
      "application/vnd.deepnote.dataframe.v2+json": {
       "row_count": 13,
       "column_count": 2,
       "columns": [
        {
         "name": "State",
         "dtype": "object",
         "stats": {
          "unique_count": 13,
          "nan_count": 0,
          "categories": [
           {
            "name": "Nebraska",
            "count": 1
           },
           {
            "name": "Texas",
            "count": 1
           },
           {
            "name": "11 others",
            "count": 11
           }
          ]
         }
        },
        {
         "name": "Count",
         "dtype": "int64",
         "stats": {
          "unique_count": 5,
          "nan_count": 0,
          "min": "1",
          "max": "7",
          "histogram": [
           {
            "bin_start": 1,
            "bin_end": 1.6,
            "count": 7
           },
           {
            "bin_start": 1.6,
            "bin_end": 2.2,
            "count": 1
           },
           {
            "bin_start": 2.2,
            "bin_end": 2.8,
            "count": 0
           },
           {
            "bin_start": 2.8,
            "bin_end": 3.4,
            "count": 3
           },
           {
            "bin_start": 3.4,
            "bin_end": 4,
            "count": 0
           },
           {
            "bin_start": 4,
            "bin_end": 4.6,
            "count": 0
           },
           {
            "bin_start": 4.6,
            "bin_end": 5.2,
            "count": 0
           },
           {
            "bin_start": 5.2,
            "bin_end": 5.8,
            "count": 0
           },
           {
            "bin_start": 5.8,
            "bin_end": 6.3999999999999995,
            "count": 1
           },
           {
            "bin_start": 6.3999999999999995,
            "bin_end": 7,
            "count": 1
           }
          ]
         }
        },
        {
         "name": "_deepnote_index_column",
         "dtype": "int64"
        }
       ],
       "rows_top": [
        {
         "State": "Nebraska",
         "Count": 7,
         "_deepnote_index_column": 0
        },
        {
         "State": "Texas",
         "Count": 6,
         "_deepnote_index_column": 1
        },
        {
         "State": "South Dakota",
         "Count": 3,
         "_deepnote_index_column": 2
        },
        {
         "State": "Montana",
         "Count": 3,
         "_deepnote_index_column": 3
        },
        {
         "State": "Kansas",
         "Count": 3,
         "_deepnote_index_column": 4
        },
        {
         "State": "New Mexico",
         "Count": 2,
         "_deepnote_index_column": 5
        },
        {
         "State": "Utah",
         "Count": 1,
         "_deepnote_index_column": 6
        },
        {
         "State": "Virginia",
         "Count": 1,
         "_deepnote_index_column": 7
        },
        {
         "State": "Colorado",
         "Count": 1,
         "_deepnote_index_column": 8
        },
        {
         "State": "Nevada",
         "Count": 1,
         "_deepnote_index_column": 9
        },
        {
         "State": "North Dakota",
         "Count": 1,
         "_deepnote_index_column": 10
        },
        {
         "State": "Alaska",
         "Count": 1,
         "_deepnote_index_column": 11
        },
        {
         "State": "Idaho",
         "Count": 1,
         "_deepnote_index_column": 12
        }
       ],
       "rows_bottom": null
      },
      "text/plain": "           State  Count\n0       Nebraska      7\n1          Texas      6\n2   South Dakota      3\n3        Montana      3\n4         Kansas      3\n5     New Mexico      2\n6           Utah      1\n7       Virginia      1\n8       Colorado      1\n9         Nevada      1\n10  North Dakota      1\n11        Alaska      1\n12         Idaho      1",
      "text/html": "<div>\n<style scoped>\n    .dataframe tbody tr th:only-of-type {\n        vertical-align: middle;\n    }\n\n    .dataframe tbody tr th {\n        vertical-align: top;\n    }\n\n    .dataframe thead th {\n        text-align: right;\n    }\n</style>\n<table border=\"1\" class=\"dataframe\">\n  <thead>\n    <tr style=\"text-align: right;\">\n      <th></th>\n      <th>State</th>\n      <th>Count</th>\n    </tr>\n  </thead>\n  <tbody>\n    <tr>\n      <th>0</th>\n      <td>Nebraska</td>\n      <td>7</td>\n    </tr>\n    <tr>\n      <th>1</th>\n      <td>Texas</td>\n      <td>6</td>\n    </tr>\n    <tr>\n      <th>2</th>\n      <td>South Dakota</td>\n      <td>3</td>\n    </tr>\n    <tr>\n      <th>3</th>\n      <td>Montana</td>\n      <td>3</td>\n    </tr>\n    <tr>\n      <th>4</th>\n      <td>Kansas</td>\n      <td>3</td>\n    </tr>\n    <tr>\n      <th>5</th>\n      <td>New Mexico</td>\n      <td>2</td>\n    </tr>\n    <tr>\n      <th>6</th>\n      <td>Utah</td>\n      <td>1</td>\n    </tr>\n    <tr>\n      <th>7</th>\n      <td>Virginia</td>\n      <td>1</td>\n    </tr>\n    <tr>\n      <th>8</th>\n      <td>Colorado</td>\n      <td>1</td>\n    </tr>\n    <tr>\n      <th>9</th>\n      <td>Nevada</td>\n      <td>1</td>\n    </tr>\n    <tr>\n      <th>10</th>\n      <td>North Dakota</td>\n      <td>1</td>\n    </tr>\n    <tr>\n      <th>11</th>\n      <td>Alaska</td>\n      <td>1</td>\n    </tr>\n    <tr>\n      <th>12</th>\n      <td>Idaho</td>\n      <td>1</td>\n    </tr>\n  </tbody>\n</table>\n</div>"
     },
     "metadata": {}
    }
   ],
   "execution_count": null
  },
  {
   "cell_type": "code",
   "metadata": {
    "tags": [],
    "cell_id": "00020-43c44987-014f-4d03-83aa-b801b8c6e4b1",
    "deepnote_to_be_reexecuted": false,
    "source_hash": "c768f204",
    "execution_start": 1638414393053,
    "execution_millis": 363,
    "deepnote_output_heights": [
     370.96875
    ],
    "deepnote_cell_type": "code"
   },
   "source": "sns.displot(data=final_df, x=\"mortality\", kind=\"kde\")\nplt.title(\"Mortality Rate for Cardiovascular Diseases PDF (2010)\")\nplt.xlabel(\"Mortality Rate (per 100k)\")\nplt.show()",
   "outputs": [
    {
     "data": {
      "text/plain": "<Figure size 360x360 with 1 Axes>",
      "image/png": "[encoded data removed]"
     },
     "metadata": {
      "image/png": {
       "width": 405,
       "height": 369
      }
     },
     "output_type": "display_data"
    }
   ],
   "execution_count": null
  },
  {
   "cell_type": "code",
   "metadata": {
    "tags": [],
    "cell_id": "00024-8a5209d4-9762-464b-97c7-670e262ee5c5",
    "deepnote_to_be_reexecuted": false,
    "source_hash": "ffef2eb3",
    "execution_start": 1638415642375,
    "execution_millis": 23,
    "deepnote_cell_type": "code"
   },
   "source": "# descriptive stats\nfinal_df.mortality.describe().reset_index()",
   "outputs": [
    {
     "output_type": "execute_result",
     "execution_count": 50,
     "data": {
      "application/vnd.deepnote.dataframe.v2+json": {
       "row_count": 8,
       "column_count": 2,
       "columns": [
        {
         "name": "index",
         "dtype": "object",
         "stats": {
          "unique_count": 8,
          "nan_count": 0,
          "categories": [
           {
            "name": "count",
            "count": 1
           },
           {
            "name": "mean",
            "count": 1
           },
           {
            "name": "6 others",
            "count": 6
           }
          ]
         }
        },
        {
         "name": "mortality",
         "dtype": "float64",
         "stats": {
          "unique_count": 8,
          "nan_count": 0,
          "min": "56.24136889146806",
          "max": "3140.0",
          "histogram": [
           {
            "bin_start": 56.24136889146806,
            "bin_end": 364.61723200232126,
            "count": 6
           },
           {
            "bin_start": 364.61723200232126,
            "bin_end": 672.9930951131744,
            "count": 1
           },
           {
            "bin_start": 672.9930951131744,
            "bin_end": 981.3689582240276,
            "count": 0
           },
           {
            "bin_start": 981.3689582240276,
            "bin_end": 1289.7448213348807,
            "count": 0
           },
           {
            "bin_start": 1289.7448213348807,
            "bin_end": 1598.1206844457338,
            "count": 0
           },
           {
            "bin_start": 1598.1206844457338,
            "bin_end": 1906.496547556587,
            "count": 0
           },
           {
            "bin_start": 1906.496547556587,
            "bin_end": 2214.8724106674404,
            "count": 0
           },
           {
            "bin_start": 2214.8724106674404,
            "bin_end": 2523.2482737782934,
            "count": 0
           },
           {
            "bin_start": 2523.2482737782934,
            "bin_end": 2831.6241368891465,
            "count": 0
           },
           {
            "bin_start": 2831.6241368891465,
            "bin_end": 3140,
            "count": 1
           }
          ]
         }
        },
        {
         "name": "_deepnote_index_column",
         "dtype": "int64"
        }
       ],
       "rows_top": [
        {
         "index": "count",
         "mortality": 3140,
         "_deepnote_index_column": 0
        },
        {
         "index": "mean",
         "mortality": 278.4165191082802,
         "_deepnote_index_column": 1
        },
        {
         "index": "std",
         "mortality": 56.24136889146806,
         "_deepnote_index_column": 2
        },
        {
         "index": "min",
         "mortality": 79.29,
         "_deepnote_index_column": 3
        },
        {
         "index": "25%",
         "mortality": 237.4,
         "_deepnote_index_column": 4
        },
        {
         "index": "50%",
         "mortality": 273.175,
         "_deepnote_index_column": 5
        },
        {
         "index": "75%",
         "mortality": 314.72999999999996,
         "_deepnote_index_column": 6
        },
        {
         "index": "max",
         "mortality": 539.93,
         "_deepnote_index_column": 7
        }
       ],
       "rows_bottom": null
      },
      "text/plain": "   index    mortality\n0  count  3140.000000\n1   mean   278.416519\n2    std    56.241369\n3    min    79.290000\n4    25%   237.400000\n5    50%   273.175000\n6    75%   314.730000\n7    max   539.930000",
      "text/html": "<div>\n<style scoped>\n    .dataframe tbody tr th:only-of-type {\n        vertical-align: middle;\n    }\n\n    .dataframe tbody tr th {\n        vertical-align: top;\n    }\n\n    .dataframe thead th {\n        text-align: right;\n    }\n</style>\n<table border=\"1\" class=\"dataframe\">\n  <thead>\n    <tr style=\"text-align: right;\">\n      <th></th>\n      <th>index</th>\n      <th>mortality</th>\n    </tr>\n  </thead>\n  <tbody>\n    <tr>\n      <th>0</th>\n      <td>count</td>\n      <td>3140.000000</td>\n    </tr>\n    <tr>\n      <th>1</th>\n      <td>mean</td>\n      <td>278.416519</td>\n    </tr>\n    <tr>\n      <th>2</th>\n      <td>std</td>\n      <td>56.241369</td>\n    </tr>\n    <tr>\n      <th>3</th>\n      <td>min</td>\n      <td>79.290000</td>\n    </tr>\n    <tr>\n      <th>4</th>\n      <td>25%</td>\n      <td>237.400000</td>\n    </tr>\n    <tr>\n      <th>5</th>\n      <td>50%</td>\n      <td>273.175000</td>\n    </tr>\n    <tr>\n      <th>6</th>\n      <td>75%</td>\n      <td>314.730000</td>\n    </tr>\n    <tr>\n      <th>7</th>\n      <td>max</td>\n      <td>539.930000</td>\n    </tr>\n  </tbody>\n</table>\n</div>"
     },
     "metadata": {}
    }
   ],
   "execution_count": null
  },
  {
   "cell_type": "code",
   "metadata": {
    "tags": [],
    "cell_id": "00021-a4e6e067-1ce1-4b0c-99e9-6c1c82a7582c",
    "deepnote_to_be_reexecuted": false,
    "source_hash": "3057f14b",
    "execution_start": 1638414263172,
    "execution_millis": 1278,
    "deepnote_output_heights": [
     425.96875
    ],
    "deepnote_cell_type": "code"
   },
   "source": "j = sns.jointplot(data=final_df, x=\"value\", y=\"mortality\", kind=\"reg\")\nj.set_axis_labels('Low Access To Store (%)', 'Mortality Rate (per 100k)', fontsize=12)\nplt.show()",
   "outputs": [
    {
     "data": {
      "text/plain": "<Figure size 432x432 with 3 Axes>",
      "image/png": "[encoded data removed]"
     },
     "metadata": {
      "image/png": {
       "width": 427,
       "height": 424
      }
     },
     "output_type": "display_data"
    }
   ],
   "execution_count": null
  },
  {
   "cell_type": "code",
   "metadata": {
    "tags": [],
    "cell_id": "00022-2b1c93af-6de4-455e-9e50-76b784feb9e9",
    "deepnote_to_be_reexecuted": false,
    "source_hash": "e9ac1178",
    "execution_start": 1638415723386,
    "execution_millis": 12,
    "deepnote_cell_type": "code"
   },
   "source": "# save data\nfinal_df.to_csv(\"modeling_data.csv\", index=False)",
   "outputs": [],
   "execution_count": null
  },
  {
   "cell_type": "code",
   "metadata": {
    "tags": [],
    "cell_id": "00027-4d30ad07-1494-4959-ad11-a8d41e001ac7",
    "deepnote_cell_type": "code"
   },
   "source": "",
   "outputs": [],
   "execution_count": null
  },
  {
   "cell_type": "markdown",
   "source": "<a style='text-decoration:none;line-height:16px;display:flex;color:#5B5B62;padding:10px;justify-content:end;' href='https://deepnote.com?utm_source=created-in-deepnote-cell&projectId=a805a7fe-fe3d-44c2-a936-f271a2a4c12f' target=\"_blank\">\n<img alt='Created in deepnote.com' style='display:inline;max-height:16px;margin:0px;margin-right:7.5px;' src='data:image/svg+xml;base64,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' > </img>\nCreated in <span style='font-weight:600;margin-left:4px;'>Deepnote</span></a>",
   "metadata": {
    "tags": [],
    "created_in_deepnote_cell": true,
    "deepnote_cell_type": "markdown"
   }
  }
 ],
 "nbformat": 4,
 "nbformat_minor": 5,
 "metadata": {
  "kernelspec": {
   "display_name": "Python 3",
   "language": "python",
   "name": "python3"
  },
  "language_info": {
   "codemirror_mode": {
    "name": "ipython",
    "version": 3
   },
   "file_extension": ".py",
   "mimetype": "text/x-python",
   "name": "python",
   "nbconvert_exporter": "python",
   "pygments_lexer": "ipython3",
   "version": "3.8.8"
  },
  "deepnote_notebook_id": "428a2204-4fa0-44be-801f-b2620bff569b",
  "deepnote": {},
  "deepnote_execution_queue": []
 }
}