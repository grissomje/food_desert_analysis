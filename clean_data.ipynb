{
 "cells": [
  {
   "cell_type": "markdown",
   "source": "### Food Access Data",
   "metadata": {
    "tags": [],
    "cell_id": "00000-fe41fd87-f2c1-41a7-9c8c-91ed6ed9f691",
    "deepnote_cell_type": "markdown"
   }
  },
  {
   "cell_type": "markdown",
   "source": "#### Import packages",
   "metadata": {
    "tags": [],
    "cell_id": "00000-9d92a5c2-ddf0-4a88-b846-4b5cc0895ffd",
    "deepnote_cell_type": "markdown"
   }
  },
  {
   "cell_type": "code",
   "metadata": {
    "tags": [],
    "cell_id": "00000-465f9d50-bd13-4561-82c0-2f0fde6c3739",
    "deepnote_to_be_reexecuted": false,
    "source_hash": "8fbbf1a2",
    "execution_start": 1638398269981,
    "execution_millis": 1,
    "deepnote_cell_type": "code"
   },
   "source": "import pandas as pd\nimport re",
   "outputs": [],
   "execution_count": null
  },
  {
   "cell_type": "markdown",
   "source": "#### Defining helper functions",
   "metadata": {
    "tags": [],
    "cell_id": "00002-2300ecc0-0170-42d0-b042-9f045e24228c",
    "deepnote_cell_type": "markdown"
   }
  },
  {
   "cell_type": "code",
   "metadata": {
    "tags": [],
    "cell_id": "00001-c11981e0-6b5f-44a5-8057-a34ecdbff0cf",
    "deepnote_to_be_reexecuted": false,
    "source_hash": "6c03de44",
    "execution_start": 1638398299610,
    "execution_millis": 3,
    "deepnote_cell_type": "code"
   },
   "source": "def extract_date(x: str) -> str:\n    \"\"\"\n    @param x: string that contains the date\n    @output: string of year (yyyy)\n    \"\"\"\n    try:\n        year = '20'+str(re.findall(r'\\d\\d$', x)[0])\n    except:\n        try:\n            year = str(re.findall(r'\\d\\d\\d\\d$', x)[0])\n        except:\n            year = str(re.findall(r'^\\d\\d\\d\\d', x)[0])\n\n    return year\n\ndef extract_indicator(x: str) -> str:\n    \"\"\"\n    @param x: string that contains the indicator\n    @output: string of indicator\n    \"\"\"\n    ind = re.sub(r'^\\d\\d\\d\\d_', '', x)\n    ind = re.sub(r'_\\d\\d\\d\\d$', '', ind)\n    ind = re.sub(r'\\d\\d$', '', ind)\n            \n    return ind",
   "outputs": [],
   "execution_count": null
  },
  {
   "cell_type": "code",
   "metadata": {
    "tags": [],
    "cell_id": "00001-c4fb1814-98fb-415d-9fb6-75715b682662",
    "deepnote_to_be_reexecuted": false,
    "source_hash": "fd55e310",
    "execution_start": 1638398302485,
    "execution_millis": 148,
    "deepnote_cell_type": "code"
   },
   "source": "# reading file\nfood = pd.read_csv('/datasets/usc-drive/DSO 510 - Food Deserts/food_access.csv').drop(\"Unnamed: 0\", axis=1)",
   "outputs": [],
   "execution_count": null
  },
  {
   "cell_type": "code",
   "metadata": {
    "tags": [],
    "cell_id": "00002-ef4062a5-b632-47b9-8f0a-cbbc46d49902",
    "deepnote_to_be_reexecuted": false,
    "source_hash": "a7fbfec6",
    "execution_start": 1638398303368,
    "execution_millis": 1,
    "deepnote_cell_type": "code"
   },
   "source": "# removing percent change columns as they can be computed from other data\nperc_change_cols = [col for col in list(food.columns) if len(re.findall(r'\\d\\d_\\d\\d$', col)) > 0]\nfood.drop(perc_change_cols, axis=1, inplace=True) ",
   "outputs": [],
   "execution_count": null
  },
  {
   "cell_type": "code",
   "metadata": {
    "tags": [],
    "cell_id": "00003-a174e6de-e8a6-41ad-8c7c-85dfb51fc82a",
    "deepnote_to_be_reexecuted": false,
    "source_hash": "9726f2ee",
    "execution_start": 1638398305586,
    "execution_millis": 52,
    "deepnote_cell_type": "code"
   },
   "source": "# wide to long format\nfood = food.melt(id_vars=[\"FIPS\", \"State_x\", \"County_x\"], \n                    var_name=\"Indicator\", \n                    value_name=\"Value\") ",
   "outputs": [],
   "execution_count": null
  },
  {
   "cell_type": "code",
   "metadata": {
    "tags": [],
    "cell_id": "00005-c8296ff5-4173-4a80-be51-ad39bffd02ed",
    "deepnote_to_be_reexecuted": false,
    "source_hash": "d3766e39",
    "execution_start": 1638398306084,
    "execution_millis": 4145,
    "deepnote_cell_type": "code"
   },
   "source": "# apply helper functions\nfood['year'] = food['Indicator'].apply(lambda x: extract_date(x))\nfood['indicator'] = food['Indicator'].apply(lambda x: extract_indicator(x))",
   "outputs": [],
   "execution_count": null
  },
  {
   "cell_type": "code",
   "metadata": {
    "tags": [],
    "cell_id": "00006-3929c27e-3cbd-46a7-94ea-364271d35425",
    "deepnote_to_be_reexecuted": false,
    "source_hash": "fc9c93e",
    "execution_start": 1638397828581,
    "execution_millis": 93,
    "deepnote_cell_type": "code"
   },
   "source": "# filtering columns\nfood = food[['FIPS', 'State_x', 'County_x', 'indicator', 'year', 'Value']]\nfood.columns = ['fips', 'state', 'county', 'indicator', 'year', 'value']",
   "outputs": [],
   "execution_count": null
  },
  {
   "cell_type": "code",
   "metadata": {
    "tags": [],
    "cell_id": "00007-28cfef83-ece0-413d-aa08-dd3179507917",
    "deepnote_cell_type": "code"
   },
   "source": "# saving result\nfood.to_excel(\"/datasets/usc-drive/DSO 510 - Food Deserts/clean_food_access.xlsx\", index=False)",
   "outputs": [],
   "execution_count": null
  },
  {
   "cell_type": "markdown",
   "source": "### Health Data",
   "metadata": {
    "tags": [],
    "cell_id": "00011-9b49641d-ddf0-42d2-9450-22eddd921230",
    "deepnote_cell_type": "markdown"
   }
  },
  {
   "cell_type": "markdown",
   "source": "##### Define functions",
   "metadata": {
    "tags": [],
    "cell_id": "00012-53a3e7cd-f1c7-43a9-8307-e6b001f3e87b",
    "deepnote_cell_type": "markdown"
   }
  },
  {
   "cell_type": "code",
   "metadata": {
    "tags": [],
    "cell_id": "00009-edc38c74-b4e1-4fb6-b0ba-802367ae3bcf",
    "deepnote_to_be_reexecuted": false,
    "source_hash": "d9afc262",
    "execution_start": 1638398946745,
    "execution_millis": 1,
    "deepnote_cell_type": "code"
   },
   "source": "def merge_health_data(path: str) -> pd.DataFrame:\n    \"\"\"\n    @param path: path to Excel file w health data\n    @output: one dataframe in long format with fips ID column\n    \"\"\"\n    global df\n    sheet_to_df_map = pd.read_excel(path, sheet_name=None, engine='openpyxl')\n\n    for idx, key in enumerate(list(sheet_to_df_map.keys())):\n        print(f'On sheet {idx+1}/{len(list(sheet_to_df_map.keys()))}', end='\\r')\n        temp = pd.read_excel(path, sheet_name=key, engine='openpyxl', skiprows=1)\n\n        # remove states & header rows\n        temp = temp[temp['FIPS'] >= 1000]\n        # separate state & county into 2 columns\n        temp[['county', 'state']] = temp.loc[:,'Location'].str.split(', ', 1, expand=True)\n        # clean & reshape data\n        temp = temp.drop('Location', axis=1) \\\n            .melt(id_vars=[\"FIPS\", \"state\", \"county\"], \n                    var_name=\"Date\", \n                    value_name=\"Value\") \\\n            .query(\"Date.str.contains('Change')==False\")\n\n        temp[\"mortality\"] = temp.Value.apply(lambda x: float(x.split(' ')[0]))\n        temp[\"lower_95\"] = temp.Value.apply(lambda x: float(x.split(' ')[1].replace('(', '').replace(',', '')))\n        temp[\"upper_95\"] = temp.Value.apply(lambda x: float(x.split(' ')[2].replace(')', '')))\n        temp['year'] = temp.Date.apply(lambda x: int(x.split(',')[1].replace('*', '')))\n        temp = temp[['FIPS', 'state', 'county', 'year', \"mortality\", \"lower_95\", \"upper_95\"]]\n        temp['disease'] = key\n        \n        # initialize result in 1st iteration, concat after\n        if idx == 0:\n            df = temp\n        else:\n            temp = temp[[col for col in temp.columns if 'county' not in col and 'state' not in col]]\n            df = pd.concat([df, temp], axis=0)\n            \n    #write back to path      \n    df.to_excel(\"/\".join(s.split('/')[:-1]) + \"/health_data_clean.xlsx\", index=False)\n\n    return f'Wrote result back to {\"/\".join(s.split(\"/\")[:-1]) + \"/health_data_clean.xlsx\"}'\n     \n",
   "outputs": [],
   "execution_count": null
  },
  {
   "cell_type": "markdown",
   "source": "##### Run function ",
   "metadata": {
    "tags": [],
    "cell_id": "00014-e65fbd08-38eb-4df3-ae18-18fe2b8397eb",
    "deepnote_cell_type": "markdown"
   }
  },
  {
   "cell_type": "code",
   "metadata": {
    "tags": [],
    "cell_id": "00014-8b086f81-d3dc-4dd3-a62e-4b2cd3667bd3",
    "deepnote_cell_type": "code"
   },
   "source": "merge_health_data('/datasets/usc-drive/DSO 510 - Food Deserts/IHME_USA_COUNTY_CVD_MORTALITY_RATES_1980_2014_NATIONAL_Y2017M05D16.XLSX')",
   "outputs": [],
   "execution_count": null
  },
  {
   "cell_type": "markdown",
   "source": "<a style='text-decoration:none;line-height:16px;display:flex;color:#5B5B62;padding:10px;justify-content:end;' href='https://deepnote.com?utm_source=created-in-deepnote-cell&projectId=a805a7fe-fe3d-44c2-a936-f271a2a4c12f' target=\"_blank\">\n<img alt='Created in deepnote.com' style='display:inline;max-height:16px;margin:0px;margin-right:7.5px;' src='data:image/svg+xml;base64,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' > </img>\nCreated in <span style='font-weight:600;margin-left:4px;'>Deepnote</span></a>",
   "metadata": {
    "tags": [],
    "created_in_deepnote_cell": true,
    "deepnote_cell_type": "markdown"
   }
  }
 ],
 "nbformat": 4,
 "nbformat_minor": 2,
 "metadata": {
  "orig_nbformat": 2,
  "deepnote": {
   "is_reactive": false
  },
  "deepnote_notebook_id": "4992c5c7-ad68-428b-b97f-3f53feec2dcb",
  "deepnote_execution_queue": []
 }
}